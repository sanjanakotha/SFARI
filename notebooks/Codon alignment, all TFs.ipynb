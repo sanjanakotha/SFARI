{
 "cells": [
  {
   "cell_type": "code",
   "execution_count": 1,
   "id": "105b52c5-133d-4c01-90e0-49667ed8cc77",
   "metadata": {},
   "outputs": [
    {
     "name": "stderr",
     "output_type": "stream",
     "text": [
      "Matplotlib is building the font cache; this may take a moment.\n"
     ]
    }
   ],
   "source": [
    "import pandas as pd\n",
    "\n",
    "import protfasta\n",
    "import requests\n",
    "import re\n",
    "import warnings\n",
    "warnings.filterwarnings(\"ignore\")\n",
    "import glob\n",
    "\n",
    "\n",
    "from Bio import AlignIO\n",
    "import matplotlib.pyplot as plt\n",
    "\n",
    "from Bio.Align import MultipleSeqAlignment\n",
    "from Bio.SeqRecord import SeqRecord\n",
    "from Bio.Seq import Seq\n",
    "\n",
    "import rich\n",
    "from rich_msa import RichAlignment\n",
    "\n",
    "import logomaker\n",
    "\n",
    "#Import modules\n",
    "import gzip, logomaker, matplotlib.pyplot as plt, numpy as np, os, pandas as pd, protfasta\n",
    "\n",
    "\n",
    "import seaborn as sns\n",
    "import warnings\n",
    "warnings.filterwarnings(\"ignore\")\n"
   ]
  },
  {
   "cell_type": "markdown",
   "id": "2a4cf3d5-e75c-4e57-ad28-1dc472e6b519",
   "metadata": {},
   "source": [
    "# 1. Downloading codon alignments for all TFs with ADs"
   ]
  },
  {
   "cell_type": "markdown",
   "id": "868cdd50-c104-40c7-9008-ea60299579a6",
   "metadata": {},
   "source": [
    "First, converting uniprotIDs to all possible ENSTs."
   ]
  },
  {
   "cell_type": "code",
   "execution_count": 3,
   "id": "b801bc70-ac35-469b-b8da-211e3f4e9f4e",
   "metadata": {
    "scrolled": true
   },
   "outputs": [
    {
     "name": "stdout",
     "output_type": "stream",
     "text": [
      "579 uniprotIDs\n"
     ]
    }
   ],
   "source": [
    "known_ADs = pd.read_csv(\"../output/known_ADs_considering_isoforms_and_canonical.csv\")\n",
    "uniprotIDs_with_ADs = set(known_ADs[\"uniprotID\"])\n",
    "print(str(len(uniprotIDs_with_ADs)) + \" uniprotIDs\")"
   ]
  },
  {
   "cell_type": "code",
   "execution_count": 3,
   "id": "fa5e7824-7656-4cd0-be85-a748df43c266",
   "metadata": {},
   "outputs": [
    {
     "name": "stdout",
     "output_type": "stream",
     "text": [
      "0\n",
      "25\n",
      "50\n",
      "75\n",
      "100\n",
      "125\n",
      "150\n",
      "175\n",
      "200\n",
      "225\n",
      "250\n",
      "275\n",
      "300\n",
      "325\n",
      "350\n",
      "375\n",
      "400\n",
      "425\n",
      "450\n",
      "475\n",
      "500\n",
      "525\n",
      "550\n",
      "575\n"
     ]
    }
   ],
   "source": [
    "# Slow to run\n",
    "\n",
    "# Uniprot API to get canonical uniprot ID isoform for consistency\n",
    "def get_canonical_uniprot_id(uniprot_id):\n",
    "    url = f\"https://rest.uniprot.org/uniprotkb/{uniprot_id}.json\"\n",
    "    response = requests.get(url)\n",
    "    if response.status_code == 200:\n",
    "        data = response.json()\n",
    "        regex_matches = re.findall(r\"'isoformIds': \\['(.*?)'\\]\", str(data))\n",
    "        if len(regex_matches) == 0:\n",
    "            return uniprotID\n",
    "        return(regex_matches[0])\n",
    "    else:\n",
    "        return f\"Error: {response.status_code}\"\n",
    "\n",
    "i = 0\n",
    "isoform_ids = []\n",
    "for uniprotID in uniprotIDs_with_ADs:\n",
    "    if \"-\" in uniprotID:\n",
    "        isoform_ids.append(uniprotID) # Already an isoform\n",
    "    else:\n",
    "        isoform_ids.append(get_canonical_uniprot_id(uniprotID))\n",
    "    \n",
    "    if i %25 == 0:\n",
    "        print(i)\n",
    "    i += 1"
   ]
  },
  {
   "cell_type": "code",
   "execution_count": 5,
   "id": "0d35a1bd-04b1-4c2e-a02d-0cc2ad7cab60",
   "metadata": {},
   "outputs": [
    {
     "data": {
      "text/plain": [
       "579"
      ]
     },
     "execution_count": 5,
     "metadata": {},
     "output_type": "execute_result"
    }
   ],
   "source": [
    "len(isoform_ids) # Should be 579"
   ]
  },
  {
   "cell_type": "code",
   "execution_count": 60,
   "id": "37a11529-6feb-44ec-9bcc-d6fcee334766",
   "metadata": {},
   "outputs": [
    {
     "data": {
      "text/html": [
       "<div>\n",
       "<style scoped>\n",
       "    .dataframe tbody tr th:only-of-type {\n",
       "        vertical-align: middle;\n",
       "    }\n",
       "\n",
       "    .dataframe tbody tr th {\n",
       "        vertical-align: top;\n",
       "    }\n",
       "\n",
       "    .dataframe thead th {\n",
       "        text-align: right;\n",
       "    }\n",
       "</style>\n",
       "<table border=\"1\" class=\"dataframe\">\n",
       "  <thead>\n",
       "    <tr style=\"text-align: right;\">\n",
       "      <th></th>\n",
       "      <th>0</th>\n",
       "    </tr>\n",
       "  </thead>\n",
       "  <tbody>\n",
       "    <tr>\n",
       "      <th>0</th>\n",
       "      <td>Q96JB3-1</td>\n",
       "    </tr>\n",
       "    <tr>\n",
       "      <th>1</th>\n",
       "      <td>Q8NHW3</td>\n",
       "    </tr>\n",
       "    <tr>\n",
       "      <th>2</th>\n",
       "      <td>Q9UKD1</td>\n",
       "    </tr>\n",
       "    <tr>\n",
       "      <th>3</th>\n",
       "      <td>P41743</td>\n",
       "    </tr>\n",
       "    <tr>\n",
       "      <th>4</th>\n",
       "      <td>P28324-1</td>\n",
       "    </tr>\n",
       "    <tr>\n",
       "      <th>...</th>\n",
       "      <td>...</td>\n",
       "    </tr>\n",
       "    <tr>\n",
       "      <th>574</th>\n",
       "      <td>P19793-1</td>\n",
       "    </tr>\n",
       "    <tr>\n",
       "      <th>575</th>\n",
       "      <td>Q9HCS4</td>\n",
       "    </tr>\n",
       "    <tr>\n",
       "      <th>576</th>\n",
       "      <td>P14651-1</td>\n",
       "    </tr>\n",
       "    <tr>\n",
       "      <th>577</th>\n",
       "      <td>Q9UBR4-1</td>\n",
       "    </tr>\n",
       "    <tr>\n",
       "      <th>578</th>\n",
       "      <td>Q6N021-1</td>\n",
       "    </tr>\n",
       "  </tbody>\n",
       "</table>\n",
       "<p>579 rows × 1 columns</p>\n",
       "</div>"
      ],
      "text/plain": [
       "            0\n",
       "0    Q96JB3-1\n",
       "1      Q8NHW3\n",
       "2      Q9UKD1\n",
       "3      P41743\n",
       "4    P28324-1\n",
       "..        ...\n",
       "574  P19793-1\n",
       "575    Q9HCS4\n",
       "576  P14651-1\n",
       "577  Q9UBR4-1\n",
       "578  Q6N021-1\n",
       "\n",
       "[579 rows x 1 columns]"
      ]
     },
     "execution_count": 60,
     "metadata": {},
     "output_type": "execute_result"
    }
   ],
   "source": [
    "# downloading ids to map to 1) ENSTs and 2) gene names\n",
    "isoform_ids_df = pd.DataFrame(isoform_ids).drop_duplicates()\n",
    "isoform_ids_df[0] = isoform_ids_df[0].str.split(\"'\").str[0]\n",
    "isoform_ids_df.to_csv(\"../data/AD_uniprotIDs.csv\", header = None, index = None)\n",
    "isoform_ids_df"
   ]
  },
  {
   "cell_type": "code",
   "execution_count": null,
   "id": "214a11aa-8814-4e8a-b7d9-0c071b036a90",
   "metadata": {},
   "outputs": [],
   "source": [
    "# 564 matches to uniprot entries"
   ]
  },
  {
   "cell_type": "code",
   "execution_count": 5,
   "id": "8d3496dc-2441-44f1-8e08-1de247d744de",
   "metadata": {},
   "outputs": [
    {
     "data": {
      "text/html": [
       "<div>\n",
       "<style scoped>\n",
       "    .dataframe tbody tr th:only-of-type {\n",
       "        vertical-align: middle;\n",
       "    }\n",
       "\n",
       "    .dataframe tbody tr th {\n",
       "        vertical-align: top;\n",
       "    }\n",
       "\n",
       "    .dataframe thead th {\n",
       "        text-align: right;\n",
       "    }\n",
       "</style>\n",
       "<table border=\"1\" class=\"dataframe\">\n",
       "  <thead>\n",
       "    <tr style=\"text-align: right;\">\n",
       "      <th></th>\n",
       "      <th>From</th>\n",
       "      <th>Entry</th>\n",
       "      <th>Gene Names</th>\n",
       "      <th>Ensembl</th>\n",
       "      <th>gene</th>\n",
       "    </tr>\n",
       "  </thead>\n",
       "  <tbody>\n",
       "    <tr>\n",
       "      <th>0</th>\n",
       "      <td>A6NJG6</td>\n",
       "      <td>A6NJG6</td>\n",
       "      <td>ARGFX</td>\n",
       "      <td>ENST00000334384.5;ENST00000651603.1;</td>\n",
       "      <td>ARGFX</td>\n",
       "    </tr>\n",
       "    <tr>\n",
       "      <th>1</th>\n",
       "      <td>A8MTJ6</td>\n",
       "      <td>A8MTJ6</td>\n",
       "      <td>FOXI3</td>\n",
       "      <td>ENST00000428390.3;</td>\n",
       "      <td>FOXI3</td>\n",
       "    </tr>\n",
       "    <tr>\n",
       "      <th>2</th>\n",
       "      <td>A8MW92-1</td>\n",
       "      <td>A8MW92</td>\n",
       "      <td>PHF20L1 CGI-72</td>\n",
       "      <td>ENST00000337920.8 [A8MW92-2];ENST00000395386.7...</td>\n",
       "      <td>PHF20L1</td>\n",
       "    </tr>\n",
       "    <tr>\n",
       "      <th>3</th>\n",
       "      <td>A8MYZ6</td>\n",
       "      <td>A8MYZ6</td>\n",
       "      <td>FOXO6</td>\n",
       "      <td>ENST00000641094.2;</td>\n",
       "      <td>FOXO6</td>\n",
       "    </tr>\n",
       "    <tr>\n",
       "      <th>4</th>\n",
       "      <td>A8MZ59-2</td>\n",
       "      <td>A8MZ59</td>\n",
       "      <td>LEUTX</td>\n",
       "      <td>ENST00000396841.4 [A8MZ59-1];ENST00000629267.1...</td>\n",
       "      <td>LEUTX</td>\n",
       "    </tr>\n",
       "    <tr>\n",
       "      <th>...</th>\n",
       "      <td>...</td>\n",
       "      <td>...</td>\n",
       "      <td>...</td>\n",
       "      <td>...</td>\n",
       "      <td>...</td>\n",
       "    </tr>\n",
       "    <tr>\n",
       "      <th>559</th>\n",
       "      <td>Q9Y692-1</td>\n",
       "      <td>Q9Y692</td>\n",
       "      <td>GMEB1</td>\n",
       "      <td>ENST00000294409.2 [Q9Y692-1];ENST00000361872.8...</td>\n",
       "      <td>GMEB1</td>\n",
       "    </tr>\n",
       "    <tr>\n",
       "      <th>560</th>\n",
       "      <td>Q9Y6F1-1</td>\n",
       "      <td>Q9Y6F1</td>\n",
       "      <td>PARP3 ADPRT3 ADPRTL3</td>\n",
       "      <td>ENST00000398755.8 [Q9Y6F1-1];ENST00000417220.6...</td>\n",
       "      <td>PARP3</td>\n",
       "    </tr>\n",
       "    <tr>\n",
       "      <th>561</th>\n",
       "      <td>Q9Y6J9</td>\n",
       "      <td>Q9Y6J9</td>\n",
       "      <td>TAF6L PAF65A</td>\n",
       "      <td>ENST00000294168.8;</td>\n",
       "      <td>TAF6L</td>\n",
       "    </tr>\n",
       "    <tr>\n",
       "      <th>562</th>\n",
       "      <td>Q9Y6Q9-1</td>\n",
       "      <td>Q9Y6Q9</td>\n",
       "      <td>NCOA3 AIB1 BHLHE42 RAC3 TRAM1</td>\n",
       "      <td>ENST00000371997.3 [Q9Y6Q9-3];ENST00000371998.8...</td>\n",
       "      <td>NCOA3</td>\n",
       "    </tr>\n",
       "    <tr>\n",
       "      <th>563</th>\n",
       "      <td>Q9Y6Y1-1</td>\n",
       "      <td>Q9Y6Y1</td>\n",
       "      <td>CAMTA1 KIAA0833 MSTP023</td>\n",
       "      <td>ENST00000303635.12 [Q9Y6Y1-1];ENST00000473578....</td>\n",
       "      <td>CAMTA1</td>\n",
       "    </tr>\n",
       "  </tbody>\n",
       "</table>\n",
       "<p>564 rows × 5 columns</p>\n",
       "</div>"
      ],
      "text/plain": [
       "         From   Entry                     Gene Names  \\\n",
       "0      A6NJG6  A6NJG6                          ARGFX   \n",
       "1      A8MTJ6  A8MTJ6                          FOXI3   \n",
       "2    A8MW92-1  A8MW92                 PHF20L1 CGI-72   \n",
       "3      A8MYZ6  A8MYZ6                          FOXO6   \n",
       "4    A8MZ59-2  A8MZ59                          LEUTX   \n",
       "..        ...     ...                            ...   \n",
       "559  Q9Y692-1  Q9Y692                          GMEB1   \n",
       "560  Q9Y6F1-1  Q9Y6F1           PARP3 ADPRT3 ADPRTL3   \n",
       "561    Q9Y6J9  Q9Y6J9                   TAF6L PAF65A   \n",
       "562  Q9Y6Q9-1  Q9Y6Q9  NCOA3 AIB1 BHLHE42 RAC3 TRAM1   \n",
       "563  Q9Y6Y1-1  Q9Y6Y1        CAMTA1 KIAA0833 MSTP023   \n",
       "\n",
       "                                               Ensembl     gene  \n",
       "0                 ENST00000334384.5;ENST00000651603.1;    ARGFX  \n",
       "1                                   ENST00000428390.3;    FOXI3  \n",
       "2    ENST00000337920.8 [A8MW92-2];ENST00000395386.7...  PHF20L1  \n",
       "3                                   ENST00000641094.2;    FOXO6  \n",
       "4    ENST00000396841.4 [A8MZ59-1];ENST00000629267.1...    LEUTX  \n",
       "..                                                 ...      ...  \n",
       "559  ENST00000294409.2 [Q9Y692-1];ENST00000361872.8...    GMEB1  \n",
       "560  ENST00000398755.8 [Q9Y6F1-1];ENST00000417220.6...    PARP3  \n",
       "561                                 ENST00000294168.8;    TAF6L  \n",
       "562  ENST00000371997.3 [Q9Y6Q9-3];ENST00000371998.8...    NCOA3  \n",
       "563  ENST00000303635.12 [Q9Y6Y1-1];ENST00000473578....   CAMTA1  \n",
       "\n",
       "[564 rows x 5 columns]"
      ]
     },
     "execution_count": 5,
     "metadata": {},
     "output_type": "execute_result"
    }
   ],
   "source": [
    "# Loading in the table of ensembl matches\n",
    "ensembl_matches = pd.read_csv(\"../data/AD_uniprotIDs_to_ENST_gene.tsv\", sep = \"\\t\")\n",
    "ensembl_matches[\"gene\"] = ensembl_matches[\"Gene Names\"].str.split(\" \").str[0]\n",
    "ensembl_matches"
   ]
  },
  {
   "cell_type": "code",
   "execution_count": 12,
   "id": "0a4d83a1-dd22-4cda-93ed-e244225d2537",
   "metadata": {},
   "outputs": [
    {
     "data": {
      "text/html": [
       "<div>\n",
       "<style scoped>\n",
       "    .dataframe tbody tr th:only-of-type {\n",
       "        vertical-align: middle;\n",
       "    }\n",
       "\n",
       "    .dataframe tbody tr th {\n",
       "        vertical-align: top;\n",
       "    }\n",
       "\n",
       "    .dataframe thead th {\n",
       "        text-align: right;\n",
       "    }\n",
       "</style>\n",
       "<table border=\"1\" class=\"dataframe\">\n",
       "  <thead>\n",
       "    <tr style=\"text-align: right;\">\n",
       "      <th></th>\n",
       "      <th>uniprotID</th>\n",
       "      <th>ENST</th>\n",
       "    </tr>\n",
       "  </thead>\n",
       "  <tbody>\n",
       "    <tr>\n",
       "      <th>0</th>\n",
       "      <td>A6NJG6</td>\n",
       "      <td>ENST00000334384</td>\n",
       "    </tr>\n",
       "    <tr>\n",
       "      <th>0</th>\n",
       "      <td>A6NJG6</td>\n",
       "      <td>ENST00000651603</td>\n",
       "    </tr>\n",
       "    <tr>\n",
       "      <th>1</th>\n",
       "      <td>A8MTJ6</td>\n",
       "      <td>ENST00000428390</td>\n",
       "    </tr>\n",
       "    <tr>\n",
       "      <th>3</th>\n",
       "      <td>A8MYZ6</td>\n",
       "      <td>ENST00000641094</td>\n",
       "    </tr>\n",
       "    <tr>\n",
       "      <th>12</th>\n",
       "      <td>O00570</td>\n",
       "      <td>ENST00000330949</td>\n",
       "    </tr>\n",
       "    <tr>\n",
       "      <th>...</th>\n",
       "      <td>...</td>\n",
       "      <td>...</td>\n",
       "    </tr>\n",
       "    <tr>\n",
       "      <th>553</th>\n",
       "      <td>Q9Y4B4</td>\n",
       "      <td>ENST00000684192</td>\n",
       "    </tr>\n",
       "    <tr>\n",
       "      <th>555</th>\n",
       "      <td>Q9Y4Z2</td>\n",
       "      <td>ENST00000242462</td>\n",
       "    </tr>\n",
       "    <tr>\n",
       "      <th>556</th>\n",
       "      <td>Q9Y5Q3</td>\n",
       "      <td>ENST00000373313</td>\n",
       "    </tr>\n",
       "    <tr>\n",
       "      <th>558</th>\n",
       "      <td>Q9Y5W3</td>\n",
       "      <td>ENST00000248071</td>\n",
       "    </tr>\n",
       "    <tr>\n",
       "      <th>561</th>\n",
       "      <td>Q9Y6J9</td>\n",
       "      <td>ENST00000294168</td>\n",
       "    </tr>\n",
       "  </tbody>\n",
       "</table>\n",
       "<p>296 rows × 2 columns</p>\n",
       "</div>"
      ],
      "text/plain": [
       "    uniprotID             ENST\n",
       "0      A6NJG6  ENST00000334384\n",
       "0      A6NJG6  ENST00000651603\n",
       "1      A8MTJ6  ENST00000428390\n",
       "3      A8MYZ6  ENST00000641094\n",
       "12     O00570  ENST00000330949\n",
       "..        ...              ...\n",
       "553    Q9Y4B4  ENST00000684192\n",
       "555    Q9Y4Z2  ENST00000242462\n",
       "556    Q9Y5Q3  ENST00000373313\n",
       "558    Q9Y5W3  ENST00000248071\n",
       "561    Q9Y6J9  ENST00000294168\n",
       "\n",
       "[296 rows x 2 columns]"
      ]
     },
     "execution_count": 12,
     "metadata": {},
     "output_type": "execute_result"
    }
   ],
   "source": [
    "# Looking at uniprotIDs that do not have multiple isoforms\n",
    "non_isoforms = ensembl_matches[ensembl_matches[\"Ensembl\"].str.contains(\"\\[\") == False]\n",
    "non_isoforms['Ensembl'] = non_isoforms['Ensembl'].str.split(\";\").str[:-1]\n",
    "non_isoforms = non_isoforms.explode('Ensembl')\n",
    "\n",
    "# Arbitrarily choosing the first transcript to keep \n",
    "# since all of the transcripts correspond to the same protein\n",
    "#non_isoforms['ENST'] = non_isoforms['Ensembl'].str[0]\n",
    "\n",
    "# Formatting\n",
    "non_isoforms = non_isoforms.rename(columns = {\"From\" : \"uniprotID\", \"Ensembl\" : \"ENST\"})\n",
    "non_isoforms = non_isoforms[[\"uniprotID\", \"ENST\"]]\n",
    "non_isoforms[\"ENST\"] = non_isoforms[\"ENST\"].str.split(\".\").str[0]\n",
    "non_isoforms"
   ]
  },
  {
   "cell_type": "code",
   "execution_count": 13,
   "id": "7fe49c52-422e-4526-aecb-afca5896a846",
   "metadata": {},
   "outputs": [
    {
     "data": {
      "text/html": [
       "<div>\n",
       "<style scoped>\n",
       "    .dataframe tbody tr th:only-of-type {\n",
       "        vertical-align: middle;\n",
       "    }\n",
       "\n",
       "    .dataframe tbody tr th {\n",
       "        vertical-align: top;\n",
       "    }\n",
       "\n",
       "    .dataframe thead th {\n",
       "        text-align: right;\n",
       "    }\n",
       "</style>\n",
       "<table border=\"1\" class=\"dataframe\">\n",
       "  <thead>\n",
       "    <tr style=\"text-align: right;\">\n",
       "      <th></th>\n",
       "      <th>uniprotID</th>\n",
       "      <th>ENST</th>\n",
       "    </tr>\n",
       "  </thead>\n",
       "  <tbody>\n",
       "    <tr>\n",
       "      <th>2</th>\n",
       "      <td>A8MW92-2</td>\n",
       "      <td>ENST00000337920</td>\n",
       "    </tr>\n",
       "    <tr>\n",
       "      <th>2</th>\n",
       "      <td>A8MW92-1</td>\n",
       "      <td>ENST00000395386</td>\n",
       "    </tr>\n",
       "    <tr>\n",
       "      <th>2</th>\n",
       "      <td>A8MW92-1</td>\n",
       "      <td>ENST00000622263</td>\n",
       "    </tr>\n",
       "    <tr>\n",
       "      <th>4</th>\n",
       "      <td>A8MZ59-1</td>\n",
       "      <td>ENST00000396841</td>\n",
       "    </tr>\n",
       "    <tr>\n",
       "      <th>4</th>\n",
       "      <td>A8MZ59-1</td>\n",
       "      <td>ENST00000629267</td>\n",
       "    </tr>\n",
       "    <tr>\n",
       "      <th>...</th>\n",
       "      <td>...</td>\n",
       "      <td>...</td>\n",
       "    </tr>\n",
       "    <tr>\n",
       "      <th>562</th>\n",
       "      <td>Q9Y6Q9-1</td>\n",
       "      <td>ENST00000371998</td>\n",
       "    </tr>\n",
       "    <tr>\n",
       "      <th>562</th>\n",
       "      <td>Q9Y6Q9-5</td>\n",
       "      <td>ENST00000372004</td>\n",
       "    </tr>\n",
       "    <tr>\n",
       "      <th>563</th>\n",
       "      <td>Q9Y6Y1-1</td>\n",
       "      <td>ENST00000303635</td>\n",
       "    </tr>\n",
       "    <tr>\n",
       "      <th>563</th>\n",
       "      <td>Q9Y6Y1-3</td>\n",
       "      <td>ENST00000473578</td>\n",
       "    </tr>\n",
       "    <tr>\n",
       "      <th>563</th>\n",
       "      <td>Q9Y6Y1-4</td>\n",
       "      <td>ENST00000557126</td>\n",
       "    </tr>\n",
       "  </tbody>\n",
       "</table>\n",
       "<p>1632 rows × 2 columns</p>\n",
       "</div>"
      ],
      "text/plain": [
       "    uniprotID             ENST\n",
       "2    A8MW92-2  ENST00000337920\n",
       "2    A8MW92-1  ENST00000395386\n",
       "2    A8MW92-1  ENST00000622263\n",
       "4    A8MZ59-1  ENST00000396841\n",
       "4    A8MZ59-1  ENST00000629267\n",
       "..        ...              ...\n",
       "562  Q9Y6Q9-1  ENST00000371998\n",
       "562  Q9Y6Q9-5  ENST00000372004\n",
       "563  Q9Y6Y1-1  ENST00000303635\n",
       "563  Q9Y6Y1-3  ENST00000473578\n",
       "563  Q9Y6Y1-4  ENST00000557126\n",
       "\n",
       "[1632 rows x 2 columns]"
      ]
     },
     "execution_count": 13,
     "metadata": {},
     "output_type": "execute_result"
    }
   ],
   "source": [
    "# Looking at uniprotIDs that have multiple isoforms\n",
    "multiple_isoforms = ensembl_matches[ensembl_matches[\"Ensembl\"].str.contains(\"\\[\") == True]\n",
    "multiple_isoforms[\"ENST\"] = multiple_isoforms[\"Ensembl\"].str.split(\";\")\n",
    "multiple_isoforms = multiple_isoforms[[\"ENST\"]].explode(\"ENST\")\n",
    "multiple_isoforms[\"uniprotID\"] = multiple_isoforms[\"ENST\"].str.extract(r'\\[(.*)\\]')\n",
    "multiple_isoforms[\"ENST\"] = multiple_isoforms[\"ENST\"].str.split(\".\").str[0]\n",
    "multiple_isoforms = multiple_isoforms.dropna()\n",
    "multiple_isoforms = multiple_isoforms[[\"uniprotID\", \"ENST\"]]\n",
    "multiple_isoforms"
   ]
  },
  {
   "cell_type": "code",
   "execution_count": 14,
   "id": "b8915c32-7972-472c-8ebc-e6c0d95f487a",
   "metadata": {},
   "outputs": [
    {
     "data": {
      "text/html": [
       "<div>\n",
       "<style scoped>\n",
       "    .dataframe tbody tr th:only-of-type {\n",
       "        vertical-align: middle;\n",
       "    }\n",
       "\n",
       "    .dataframe tbody tr th {\n",
       "        vertical-align: top;\n",
       "    }\n",
       "\n",
       "    .dataframe thead th {\n",
       "        text-align: right;\n",
       "    }\n",
       "</style>\n",
       "<table border=\"1\" class=\"dataframe\">\n",
       "  <thead>\n",
       "    <tr style=\"text-align: right;\">\n",
       "      <th></th>\n",
       "      <th>uniprotID</th>\n",
       "      <th>ENST</th>\n",
       "    </tr>\n",
       "  </thead>\n",
       "  <tbody>\n",
       "    <tr>\n",
       "      <th>0</th>\n",
       "      <td>A6NJG6</td>\n",
       "      <td>ENST00000334384</td>\n",
       "    </tr>\n",
       "    <tr>\n",
       "      <th>0</th>\n",
       "      <td>A6NJG6</td>\n",
       "      <td>ENST00000651603</td>\n",
       "    </tr>\n",
       "    <tr>\n",
       "      <th>1</th>\n",
       "      <td>A8MTJ6</td>\n",
       "      <td>ENST00000428390</td>\n",
       "    </tr>\n",
       "    <tr>\n",
       "      <th>3</th>\n",
       "      <td>A8MYZ6</td>\n",
       "      <td>ENST00000641094</td>\n",
       "    </tr>\n",
       "    <tr>\n",
       "      <th>12</th>\n",
       "      <td>O00570</td>\n",
       "      <td>ENST00000330949</td>\n",
       "    </tr>\n",
       "    <tr>\n",
       "      <th>...</th>\n",
       "      <td>...</td>\n",
       "      <td>...</td>\n",
       "    </tr>\n",
       "    <tr>\n",
       "      <th>562</th>\n",
       "      <td>Q9Y6Q9-1</td>\n",
       "      <td>ENST00000371998</td>\n",
       "    </tr>\n",
       "    <tr>\n",
       "      <th>562</th>\n",
       "      <td>Q9Y6Q9-5</td>\n",
       "      <td>ENST00000372004</td>\n",
       "    </tr>\n",
       "    <tr>\n",
       "      <th>563</th>\n",
       "      <td>Q9Y6Y1-1</td>\n",
       "      <td>ENST00000303635</td>\n",
       "    </tr>\n",
       "    <tr>\n",
       "      <th>563</th>\n",
       "      <td>Q9Y6Y1-3</td>\n",
       "      <td>ENST00000473578</td>\n",
       "    </tr>\n",
       "    <tr>\n",
       "      <th>563</th>\n",
       "      <td>Q9Y6Y1-4</td>\n",
       "      <td>ENST00000557126</td>\n",
       "    </tr>\n",
       "  </tbody>\n",
       "</table>\n",
       "<p>1928 rows × 2 columns</p>\n",
       "</div>"
      ],
      "text/plain": [
       "    uniprotID             ENST\n",
       "0      A6NJG6  ENST00000334384\n",
       "0      A6NJG6  ENST00000651603\n",
       "1      A8MTJ6  ENST00000428390\n",
       "3      A8MYZ6  ENST00000641094\n",
       "12     O00570  ENST00000330949\n",
       "..        ...              ...\n",
       "562  Q9Y6Q9-1  ENST00000371998\n",
       "562  Q9Y6Q9-5  ENST00000372004\n",
       "563  Q9Y6Y1-1  ENST00000303635\n",
       "563  Q9Y6Y1-3  ENST00000473578\n",
       "563  Q9Y6Y1-4  ENST00000557126\n",
       "\n",
       "[1928 rows x 2 columns]"
      ]
     },
     "execution_count": 14,
     "metadata": {},
     "output_type": "execute_result"
    }
   ],
   "source": [
    "# Combining to get all mappings\n",
    "all_mappings = pd.concat([non_isoforms, multiple_isoforms])\n",
    "all_mappings"
   ]
  },
  {
   "cell_type": "code",
   "execution_count": 15,
   "id": "78550411-1bf2-4178-888a-8ba58dbe1e3d",
   "metadata": {},
   "outputs": [
    {
     "ename": "NameError",
     "evalue": "name 'isoform_ids' is not defined",
     "output_type": "error",
     "traceback": [
      "\u001b[0;31m---------------------------------------------------------------------------\u001b[0m",
      "\u001b[0;31mNameError\u001b[0m                                 Traceback (most recent call last)",
      "Cell \u001b[0;32mIn[15], line 1\u001b[0m\n\u001b[0;32m----> 1\u001b[0m all_mappings[all_mappings[\u001b[38;5;124m\"\u001b[39m\u001b[38;5;124muniprotID\u001b[39m\u001b[38;5;124m\"\u001b[39m]\u001b[38;5;241m.\u001b[39misin(\u001b[43misoform_ids\u001b[49m)]\n",
      "\u001b[0;31mNameError\u001b[0m: name 'isoform_ids' is not defined"
     ]
    }
   ],
   "source": [
    "all_mappings[all_mappings[\"uniprotID\"].isin(isoform_ids)] # All mappings to try"
   ]
  },
  {
   "cell_type": "code",
   "execution_count": 36,
   "id": "820a4386-1a42-4473-bf52-bc4fa92072ba",
   "metadata": {
    "scrolled": true
   },
   "outputs": [],
   "source": [
    "uniprot_to_gene_dict = dict(zip(ensembl_matches[\"From\"], ensembl_matches[\"gene\"]))"
   ]
  },
  {
   "cell_type": "code",
   "execution_count": 77,
   "id": "f0db02ec-959c-4a2f-a02f-82ed28b765d2",
   "metadata": {},
   "outputs": [],
   "source": [
    "# Check every valid enst.gene mapping\n",
    "\n",
    "with open(\"../output/toga_commands.txt\", \"w\") as file:\n",
    "    for uniprotID in uniprot_to_gene_dict.keys():\n",
    "        uniprotID_ENSTs = all_mappings[all_mappings[\"uniprotID\"] == uniprotID][\"ENST\"]\n",
    "        #print(uniprotID)\n",
    "        gene = uniprot_to_gene_dict[uniprotID]\n",
    "        \n",
    "        for ENST in uniprotID_ENSTs:\n",
    "            command = \"wget --no-check-certificate https://genome.senckenberg.de/download/TOGA/human_hg38_reference/MultipleCodonAlignments/\" + ENST + \".\" + gene + \".fasta.gz -P /Users/sanjanakotha/Desktop/Staller_Lab/SFARI/data/zoonomia_toga_mca\"\n",
    "            file.write(command + \"\\n\")\n"
   ]
  },
  {
   "cell_type": "code",
   "execution_count": 78,
   "id": "da01d74d-fbf9-4866-ad19-7b0a7d1f82ca",
   "metadata": {},
   "outputs": [
    {
     "data": {
      "text/plain": [
       "564"
      ]
     },
     "execution_count": 78,
     "metadata": {},
     "output_type": "execute_result"
    }
   ],
   "source": [
    "len(uniprot_to_gene_dict)"
   ]
  },
  {
   "cell_type": "code",
   "execution_count": 79,
   "id": "e905d986-9584-4757-9a1e-67fb1aa93316",
   "metadata": {},
   "outputs": [],
   "source": [
    "# Succesfully downloaded 416 of the 546\n",
    "# Manually looking at a few below- ones not downloaded are cases where only non canonical isoform is included\n",
    "# Next time - could download any ENSTs available for the genes, translate, then look for AD sequences"
   ]
  },
  {
   "cell_type": "code",
   "execution_count": 84,
   "id": "d3f11eaf-7b59-4b9b-9057-10ba377f4dd1",
   "metadata": {},
   "outputs": [],
   "source": [
    "# Which TFs were not downloaded?\n",
    "downloaded_names = glob.glob(\"../data/zoonomia_toga_mca/ENST*\")\n",
    "downloaded_names = [_.split(\".\")[-2] for _ in downloaded_names]"
   ]
  },
  {
   "cell_type": "code",
   "execution_count": 92,
   "id": "f3112da2-5c8f-44d9-b1a2-d13616b5fa8b",
   "metadata": {},
   "outputs": [
    {
     "data": {
      "text/html": [
       "<div>\n",
       "<style scoped>\n",
       "    .dataframe tbody tr th:only-of-type {\n",
       "        vertical-align: middle;\n",
       "    }\n",
       "\n",
       "    .dataframe tbody tr th {\n",
       "        vertical-align: top;\n",
       "    }\n",
       "\n",
       "    .dataframe thead th {\n",
       "        text-align: right;\n",
       "    }\n",
       "</style>\n",
       "<table border=\"1\" class=\"dataframe\">\n",
       "  <thead>\n",
       "    <tr style=\"text-align: right;\">\n",
       "      <th></th>\n",
       "      <th>From</th>\n",
       "      <th>Entry</th>\n",
       "      <th>Gene Names</th>\n",
       "      <th>Ensembl</th>\n",
       "      <th>gene</th>\n",
       "    </tr>\n",
       "  </thead>\n",
       "  <tbody>\n",
       "    <tr>\n",
       "      <th>68</th>\n",
       "      <td>O95704-1</td>\n",
       "      <td>O95704</td>\n",
       "      <td>APBB3 FE65L2</td>\n",
       "      <td>ENST00000354402.9 [O95704-4];ENST00000356738.6...</td>\n",
       "      <td>APBB3</td>\n",
       "    </tr>\n",
       "  </tbody>\n",
       "</table>\n",
       "</div>"
      ],
      "text/plain": [
       "        From   Entry    Gene Names  \\\n",
       "68  O95704-1  O95704  APBB3 FE65L2   \n",
       "\n",
       "                                              Ensembl   gene  \n",
       "68  ENST00000354402.9 [O95704-4];ENST00000356738.6...  APBB3  "
      ]
     },
     "execution_count": 92,
     "metadata": {},
     "output_type": "execute_result"
    }
   ],
   "source": [
    "ensembl_matches[ensembl_matches[\"gene\"] == \"APBB3\"]"
   ]
  },
  {
   "cell_type": "code",
   "execution_count": 93,
   "id": "7685bfb5-33de-4e05-9b94-c5dcba9ef4d6",
   "metadata": {},
   "outputs": [
    {
     "data": {
      "text/html": [
       "<div>\n",
       "<style scoped>\n",
       "    .dataframe tbody tr th:only-of-type {\n",
       "        vertical-align: middle;\n",
       "    }\n",
       "\n",
       "    .dataframe tbody tr th {\n",
       "        vertical-align: top;\n",
       "    }\n",
       "\n",
       "    .dataframe thead th {\n",
       "        text-align: right;\n",
       "    }\n",
       "</style>\n",
       "<table border=\"1\" class=\"dataframe\">\n",
       "  <thead>\n",
       "    <tr style=\"text-align: right;\">\n",
       "      <th></th>\n",
       "      <th>uniprotID</th>\n",
       "      <th>ENST</th>\n",
       "    </tr>\n",
       "  </thead>\n",
       "  <tbody>\n",
       "    <tr>\n",
       "      <th>68</th>\n",
       "      <td>O95704-4</td>\n",
       "      <td>ENST00000354402</td>\n",
       "    </tr>\n",
       "    <tr>\n",
       "      <th>68</th>\n",
       "      <td>O95704-3</td>\n",
       "      <td>ENST00000356738</td>\n",
       "    </tr>\n",
       "    <tr>\n",
       "      <th>68</th>\n",
       "      <td>O95704-1</td>\n",
       "      <td>ENST00000357560</td>\n",
       "    </tr>\n",
       "    <tr>\n",
       "      <th>68</th>\n",
       "      <td>O95704-2</td>\n",
       "      <td>ENST00000412920</td>\n",
       "    </tr>\n",
       "    <tr>\n",
       "      <th>68</th>\n",
       "      <td>O95704-6</td>\n",
       "      <td>ENST00000467078</td>\n",
       "    </tr>\n",
       "    <tr>\n",
       "      <th>68</th>\n",
       "      <td>O95704-5</td>\n",
       "      <td>ENST00000509914</td>\n",
       "    </tr>\n",
       "  </tbody>\n",
       "</table>\n",
       "</div>"
      ],
      "text/plain": [
       "   uniprotID             ENST\n",
       "68  O95704-4  ENST00000354402\n",
       "68  O95704-3  ENST00000356738\n",
       "68  O95704-1  ENST00000357560\n",
       "68  O95704-2  ENST00000412920\n",
       "68  O95704-6  ENST00000467078\n",
       "68  O95704-5  ENST00000509914"
      ]
     },
     "execution_count": 93,
     "metadata": {},
     "output_type": "execute_result"
    }
   ],
   "source": [
    "all_mappings[all_mappings[\"uniprotID\"].str.contains(\"O95704\")]"
   ]
  },
  {
   "cell_type": "code",
   "execution_count": 94,
   "id": "b1bb7acc-486d-453b-a5a7-9d076084d8b2",
   "metadata": {
    "scrolled": true
   },
   "outputs": [
    {
     "data": {
      "text/plain": [
       "148"
      ]
     },
     "execution_count": 94,
     "metadata": {},
     "output_type": "execute_result"
    }
   ],
   "source": [
    "len(set(ensembl_matches[\"gene\"]) - set(downloaded_names))"
   ]
  },
  {
   "cell_type": "markdown",
   "id": "838ae59c-22de-4a9d-a56b-8fc012c3fbbe",
   "metadata": {},
   "source": [
    "# 2. Convert codon alignments to protein alignments"
   ]
  },
  {
   "cell_type": "code",
   "execution_count": 98,
   "id": "d8696e59-f094-4291-9066-667d9c51e68a",
   "metadata": {},
   "outputs": [],
   "source": [
    "files = glob.glob(\"../data/zoonomia_toga_mca/ENST*\")\n",
    "\n",
    "# Converting codon alignment to unaligned protein sequences\n",
    "for file in files:\n",
    "    # Read in as dataframe  \n",
    "    df = protfasta.read_fasta(file, invalid_sequence_action = 'convert') #Convert - to \"\"\n",
    "    df = pd.DataFrame({\"id\" : df.keys(), \"nt_seq\" : df.values()})\n",
    "\n",
    "    # Translate sequences\n",
    "    df[\"prot_seq\"] = [str(Seq(_).translate())[:-1] for _ in df[\"nt_seq\"]]\n",
    "\n",
    "    ENST = file.split(\"/\")[-1].split(\".\")[0]\n",
    "    gene =  file.split(\"/\")[-1].split(\".\")[1]\n",
    "\n",
    "    # Save protein sequences in dictionary\n",
    "    prot_dict = dict(zip(df[\"id\"], df[\"prot_seq\"]))\n",
    "    protfasta.write_fasta(prot_dict, \"../data/zoonomia_toga_mca/prot_fastas/\" + gene)\n",
    " "
   ]
  },
  {
   "cell_type": "markdown",
   "id": "432cc66e-d9bd-4334-bdaf-55e87dc32ce8",
   "metadata": {},
   "source": [
    "# 3. Run MAFFT on all protein sequences"
   ]
  },
  {
   "cell_type": "code",
   "execution_count": 99,
   "id": "281d6c8b-9f2d-43ef-a542-342b0b401236",
   "metadata": {},
   "outputs": [],
   "source": [
    "# Slow to run\n",
    "genes = [_.split(\".\")[-2] for _ in files]\n",
    "for gene in genes:\n",
    "    os.system(\"mafft --auto --quiet ../data/zoonomia_toga_mca/prot_fastas/\" + gene + \" > ../data/zoonomia_toga_mca/prot_alignments/\" + gene + \".fasta\")"
   ]
  },
  {
   "cell_type": "markdown",
   "id": "09239096-e3a4-46f2-aeaf-f8ddc539c123",
   "metadata": {},
   "source": []
  },
  {
   "cell_type": "markdown",
   "id": "b65f6a6d-66f9-47fb-ba36-55545457b382",
   "metadata": {},
   "source": [
    "# 1B. Follow up on 1 - GETTING REST OF SEQUENCES\n",
    "Which ADs did we miss?"
   ]
  },
  {
   "cell_type": "code",
   "execution_count": 24,
   "id": "28699912-7aaa-40da-9dd7-b91d3efced79",
   "metadata": {},
   "outputs": [
    {
     "data": {
      "text/html": [
       "<div>\n",
       "<style scoped>\n",
       "    .dataframe tbody tr th:only-of-type {\n",
       "        vertical-align: middle;\n",
       "    }\n",
       "\n",
       "    .dataframe tbody tr th {\n",
       "        vertical-align: top;\n",
       "    }\n",
       "\n",
       "    .dataframe thead th {\n",
       "        text-align: right;\n",
       "    }\n",
       "</style>\n",
       "<table border=\"1\" class=\"dataframe\">\n",
       "  <thead>\n",
       "    <tr style=\"text-align: right;\">\n",
       "      <th></th>\n",
       "      <th>From</th>\n",
       "      <th>Entry</th>\n",
       "      <th>Gene Names</th>\n",
       "      <th>Ensembl</th>\n",
       "      <th>gene</th>\n",
       "    </tr>\n",
       "  </thead>\n",
       "  <tbody>\n",
       "    <tr>\n",
       "      <th>0</th>\n",
       "      <td>A6NJG6</td>\n",
       "      <td>A6NJG6</td>\n",
       "      <td>ARGFX</td>\n",
       "      <td>ENST00000334384.5;ENST00000651603.1;</td>\n",
       "      <td>ARGFX</td>\n",
       "    </tr>\n",
       "    <tr>\n",
       "      <th>1</th>\n",
       "      <td>A8MTJ6</td>\n",
       "      <td>A8MTJ6</td>\n",
       "      <td>FOXI3</td>\n",
       "      <td>ENST00000428390.3;</td>\n",
       "      <td>FOXI3</td>\n",
       "    </tr>\n",
       "    <tr>\n",
       "      <th>2</th>\n",
       "      <td>A8MW92-1</td>\n",
       "      <td>A8MW92</td>\n",
       "      <td>PHF20L1 CGI-72</td>\n",
       "      <td>ENST00000337920.8 [A8MW92-2];ENST00000395386.7...</td>\n",
       "      <td>PHF20L1</td>\n",
       "    </tr>\n",
       "    <tr>\n",
       "      <th>3</th>\n",
       "      <td>A8MYZ6</td>\n",
       "      <td>A8MYZ6</td>\n",
       "      <td>FOXO6</td>\n",
       "      <td>ENST00000641094.2;</td>\n",
       "      <td>FOXO6</td>\n",
       "    </tr>\n",
       "    <tr>\n",
       "      <th>4</th>\n",
       "      <td>A8MZ59-2</td>\n",
       "      <td>A8MZ59</td>\n",
       "      <td>LEUTX</td>\n",
       "      <td>ENST00000396841.4 [A8MZ59-1];ENST00000629267.1...</td>\n",
       "      <td>LEUTX</td>\n",
       "    </tr>\n",
       "    <tr>\n",
       "      <th>...</th>\n",
       "      <td>...</td>\n",
       "      <td>...</td>\n",
       "      <td>...</td>\n",
       "      <td>...</td>\n",
       "      <td>...</td>\n",
       "    </tr>\n",
       "    <tr>\n",
       "      <th>559</th>\n",
       "      <td>Q9Y692-1</td>\n",
       "      <td>Q9Y692</td>\n",
       "      <td>GMEB1</td>\n",
       "      <td>ENST00000294409.2 [Q9Y692-1];ENST00000361872.8...</td>\n",
       "      <td>GMEB1</td>\n",
       "    </tr>\n",
       "    <tr>\n",
       "      <th>560</th>\n",
       "      <td>Q9Y6F1-1</td>\n",
       "      <td>Q9Y6F1</td>\n",
       "      <td>PARP3 ADPRT3 ADPRTL3</td>\n",
       "      <td>ENST00000398755.8 [Q9Y6F1-1];ENST00000417220.6...</td>\n",
       "      <td>PARP3</td>\n",
       "    </tr>\n",
       "    <tr>\n",
       "      <th>561</th>\n",
       "      <td>Q9Y6J9</td>\n",
       "      <td>Q9Y6J9</td>\n",
       "      <td>TAF6L PAF65A</td>\n",
       "      <td>ENST00000294168.8;</td>\n",
       "      <td>TAF6L</td>\n",
       "    </tr>\n",
       "    <tr>\n",
       "      <th>562</th>\n",
       "      <td>Q9Y6Q9-1</td>\n",
       "      <td>Q9Y6Q9</td>\n",
       "      <td>NCOA3 AIB1 BHLHE42 RAC3 TRAM1</td>\n",
       "      <td>ENST00000371997.3 [Q9Y6Q9-3];ENST00000371998.8...</td>\n",
       "      <td>NCOA3</td>\n",
       "    </tr>\n",
       "    <tr>\n",
       "      <th>563</th>\n",
       "      <td>Q9Y6Y1-1</td>\n",
       "      <td>Q9Y6Y1</td>\n",
       "      <td>CAMTA1 KIAA0833 MSTP023</td>\n",
       "      <td>ENST00000303635.12 [Q9Y6Y1-1];ENST00000473578....</td>\n",
       "      <td>CAMTA1</td>\n",
       "    </tr>\n",
       "  </tbody>\n",
       "</table>\n",
       "<p>564 rows × 5 columns</p>\n",
       "</div>"
      ],
      "text/plain": [
       "         From   Entry                     Gene Names  \\\n",
       "0      A6NJG6  A6NJG6                          ARGFX   \n",
       "1      A8MTJ6  A8MTJ6                          FOXI3   \n",
       "2    A8MW92-1  A8MW92                 PHF20L1 CGI-72   \n",
       "3      A8MYZ6  A8MYZ6                          FOXO6   \n",
       "4    A8MZ59-2  A8MZ59                          LEUTX   \n",
       "..        ...     ...                            ...   \n",
       "559  Q9Y692-1  Q9Y692                          GMEB1   \n",
       "560  Q9Y6F1-1  Q9Y6F1           PARP3 ADPRT3 ADPRTL3   \n",
       "561    Q9Y6J9  Q9Y6J9                   TAF6L PAF65A   \n",
       "562  Q9Y6Q9-1  Q9Y6Q9  NCOA3 AIB1 BHLHE42 RAC3 TRAM1   \n",
       "563  Q9Y6Y1-1  Q9Y6Y1        CAMTA1 KIAA0833 MSTP023   \n",
       "\n",
       "                                               Ensembl     gene  \n",
       "0                 ENST00000334384.5;ENST00000651603.1;    ARGFX  \n",
       "1                                   ENST00000428390.3;    FOXI3  \n",
       "2    ENST00000337920.8 [A8MW92-2];ENST00000395386.7...  PHF20L1  \n",
       "3                                   ENST00000641094.2;    FOXO6  \n",
       "4    ENST00000396841.4 [A8MZ59-1];ENST00000629267.1...    LEUTX  \n",
       "..                                                 ...      ...  \n",
       "559  ENST00000294409.2 [Q9Y692-1];ENST00000361872.8...    GMEB1  \n",
       "560  ENST00000398755.8 [Q9Y6F1-1];ENST00000417220.6...    PARP3  \n",
       "561                                 ENST00000294168.8;    TAF6L  \n",
       "562  ENST00000371997.3 [Q9Y6Q9-3];ENST00000371998.8...    NCOA3  \n",
       "563  ENST00000303635.12 [Q9Y6Y1-1];ENST00000473578....   CAMTA1  \n",
       "\n",
       "[564 rows x 5 columns]"
      ]
     },
     "execution_count": 24,
     "metadata": {},
     "output_type": "execute_result"
    }
   ],
   "source": [
    "ensembl_matches"
   ]
  },
  {
   "cell_type": "code",
   "execution_count": 25,
   "id": "fb05ec28-3180-408b-adcc-efc26de07d62",
   "metadata": {},
   "outputs": [
    {
     "data": {
      "text/plain": [
       "['../data/zoonomia_toga_mca/ENST00000359842.RXRG.fasta',\n",
       " '../data/zoonomia_toga_mca/ENST00000357992.ELK4.fasta',\n",
       " '../data/zoonomia_toga_mca/ENST00000595661.ZNF473.fasta']"
      ]
     },
     "execution_count": 25,
     "metadata": {},
     "output_type": "execute_result"
    }
   ],
   "source": [
    "downloaded_paths = glob.glob(\"../data/zoonomia_toga_mca/ENST*\")\n",
    "downloaded_paths[:3]"
   ]
  },
  {
   "cell_type": "code",
   "execution_count": 26,
   "id": "070dbf61-0bb9-496f-8d5b-fec357272239",
   "metadata": {},
   "outputs": [
    {
     "data": {
      "text/plain": [
       "['RXRG', 'ELK4', 'ZNF473']"
      ]
     },
     "execution_count": 26,
     "metadata": {},
     "output_type": "execute_result"
    }
   ],
   "source": [
    "downloaded_genes = [_.split(\".\")[-2] for _ in downloaded_paths]\n",
    "downloaded_genes[:3]"
   ]
  },
  {
   "cell_type": "code",
   "execution_count": 27,
   "id": "e71d26ec-c599-47e7-95ec-58a0bff82a67",
   "metadata": {},
   "outputs": [
    {
     "data": {
      "text/html": [
       "<div>\n",
       "<style scoped>\n",
       "    .dataframe tbody tr th:only-of-type {\n",
       "        vertical-align: middle;\n",
       "    }\n",
       "\n",
       "    .dataframe tbody tr th {\n",
       "        vertical-align: top;\n",
       "    }\n",
       "\n",
       "    .dataframe thead th {\n",
       "        text-align: right;\n",
       "    }\n",
       "</style>\n",
       "<table border=\"1\" class=\"dataframe\">\n",
       "  <thead>\n",
       "    <tr style=\"text-align: right;\">\n",
       "      <th></th>\n",
       "      <th>From</th>\n",
       "      <th>Entry</th>\n",
       "      <th>Gene Names</th>\n",
       "      <th>Ensembl</th>\n",
       "      <th>gene</th>\n",
       "    </tr>\n",
       "  </thead>\n",
       "  <tbody>\n",
       "    <tr>\n",
       "      <th>7</th>\n",
       "      <td>O00255-2</td>\n",
       "      <td>O00255</td>\n",
       "      <td>MEN1 SCG2</td>\n",
       "      <td>ENST00000312049.11 [O00255-2];ENST00000315422....</td>\n",
       "      <td>MEN1</td>\n",
       "    </tr>\n",
       "    <tr>\n",
       "      <th>8</th>\n",
       "      <td>O00321-1</td>\n",
       "      <td>O00321</td>\n",
       "      <td>ETV2 ER71 ETSRP71</td>\n",
       "      <td>ENST00000379026.6 [O00321-2];ENST00000402764.6...</td>\n",
       "      <td>ETV2</td>\n",
       "    </tr>\n",
       "    <tr>\n",
       "      <th>9</th>\n",
       "      <td>O00327-2</td>\n",
       "      <td>O00327</td>\n",
       "      <td>BMAL1 ARNTL BHLHE5 MOP3 PASD3</td>\n",
       "      <td>ENST00000389707.8 [O00327-8];ENST00000401424.6...</td>\n",
       "      <td>BMAL1</td>\n",
       "    </tr>\n",
       "    <tr>\n",
       "      <th>10</th>\n",
       "      <td>O00470-1</td>\n",
       "      <td>O00470</td>\n",
       "      <td>MEIS1</td>\n",
       "      <td>ENST00000272369.14 [O00470-1];ENST00000398506....</td>\n",
       "      <td>MEIS1</td>\n",
       "    </tr>\n",
       "    <tr>\n",
       "      <th>17</th>\n",
       "      <td>O14686-1</td>\n",
       "      <td>O14686</td>\n",
       "      <td>KMT2D ALR MLL2 MLL4</td>\n",
       "      <td>ENST00000301067.12 [O14686-1];ENST00000685166....</td>\n",
       "      <td>KMT2D</td>\n",
       "    </tr>\n",
       "    <tr>\n",
       "      <th>...</th>\n",
       "      <td>...</td>\n",
       "      <td>...</td>\n",
       "      <td>...</td>\n",
       "      <td>...</td>\n",
       "      <td>...</td>\n",
       "    </tr>\n",
       "    <tr>\n",
       "      <th>522</th>\n",
       "      <td>Q9UGU0-1</td>\n",
       "      <td>Q9UGU0</td>\n",
       "      <td>TCF20 KIAA0292 SPBP</td>\n",
       "      <td>ENST00000335626.8 [Q9UGU0-2];ENST00000359486.8...</td>\n",
       "      <td>TCF20</td>\n",
       "    </tr>\n",
       "    <tr>\n",
       "      <th>529</th>\n",
       "      <td>Q9UKW6-1</td>\n",
       "      <td>Q9UKW6</td>\n",
       "      <td>ELF5 ESE2</td>\n",
       "      <td>ENST00000257832.7 [Q9UKW6-2];ENST00000312319.6...</td>\n",
       "      <td>ELF5</td>\n",
       "    </tr>\n",
       "    <tr>\n",
       "      <th>531</th>\n",
       "      <td>Q9UL68-1</td>\n",
       "      <td>Q9UL68</td>\n",
       "      <td>MYT1L KIAA1106</td>\n",
       "      <td>ENST00000399161.8 [Q9UL68-4];ENST00000407844.6...</td>\n",
       "      <td>MYT1L</td>\n",
       "    </tr>\n",
       "    <tr>\n",
       "      <th>543</th>\n",
       "      <td>Q9Y261-1</td>\n",
       "      <td>Q9Y261</td>\n",
       "      <td>FOXA2 HNF3B TCF3B</td>\n",
       "      <td>ENST00000377115.4 [Q9Y261-1];ENST00000419308.7...</td>\n",
       "      <td>FOXA2</td>\n",
       "    </tr>\n",
       "    <tr>\n",
       "      <th>551</th>\n",
       "      <td>Q9Y4A5-1</td>\n",
       "      <td>Q9Y4A5</td>\n",
       "      <td>TRRAP PAF400</td>\n",
       "      <td>ENST00000355540.7 [Q9Y4A5-2];ENST00000359863.8...</td>\n",
       "      <td>TRRAP</td>\n",
       "    </tr>\n",
       "  </tbody>\n",
       "</table>\n",
       "<p>148 rows × 5 columns</p>\n",
       "</div>"
      ],
      "text/plain": [
       "         From   Entry                     Gene Names  \\\n",
       "7    O00255-2  O00255                      MEN1 SCG2   \n",
       "8    O00321-1  O00321              ETV2 ER71 ETSRP71   \n",
       "9    O00327-2  O00327  BMAL1 ARNTL BHLHE5 MOP3 PASD3   \n",
       "10   O00470-1  O00470                          MEIS1   \n",
       "17   O14686-1  O14686            KMT2D ALR MLL2 MLL4   \n",
       "..        ...     ...                            ...   \n",
       "522  Q9UGU0-1  Q9UGU0            TCF20 KIAA0292 SPBP   \n",
       "529  Q9UKW6-1  Q9UKW6                      ELF5 ESE2   \n",
       "531  Q9UL68-1  Q9UL68                 MYT1L KIAA1106   \n",
       "543  Q9Y261-1  Q9Y261              FOXA2 HNF3B TCF3B   \n",
       "551  Q9Y4A5-1  Q9Y4A5                   TRRAP PAF400   \n",
       "\n",
       "                                               Ensembl   gene  \n",
       "7    ENST00000312049.11 [O00255-2];ENST00000315422....   MEN1  \n",
       "8    ENST00000379026.6 [O00321-2];ENST00000402764.6...   ETV2  \n",
       "9    ENST00000389707.8 [O00327-8];ENST00000401424.6...  BMAL1  \n",
       "10   ENST00000272369.14 [O00470-1];ENST00000398506....  MEIS1  \n",
       "17   ENST00000301067.12 [O14686-1];ENST00000685166....  KMT2D  \n",
       "..                                                 ...    ...  \n",
       "522  ENST00000335626.8 [Q9UGU0-2];ENST00000359486.8...  TCF20  \n",
       "529  ENST00000257832.7 [Q9UKW6-2];ENST00000312319.6...   ELF5  \n",
       "531  ENST00000399161.8 [Q9UL68-4];ENST00000407844.6...  MYT1L  \n",
       "543  ENST00000377115.4 [Q9Y261-1];ENST00000419308.7...  FOXA2  \n",
       "551  ENST00000355540.7 [Q9Y4A5-2];ENST00000359863.8...  TRRAP  \n",
       "\n",
       "[148 rows x 5 columns]"
      ]
     },
     "execution_count": 27,
     "metadata": {},
     "output_type": "execute_result"
    }
   ],
   "source": [
    "missed_genes = ensembl_matches[~ensembl_matches[\"gene\"].isin(downloaded_genes)]\n",
    "missed_genes"
   ]
  },
  {
   "cell_type": "code",
   "execution_count": 29,
   "id": "5e9e6a50-a5ea-4363-90f5-a9a923a6caa7",
   "metadata": {},
   "outputs": [],
   "source": [
    "# For these, will try every ENST option!"
   ]
  },
  {
   "cell_type": "code",
   "execution_count": 40,
   "id": "0ede5c2a-1182-46f4-afa7-924fd2ecfdee",
   "metadata": {},
   "outputs": [],
   "source": [
    "import os\n",
    "import requests\n",
    "from bs4 import BeautifulSoup\n",
    "from urllib.parse import urljoin\n"
   ]
  },
  {
   "cell_type": "code",
   "execution_count": 41,
   "id": "267cce54-546d-46b7-8f6b-46f4185db50a",
   "metadata": {},
   "outputs": [],
   "source": [
    "base_url = \"https://genome.senckenberg.de/download/TOGA/human_hg38_reference/MultipleCodonAlignments/\"\n"
   ]
  },
  {
   "cell_type": "code",
   "execution_count": 43,
   "id": "c9ef51e0-3b65-44ad-816b-f5c3e1934feb",
   "metadata": {},
   "outputs": [],
   "source": [
    "response = requests.get(base_url, verify = False)"
   ]
  },
  {
   "cell_type": "code",
   "execution_count": 52,
   "id": "5984a6e5-cef6-41bc-99b3-63cd4ebd81ff",
   "metadata": {},
   "outputs": [],
   "source": [
    "names = []\n",
    "\n",
    "# Check if the request was successful\n",
    "if response.status_code == 200:\n",
    "    # Parse the page content with BeautifulSoup\n",
    "    soup = BeautifulSoup(response.text, \"html.parser\")\n",
    "    \n",
    "    # Find all links (anchor tags with href attributes)\n",
    "    links = soup.find_all(\"a\", href=True)\n",
    "\n",
    "    for link in links:\n",
    "        for gene in missed_genes[\"gene\"]:\n",
    "            if gene in link['href']:\n",
    "                if str(link['href']).split(\".\")[-3] == gene:\n",
    "                    names.append(link['href'])\n",
    "            \n",
    "    # # Filter the links that contain 'ELP1' in their name\n",
    "    # elp1_files = [link['href'] for link in links if \"ELP1\" in link['href']]"
   ]
  },
  {
   "cell_type": "code",
   "execution_count": 54,
   "id": "75961310-140c-483e-811c-db0cece375bc",
   "metadata": {},
   "outputs": [
    {
     "data": {
      "text/plain": [
       "125"
      ]
     },
     "execution_count": 54,
     "metadata": {},
     "output_type": "execute_result"
    }
   ],
   "source": [
    "len(names)"
   ]
  },
  {
   "cell_type": "code",
   "execution_count": 55,
   "id": "83cdad2e-f611-47da-b625-781fda4616b4",
   "metadata": {},
   "outputs": [
    {
     "data": {
      "text/plain": [
       "['ENST00000226574.NFKB1.fasta.gz',\n",
       " 'ENST00000227163.SPI1.fasta.gz',\n",
       " 'ENST00000229022.VDR.fasta.gz']"
      ]
     },
     "execution_count": 55,
     "metadata": {},
     "output_type": "execute_result"
    }
   ],
   "source": [
    "names[:3]"
   ]
  },
  {
   "cell_type": "code",
   "execution_count": 60,
   "id": "b2030cae-95c6-412b-9674-299a7c45841d",
   "metadata": {},
   "outputs": [],
   "source": [
    "# Check every valid enst.gene mapping\n",
    "\n",
    "with open(\"../output/toga_commands_retry.txt\", \"w\") as file:\n",
    "    for name in names:\n",
    "        \n",
    "        for ENST in uniprotID_ENSTs:\n",
    "            command = \"wget --no-check-certificate https://genome.senckenberg.de/download/TOGA/human_hg38_reference/MultipleCodonAlignments/\" + name + \" -P /Users/sanjanakotha/Desktop/Staller_Lab/SFARI/data/zoonomia_toga_mca/wrong_isoforms_TF_seqs\"\n",
    "            file.write(command + \"\\n\")\n"
   ]
  },
  {
   "cell_type": "markdown",
   "id": "f98df0bf-2a49-4e38-a3c3-6790703d7499",
   "metadata": {},
   "source": [
    "Ran gunzip *.gz in directory to unzip everything"
   ]
  },
  {
   "cell_type": "markdown",
   "id": "afa3b0ad-6995-4119-b6be-14f10ed6500c",
   "metadata": {},
   "source": [
    "# 2A. Convert codon alignments to protein alignments"
   ]
  },
  {
   "cell_type": "code",
   "execution_count": 64,
   "id": "16a7ac01-28fa-43d9-ba14-5c390b1af305",
   "metadata": {},
   "outputs": [],
   "source": [
    "files = glob.glob(\"../data/zoonomia_toga_mca/wrong_isoforms_TF_seqs/ENST*\")\n",
    "\n",
    "# Converting codon alignment to unaligned protein sequences\n",
    "for file in files:\n",
    "    # Read in as dataframe  \n",
    "    df = protfasta.read_fasta(file, invalid_sequence_action = 'convert') #Convert - to \"\"\n",
    "    df = pd.DataFrame({\"id\" : df.keys(), \"nt_seq\" : df.values()})\n",
    "\n",
    "    # Translate sequences\n",
    "    df[\"prot_seq\"] = [str(Seq(_).translate())[:-1] for _ in df[\"nt_seq\"]]\n",
    "\n",
    "    ENST = file.split(\"/\")[-1].split(\".\")[0]\n",
    "    gene =  file.split(\"/\")[-1].split(\".\")[1]\n",
    "\n",
    "    # Save protein sequences in dictionary\n",
    "    prot_dict = dict(zip(df[\"id\"], df[\"prot_seq\"]))\n",
    "    protfasta.write_fasta(prot_dict, \"../data/zoonomia_toga_mca/prot_fastas_wrong_isoforms/\" + gene)\n",
    " "
   ]
  },
  {
   "cell_type": "markdown",
   "id": "5ed02d7d-785e-48a6-9c3c-17d8be3e0c96",
   "metadata": {},
   "source": [
    "# 3A. Run MAFFT"
   ]
  },
  {
   "cell_type": "code",
   "execution_count": 67,
   "id": "bc1332d5-afee-4e9e-a40b-5fbfa19698ea",
   "metadata": {},
   "outputs": [],
   "source": [
    "# Slow to run\n",
    "genes = [_.split(\".\")[-2] for _ in files]\n",
    "for gene in genes:\n",
    "    os.system(\"mafft --auto --quiet ../data/zoonomia_toga_mca/prot_fastas_wrong_isoforms/\" + gene + \" > ../data/zoonomia_toga_mca/prot_alignments_wrong_isoforms/\" + gene + \".fasta\")"
   ]
  },
  {
   "cell_type": "code",
   "execution_count": null,
   "id": "62f24469-8bfd-44f0-a8bb-cc16153e5d6c",
   "metadata": {},
   "outputs": [],
   "source": []
  }
 ],
 "metadata": {
  "kernelspec": {
   "display_name": "Python 3 (ipykernel)",
   "language": "python",
   "name": "python3"
  },
  "language_info": {
   "codemirror_mode": {
    "name": "ipython",
    "version": 3
   },
   "file_extension": ".py",
   "mimetype": "text/x-python",
   "name": "python",
   "nbconvert_exporter": "python",
   "pygments_lexer": "ipython3",
   "version": "3.10.9"
  }
 },
 "nbformat": 4,
 "nbformat_minor": 5
}
