{
 "cells": [
  {
   "cell_type": "code",
   "execution_count": 2,
   "id": "a68914a2-aafd-45e8-ac1e-d7450e37557a",
   "metadata": {},
   "outputs": [],
   "source": [
    "import pandas as pd\n",
    "import protfasta\n",
    "import matplotlib.pyplot as plt\n",
    "import seaborn as sns\n",
    "import numpy as np\n",
    "import glob"
   ]
  },
  {
   "cell_type": "code",
   "execution_count": 13,
   "id": "e71b4a9e-4520-464c-9b58-82f3f11ac395",
   "metadata": {},
   "outputs": [
    {
     "name": "stdout",
     "output_type": "stream",
     "text": [
      "../data/zoonomia_toga_mca_all_TFs/prot_fastas/ZNF367\n",
      "../data/zoonomia_toga_mca_all_TFs/prot_fastas/RIT1\n",
      "../data/zoonomia_toga_mca_all_TFs/prot_fastas/ZSCAN21\n",
      "../data/zoonomia_toga_mca_all_TFs/prot_fastas/ZSCAN26\n",
      "../data/zoonomia_toga_mca_all_TFs/prot_fastas/ZNF768\n",
      "../data/zoonomia_toga_mca_all_TFs/prot_fastas/HOXC4\n",
      "../data/zoonomia_toga_mca_all_TFs/prot_fastas/ZNF420\n",
      "../data/zoonomia_toga_mca_all_TFs/prot_fastas/TEAD2\n",
      "../data/zoonomia_toga_mca_all_TFs/prot_fastas/NR2C1\n",
      "../data/zoonomia_toga_mca_all_TFs/prot_fastas/ZNF213\n",
      "../data/zoonomia_toga_mca_all_TFs/prot_fastas/ATF3\n",
      "../data/zoonomia_toga_mca_all_TFs/prot_fastas/TEAD4\n",
      "../data/zoonomia_toga_mca_all_TFs/prot_fastas/TEAD3\n",
      "../data/zoonomia_toga_mca_all_TFs/prot_fastas/GTF2IRD2\n",
      "../data/zoonomia_toga_mca_all_TFs/prot_fastas/ZNF18\n",
      "../data/zoonomia_toga_mca_all_TFs/prot_fastas/UBP1\n",
      "../data/zoonomia_toga_mca_all_TFs/prot_fastas/CREB1\n",
      "../data/zoonomia_toga_mca_all_TFs/prot_fastas/ZNF263\n",
      "../data/zoonomia_toga_mca_all_TFs/prot_fastas/SNAPC5\n",
      "../data/zoonomia_toga_mca_all_TFs/prot_fastas/ZNF317\n",
      "../data/zoonomia_toga_mca_all_TFs/prot_fastas/TCF4\n",
      "../data/zoonomia_toga_mca_all_TFs/prot_fastas/STAT3\n",
      "../data/zoonomia_toga_mca_all_TFs/prot_fastas/ZNF182\n",
      "../data/zoonomia_toga_mca_all_TFs/prot_fastas/STAT4\n",
      "../data/zoonomia_toga_mca_all_TFs/prot_fastas/SPI1\n",
      "../data/zoonomia_toga_mca_all_TFs/prot_fastas/ZFP37\n",
      "../data/zoonomia_toga_mca_all_TFs/prot_fastas/ZNF2\n",
      "../data/zoonomia_toga_mca_all_TFs/prot_fastas/ZNF184\n",
      "../data/zoonomia_toga_mca_all_TFs/prot_fastas/STAT2\n",
      "../data/zoonomia_toga_mca_all_TFs/prot_fastas/ZNF133\n",
      "../data/zoonomia_toga_mca_all_TFs/prot_fastas/ZNF397\n",
      "../data/zoonomia_toga_mca_all_TFs/prot_fastas/SMAD3\n",
      "../data/zoonomia_toga_mca_all_TFs/prot_fastas/ZFP28\n",
      "../data/zoonomia_toga_mca_all_TFs/prot_fastas/CUX2\n",
      "../data/zoonomia_toga_mca_all_TFs/prot_fastas/BCL6B\n",
      "../data/zoonomia_toga_mca_all_TFs/prot_fastas/CGGBP1\n",
      "../data/zoonomia_toga_mca_all_TFs/prot_fastas/ZNF706\n",
      "../data/zoonomia_toga_mca_all_TFs/prot_fastas/NR2C2\n",
      "../data/zoonomia_toga_mca_all_TFs/prot_fastas/NME2\n",
      "../data/zoonomia_toga_mca_all_TFs/prot_fastas/RAC3\n",
      "../data/zoonomia_toga_mca_all_TFs/prot_fastas/ATF1\n",
      "../data/zoonomia_toga_mca_all_TFs/prot_fastas/GTF2IRD1\n",
      "../data/zoonomia_toga_mca_all_TFs/prot_fastas/ZNF23\n",
      "../data/zoonomia_toga_mca_all_TFs/prot_fastas/CREB3L4\n",
      "../data/zoonomia_toga_mca_all_TFs/prot_fastas/ZKSCAN2\n",
      "../data/zoonomia_toga_mca_all_TFs/prot_fastas/ZNF668\n",
      "../data/zoonomia_toga_mca_all_TFs/prot_fastas/TERB1\n",
      "../data/zoonomia_toga_mca_all_TFs/prot_fastas/CENPA\n",
      "../data/zoonomia_toga_mca_all_TFs/prot_fastas/CREB3\n",
      "../data/zoonomia_toga_mca_all_TFs/prot_fastas/ZNF660\n",
      "../data/zoonomia_toga_mca_all_TFs/prot_fastas/KLF17\n",
      "../data/zoonomia_toga_mca_all_TFs/prot_fastas/SAFB2\n",
      "../data/zoonomia_toga_mca_all_TFs/prot_fastas/ZIM2\n",
      "../data/zoonomia_toga_mca_all_TFs/prot_fastas/TFCP2\n",
      "../data/zoonomia_toga_mca_all_TFs/prot_fastas/DMRTC2\n",
      "../data/zoonomia_toga_mca_all_TFs/prot_fastas/ZNF7\n",
      "../data/zoonomia_toga_mca_all_TFs/prot_fastas/ZNF777\n",
      "../data/zoonomia_toga_mca_all_TFs/prot_fastas/ZNF783\n",
      "../data/zoonomia_toga_mca_all_TFs/prot_fastas/ZNF770\n",
      "../data/zoonomia_toga_mca_all_TFs/prot_fastas/ETV2\n",
      "../data/zoonomia_toga_mca_all_TFs/prot_fastas/STAT5B\n",
      "../data/zoonomia_toga_mca_all_TFs/prot_fastas/ZNF180\n",
      "../data/zoonomia_toga_mca_all_TFs/prot_fastas/ZNF174\n"
     ]
    }
   ],
   "source": [
    "alignment_lens = []\n",
    "for path in glob.glob(\"../data/zoonomia_toga_mca_all_TFs/prot_fastas/*\"):\n",
    "    alignment_len = len(protfasta.read_fasta(path, invalid_sequence_action=\"ignore\"))\n",
    "    if alignment_len > 500:\n",
    "        print(path)\n",
    "    alignment_lens.append(alignment_len)"
   ]
  },
  {
   "cell_type": "code",
   "execution_count": 11,
   "id": "9b258a22-0ecf-468c-b87d-0139e7d168e4",
   "metadata": {},
   "outputs": [
    {
     "data": {
      "image/png": "[encoded data removed]",
      "text/plain": [
       "<Figure size 640x480 with 1 Axes>"
      ]
     },
     "metadata": {},
     "output_type": "display_data"
    }
   ],
   "source": [
    "sns.set_context('talk')\n",
    "plt.title(\"Species per \n",
    "sns.histplot(alignment_lens)\n",
    "sns.despine()"
   ]
  },
  {
   "cell_type": "code",
   "execution_count": null,
   "id": "f747fc2f-be41-46d1-984d-2dca7312c356",
   "metadata": {},
   "outputs": [],
   "source": []
  }
 ],
 "metadata": {
  "kernelspec": {
   "display_name": "Python 3 (ipykernel)",
   "language": "python",
   "name": "python3"
  },
  "language_info": {
   "codemirror_mode": {
    "name": "ipython",
    "version": 3
   },
   "file_extension": ".py",
   "mimetype": "text/x-python",
   "name": "python",
   "nbconvert_exporter": "python",
   "pygments_lexer": "ipython3",
   "version": "3.10.9"
  }
 },
 "nbformat": 4,
 "nbformat_minor": 5
}
