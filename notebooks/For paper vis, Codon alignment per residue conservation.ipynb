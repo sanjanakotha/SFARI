{
 "cells": [
  {
   "cell_type": "code",
   "execution_count": 68,
   "id": "ac08a20f-23f8-495c-9ac2-4cdb441ec7e0",
   "metadata": {},
   "outputs": [],
   "source": [
    "import pandas as pd\n",
    "\n",
    "import protfasta\n",
    "import requests\n",
    "import re\n",
    "import warnings\n",
    "warnings.filterwarnings(\"ignore\")\n",
    "import glob\n",
    "import collections\n",
    "\n",
    "\n",
    "from Bio import AlignIO\n",
    "import matplotlib.pyplot as plt\n",
    "from Bio.Align import AlignInfo\n",
    "\n",
    "from Bio.Align import MultipleSeqAlignment\n",
    "from Bio.SeqRecord import SeqRecord\n",
    "from Bio.Seq import Seq\n",
    "\n",
    "import rich\n",
    "from rich_msa import RichAlignment\n",
    "\n",
    "import logomaker\n",
    "\n",
    "#Import modules\n",
    "import gzip, logomaker, matplotlib.pyplot as plt, numpy as np, os, pandas as pd, protfasta\n",
    "\n",
    "\n",
    "import seaborn as sns\n",
    "import warnings\n",
    "warnings.filterwarnings(\"ignore\")\n",
    "import itertools\n",
    "\n",
    "\n",
    "from scipy import stats"
   ]
  },
  {
   "cell_type": "markdown",
   "id": "659f52f6-8f06-4de2-a325-59046a816659",
   "metadata": {},
   "source": [
    "# Percent identity\n",
    "Saving the percent identity of each position, relative to the lambert TFs sequence.\n",
    "\n",
    "Step 0: Check how many of CC's genes already have the correct isoform."
   ]
  },
  {
   "cell_type": "code",
   "execution_count": 32,
   "id": "7bbcf750-fd19-4689-b47e-0e8ca1b13c58",
   "metadata": {
    "scrolled": true
   },
   "outputs": [
    {
     "data": {
      "text/html": [
       "<div>\n",
       "<style scoped>\n",
       "    .dataframe tbody tr th:only-of-type {\n",
       "        vertical-align: middle;\n",
       "    }\n",
       "\n",
       "    .dataframe tbody tr th {\n",
       "        vertical-align: top;\n",
       "    }\n",
       "\n",
       "    .dataframe thead th {\n",
       "        text-align: right;\n",
       "    }\n",
       "</style>\n",
       "<table border=\"1\" class=\"dataframe\">\n",
       "  <thead>\n",
       "    <tr style=\"text-align: right;\">\n",
       "      <th></th>\n",
       "      <th>uniprotID</th>\n",
       "      <th>Gene</th>\n",
       "    </tr>\n",
       "  </thead>\n",
       "  <tbody>\n",
       "    <tr>\n",
       "      <th>0</th>\n",
       "      <td>O94983</td>\n",
       "      <td>CAMTA2</td>\n",
       "    </tr>\n",
       "    <tr>\n",
       "      <th>2</th>\n",
       "      <td>P11308</td>\n",
       "      <td>ERG</td>\n",
       "    </tr>\n",
       "    <tr>\n",
       "      <th>4</th>\n",
       "      <td>Q13422</td>\n",
       "      <td>IKZF1</td>\n",
       "    </tr>\n",
       "    <tr>\n",
       "      <th>5</th>\n",
       "      <td>O14770</td>\n",
       "      <td>MEIS2</td>\n",
       "    </tr>\n",
       "    <tr>\n",
       "      <th>6</th>\n",
       "      <td>Q15788</td>\n",
       "      <td>NCOA1</td>\n",
       "    </tr>\n",
       "    <tr>\n",
       "      <th>8</th>\n",
       "      <td>O95096</td>\n",
       "      <td>NKX2-2</td>\n",
       "    </tr>\n",
       "    <tr>\n",
       "      <th>9</th>\n",
       "      <td>P43354</td>\n",
       "      <td>NR4A2</td>\n",
       "    </tr>\n",
       "    <tr>\n",
       "      <th>11</th>\n",
       "      <td>P32242</td>\n",
       "      <td>OTX1</td>\n",
       "    </tr>\n",
       "    <tr>\n",
       "      <th>12</th>\n",
       "      <td>Q02548</td>\n",
       "      <td>PAX5</td>\n",
       "    </tr>\n",
       "    <tr>\n",
       "      <th>13</th>\n",
       "      <td>P26367</td>\n",
       "      <td>PAX6</td>\n",
       "    </tr>\n",
       "    <tr>\n",
       "      <th>14</th>\n",
       "      <td>P78337</td>\n",
       "      <td>PITX1</td>\n",
       "    </tr>\n",
       "  </tbody>\n",
       "</table>\n",
       "</div>"
      ],
      "text/plain": [
       "   uniprotID    Gene\n",
       "0     O94983  CAMTA2\n",
       "2     P11308     ERG\n",
       "4     Q13422   IKZF1\n",
       "5     O14770   MEIS2\n",
       "6     Q15788   NCOA1\n",
       "8     O95096  NKX2-2\n",
       "9     P43354   NR4A2\n",
       "11    P32242    OTX1\n",
       "12    Q02548    PAX5\n",
       "13    P26367    PAX6\n",
       "14    P78337   PITX1"
      ]
     },
     "execution_count": 32,
     "metadata": {},
     "output_type": "execute_result"
    }
   ],
   "source": [
    "# Loading in info about the ADs\n",
    "cc_names = pd.read_excel(\"../data/gene_names_with_location_and_pmvs.xlsx\")\n",
    "cc_names = cc_names.rename(columns = {\"gene\" : \"Gene\", \"start\" : \"Start\", \"end\" : \"End\"})\n",
    "known_ADs = pd.read_csv(\"../output/known_ADs_considering_isoforms_and_canonical.csv\")\n",
    "cc_names = pd.merge(known_ADs[[\"uniprotID\", \"Gene\", \"Start\", \"End\"]], cc_names)\n",
    "ensts = pd.read_csv(\"../data/SFARI_TFs_with_ENST_corrected.csv\", index_col = 0)\n",
    "cc_names = pd.merge(cc_names, ensts)\n",
    "cc_names[\"ENST\"] = cc_names[\"ENST\"].str.split(\".\").str[0]\n",
    "cc_names[\"len\"] = cc_names[\"End\"] - cc_names[\"Start\"] + 1\n",
    "cc_names = cc_names.rename(columns = {\"Start\" : \"start\", \"End\" : \"end\"})\n",
    "cc_TFs = cc_names[[\"uniprotID\", \"Gene\"]].drop_duplicates()\n",
    "cc_TFs"
   ]
  },
  {
   "cell_type": "code",
   "execution_count": 33,
   "id": "df90696c-3f27-4bcb-b35a-165f349645a4",
   "metadata": {},
   "outputs": [
    {
     "name": "stdout",
     "output_type": "stream",
     "text": [
      "ERG\n",
      "PAX6\n"
     ]
    }
   ],
   "source": [
    "# Assuming everything in prot alignments folder is actually correct\n",
    "correc_isoforms = glob.glob(\"../data/zoonomia_toga_mca/prot_alignments/*\")\n",
    "correc_isoform_genes = [_.split(\"/\")[-1].split(\".\")[0] for _ in correc_isoforms]\n",
    "for gene in cc_TFs[\"Gene\"]:\n",
    "    if gene not in correc_isoform_genes:\n",
    "        print(gene)"
   ]
  },
  {
   "cell_type": "markdown",
   "id": "f9896154-9d37-4282-99a2-56184b81d4df",
   "metadata": {},
   "source": [
    "Plan: For ERG and PAX6, align the correct isoform's sequence to the current protein alignment. Use that to save the percent identity per position."
   ]
  },
  {
   "cell_type": "markdown",
   "id": "e0e69eca-9287-46df-949c-d69226b4942a",
   "metadata": {},
   "source": [
    "# Add fragment: Align Lambert TFs sequence to the zoonomia alignment"
   ]
  },
  {
   "cell_type": "code",
   "execution_count": 35,
   "id": "2a5c66d1-3338-4ab8-917c-5a5dffa986c8",
   "metadata": {},
   "outputs": [
    {
     "data": {
      "text/html": [
       "<div>\n",
       "<style scoped>\n",
       "    .dataframe tbody tr th:only-of-type {\n",
       "        vertical-align: middle;\n",
       "    }\n",
       "\n",
       "    .dataframe tbody tr th {\n",
       "        vertical-align: top;\n",
       "    }\n",
       "\n",
       "    .dataframe thead th {\n",
       "        text-align: right;\n",
       "    }\n",
       "</style>\n",
       "<table border=\"1\" class=\"dataframe\">\n",
       "  <thead>\n",
       "    <tr style=\"text-align: right;\">\n",
       "      <th></th>\n",
       "      <th>id</th>\n",
       "      <th>ProteinSeq</th>\n",
       "      <th>DBD_coords_merged</th>\n",
       "    </tr>\n",
       "  </thead>\n",
       "  <tbody>\n",
       "    <tr>\n",
       "      <th>0</th>\n",
       "      <td>sp|A0A087WUV0|ZN892_HUMAN Zinc finger protein ...</td>\n",
       "      <td>MEPEGRGSLFEDSDLLHAGNPKENDVTAVLLTPGSQELMIRDMAEA...</td>\n",
       "      <td>[[221, 243], [249, 271], [277, 299], [305, 327...</td>\n",
       "    </tr>\n",
       "    <tr>\n",
       "      <th>1</th>\n",
       "      <td>sp|A0AVK6|E2F8_HUMAN Transcription factor E2F8...</td>\n",
       "      <td>MENEKENLFCEPHKRGLMKTPLKESTTANIVLAEIQPDFGPLTTPT...</td>\n",
       "      <td>[[114, 182], [262, 347]]</td>\n",
       "    </tr>\n",
       "    <tr>\n",
       "      <th>2</th>\n",
       "      <td>sp|A0PJY2|FEZF1_HUMAN Fez family zinc finger p...</td>\n",
       "      <td>MDSSCHNATTKMLATAPARGNMMSTSKPLAFSIERIMARTPEPKAL...</td>\n",
       "      <td>[[260, 282], [288, 310], [316, 338], [344, 366...</td>\n",
       "    </tr>\n",
       "    <tr>\n",
       "      <th>3</th>\n",
       "      <td>sp|A1A519|F170A_HUMAN Protein FAM170A OS=Homo ...</td>\n",
       "      <td>MKRRQKRKHLENEESQETAEKGGGMSKSQEDALQPGSTRVAKGWSQ...</td>\n",
       "      <td>[[1, 330]]</td>\n",
       "    </tr>\n",
       "    <tr>\n",
       "      <th>4</th>\n",
       "      <td>sp|A1YPR0|ZBT7C_HUMAN Zinc finger and BTB doma...</td>\n",
       "      <td>MANDIDELIGIPFPNHSSEVLCSLNEQRHDGLLCDVLLVVQEQEYR...</td>\n",
       "      <td>[[364, 386], [392, 414], [420, 442], [448, 469]]</td>\n",
       "    </tr>\n",
       "    <tr>\n",
       "      <th>...</th>\n",
       "      <td>...</td>\n",
       "      <td>...</td>\n",
       "      <td>...</td>\n",
       "    </tr>\n",
       "    <tr>\n",
       "      <th>1608</th>\n",
       "      <td>sp|Q9Y6Q9|NCOA3_HUMAN Nuclear receptor coactiv...</td>\n",
       "      <td>MSGLGENLDPLASDSRKRKLPCDTPGQGLTCSGEKRRREQESKYIE...</td>\n",
       "      <td>[[31, 83]]</td>\n",
       "    </tr>\n",
       "    <tr>\n",
       "      <th>1609</th>\n",
       "      <td>sp|Q9Y6R6|Z780B_HUMAN Zinc finger protein 780B...</td>\n",
       "      <td>MVHGSVTFRDVAIDFSQEEWECLQPDQRTLYRDVMLENYSHLISLG...</td>\n",
       "      <td>[[165, 187], [193, 215], [221, 243], [249, 271...</td>\n",
       "    </tr>\n",
       "    <tr>\n",
       "      <th>1610</th>\n",
       "      <td>sp|Q9Y6X0|SETBP_HUMAN SET-binding protein OS=H...</td>\n",
       "      <td>MESRETLSSSRQRGGESDFLPVSSAKPPAAPGCAGEPLLSTPGPGK...</td>\n",
       "      <td>[[583, 596], [1015, 1027], [1450, 1462]]</td>\n",
       "    </tr>\n",
       "    <tr>\n",
       "      <th>1611</th>\n",
       "      <td>sp|Q9Y6X8|ZHX2_HUMAN Zinc fingers and homeobox...</td>\n",
       "      <td>MASKRKSTTPCMVRTSQVVEQDVPEEVDRAKEKGIGTPQPDVAKDS...</td>\n",
       "      <td>[[78, 101], [110, 133], [271, 317], [442, 496]...</td>\n",
       "    </tr>\n",
       "    <tr>\n",
       "      <th>1612</th>\n",
       "      <td>sp|Q9Y6Y1|CMTA1_HUMAN Calmodulin-binding trans...</td>\n",
       "      <td>MWRAEGKWLPKTSRKSVSQSVFCGTSTYCVLNTVPPIEDDHGNSNS...</td>\n",
       "      <td>[[69, 182]]</td>\n",
       "    </tr>\n",
       "  </tbody>\n",
       "</table>\n",
       "<p>1613 rows × 3 columns</p>\n",
       "</div>"
      ],
      "text/plain": [
       "                                                     id  \\\n",
       "0     sp|A0A087WUV0|ZN892_HUMAN Zinc finger protein ...   \n",
       "1     sp|A0AVK6|E2F8_HUMAN Transcription factor E2F8...   \n",
       "2     sp|A0PJY2|FEZF1_HUMAN Fez family zinc finger p...   \n",
       "3     sp|A1A519|F170A_HUMAN Protein FAM170A OS=Homo ...   \n",
       "4     sp|A1YPR0|ZBT7C_HUMAN Zinc finger and BTB doma...   \n",
       "...                                                 ...   \n",
       "1608  sp|Q9Y6Q9|NCOA3_HUMAN Nuclear receptor coactiv...   \n",
       "1609  sp|Q9Y6R6|Z780B_HUMAN Zinc finger protein 780B...   \n",
       "1610  sp|Q9Y6X0|SETBP_HUMAN SET-binding protein OS=H...   \n",
       "1611  sp|Q9Y6X8|ZHX2_HUMAN Zinc fingers and homeobox...   \n",
       "1612  sp|Q9Y6Y1|CMTA1_HUMAN Calmodulin-binding trans...   \n",
       "\n",
       "                                             ProteinSeq  \\\n",
       "0     MEPEGRGSLFEDSDLLHAGNPKENDVTAVLLTPGSQELMIRDMAEA...   \n",
       "1     MENEKENLFCEPHKRGLMKTPLKESTTANIVLAEIQPDFGPLTTPT...   \n",
       "2     MDSSCHNATTKMLATAPARGNMMSTSKPLAFSIERIMARTPEPKAL...   \n",
       "3     MKRRQKRKHLENEESQETAEKGGGMSKSQEDALQPGSTRVAKGWSQ...   \n",
       "4     MANDIDELIGIPFPNHSSEVLCSLNEQRHDGLLCDVLLVVQEQEYR...   \n",
       "...                                                 ...   \n",
       "1608  MSGLGENLDPLASDSRKRKLPCDTPGQGLTCSGEKRRREQESKYIE...   \n",
       "1609  MVHGSVTFRDVAIDFSQEEWECLQPDQRTLYRDVMLENYSHLISLG...   \n",
       "1610  MESRETLSSSRQRGGESDFLPVSSAKPPAAPGCAGEPLLSTPGPGK...   \n",
       "1611  MASKRKSTTPCMVRTSQVVEQDVPEEVDRAKEKGIGTPQPDVAKDS...   \n",
       "1612  MWRAEGKWLPKTSRKSVSQSVFCGTSTYCVLNTVPPIEDDHGNSNS...   \n",
       "\n",
       "                                      DBD_coords_merged  \n",
       "0     [[221, 243], [249, 271], [277, 299], [305, 327...  \n",
       "1                              [[114, 182], [262, 347]]  \n",
       "2     [[260, 282], [288, 310], [316, 338], [344, 366...  \n",
       "3                                            [[1, 330]]  \n",
       "4      [[364, 386], [392, 414], [420, 442], [448, 469]]  \n",
       "...                                                 ...  \n",
       "1608                                         [[31, 83]]  \n",
       "1609  [[165, 187], [193, 215], [221, 243], [249, 271...  \n",
       "1610           [[583, 596], [1015, 1027], [1450, 1462]]  \n",
       "1611  [[78, 101], [110, 133], [271, 317], [442, 496]...  \n",
       "1612                                        [[69, 182]]  \n",
       "\n",
       "[1613 rows x 3 columns]"
      ]
     },
     "execution_count": 35,
     "metadata": {},
     "output_type": "execute_result"
    }
   ],
   "source": [
    "lambert_TFs = pd.read_csv(\"../output/lambert_TFs_10-21-24_with_DBD_coords.csv\", index_col = 0)\n",
    "lambert_TFs"
   ]
  },
  {
   "cell_type": "code",
   "execution_count": 41,
   "id": "423dbfdd-9884-406f-bd32-6b1fcb7a69cc",
   "metadata": {},
   "outputs": [],
   "source": [
    "# ! mkdir ../data/zoonomia_toga_mca/prot_alignments_for_vis/\n",
    "#! mkdir ../data/zoonomia_toga_mca/prot_seqs_for_vis/"
   ]
  },
  {
   "cell_type": "code",
   "execution_count": 39,
   "id": "640d7072-5edc-4b96-996c-ee6edeabddc9",
   "metadata": {},
   "outputs": [
    {
     "data": {
      "text/plain": [
       "['../data/zoonomia_toga_mca/prot_alignments/TP63.fasta',\n",
       " '../data/zoonomia_toga_mca/prot_alignments/RARG.fasta']"
      ]
     },
     "execution_count": 39,
     "metadata": {},
     "output_type": "execute_result"
    }
   ],
   "source": [
    "full_prot_alignments = glob.glob(\"../data/zoonomia_toga_mca/prot_alignments/*\")\n",
    "full_prot_alignments[:2]"
   ]
  },
  {
   "cell_type": "code",
   "execution_count": 49,
   "id": "25560f5d-9be3-41f6-a452-add2c9a7cc47",
   "metadata": {
    "scrolled": true
   },
   "outputs": [],
   "source": [
    "for gene in cc_TFs[\"Gene\"]:\n",
    "    df = lambert_TFs[lambert_TFs[\"id\"].str.contains(gene)]\n",
    "    protfasta.write_fasta([(\"LambertSeq\", df[\"ProteinSeq\"].iloc[0])], \"../data/zoonomia_toga_mca/prot_seqs_for_vis/\" + gene)\n",
    "    #display(df)\n",
    "\n",
    "    if gene in correc_isoform_genes:\n",
    "        command = \"mafft --auto --quiet --add ../data/zoonomia_toga_mca/prot_seqs_for_vis/\" + gene + \" --reorder --thread -1 ../data/zoonomia_toga_mca/prot_alignments/\" + gene + \".fasta > ../data/zoonomia_toga_mca/prot_alignments_for_vis/\" + gene + \".fasta\"\n",
    "    else:\n",
    "        command = \"mafft --auto --quiet --add ../data/zoonomia_toga_mca/prot_seqs_for_vis/\" + gene + \" --reorder --thread -1 ../data/zoonomia_toga_mca/prot_alignments_wrong_isoforms/\" + gene + \".fasta > ../data/zoonomia_toga_mca/prot_alignments_for_vis/\" + gene + \".fasta\"\n",
    "     \n",
    "    os.system(command)"
   ]
  },
  {
   "cell_type": "markdown",
   "id": "133ebf29-9151-403b-a9f6-69540db4cf32",
   "metadata": {},
   "source": [
    "# Save percent identities for each"
   ]
  },
  {
   "cell_type": "code",
   "execution_count": 50,
   "id": "f483240b-407f-40ae-a167-2535f53d897b",
   "metadata": {},
   "outputs": [
    {
     "data": {
      "text/plain": [
       "['../data/zoonomia_toga_mca/prot_alignments_for_vis/PAX6.fasta',\n",
       " '../data/zoonomia_toga_mca/prot_alignments_for_vis/ERG.fasta',\n",
       " '../data/zoonomia_toga_mca/prot_alignments_for_vis/PAX5.fasta',\n",
       " '../data/zoonomia_toga_mca/prot_alignments_for_vis/IKZF1.fasta',\n",
       " '../data/zoonomia_toga_mca/prot_alignments_for_vis/OTX1.fasta',\n",
       " '../data/zoonomia_toga_mca/prot_alignments_for_vis/NCOA1.fasta',\n",
       " '../data/zoonomia_toga_mca/prot_alignments_for_vis/MEIS2.fasta',\n",
       " '../data/zoonomia_toga_mca/prot_alignments_for_vis/PITX1.fasta',\n",
       " '../data/zoonomia_toga_mca/prot_alignments_for_vis/NR4A2.fasta',\n",
       " '../data/zoonomia_toga_mca/prot_alignments_for_vis/NKX2-2.fasta',\n",
       " '../data/zoonomia_toga_mca/prot_alignments_for_vis/CAMTA2.fasta']"
      ]
     },
     "execution_count": 50,
     "metadata": {},
     "output_type": "execute_result"
    }
   ],
   "source": [
    "aligned_with_lambert = glob.glob(\"../data/zoonomia_toga_mca/prot_alignments_for_vis/*\")\n",
    "aligned_with_lambert"
   ]
  },
  {
   "cell_type": "code",
   "execution_count": 67,
   "id": "299a6041-2457-4f87-a65e-7a63d39e145a",
   "metadata": {
    "scrolled": true
   },
   "outputs": [
    {
     "name": "stdout",
     "output_type": "stream",
     "text": [
      "CAMTA2\n",
      "ERG\n",
      "IKZF1\n",
      "MEIS2\n",
      "NCOA1\n",
      "NKX2-2\n",
      "NR4A2\n",
      "OTX1\n",
      "PAX5\n",
      "PAX6\n",
      "PITX1\n"
     ]
    }
   ],
   "source": [
    "for gene in cc_TFs[\"Gene\"]:\n",
    "    print(gene)\n",
    "    alignment = AlignIO.read(\"../data/zoonomia_toga_mca/prot_alignments_for_vis/\" + gene + \".fasta\", \"fasta\")\n",
    "    percent_identities = []\n",
    "    summary_align = AlignInfo.SummaryInfo(alignment)\n",
    "    \n",
    "    for record in alignment:\n",
    "        if \"REFERENCE\" in record.id:\n",
    "            reference_seq = record.seq\n",
    "\n",
    "        if \"LambertSeq\" in record.id:\n",
    "            lambert_TF_seq = record.seq\n",
    "    \n",
    "    percent_identities = []\n",
    "    positions = []\n",
    "    \n",
    "    # Iterate over each position in the alignment where ref_AA is not a gap\n",
    "    for i in range(alignment.get_alignment_length()):\n",
    "        ref_AA = reference_seq[i]\n",
    "        lam_AA = lambert_TF_seq[i]\n",
    "\n",
    "        \n",
    "        # if ref_AA == \"X\" or ref_AA == \"-\":\n",
    "        #     print(gene)\n",
    "\n",
    "        if lam_AA != \"-\":\n",
    "            # Get the column (position) for all sequences\n",
    "            column = alignment[:, i]\n",
    "        \n",
    "            # Calculating percent identity\n",
    "            count = column.count(ref_AA)\n",
    "            percent_identity = 100 * count / len(column)\n",
    "        \n",
    "            # AAs.append(ref_AA)\n",
    "            percent_identities.append(percent_identity)\n",
    "            positions.append(lam_AA)\n",
    "        \n",
    "    percent_identities_df = pd.DataFrame({\"percent_identity\" : percent_identities, \"pos\" : positions})\n",
    "    percent_identities_df.to_csv(\"../data/zoonomia_toga_mca/prot_alignment_percent_identities_for_vis/\" + gene)\n",
    "    #display(percent_identities_df)\n"
   ]
  },
  {
   "cell_type": "code",
   "execution_count": null,
   "id": "ece93df7-b220-43c1-8dd0-f2dee9312557",
   "metadata": {},
   "outputs": [],
   "source": []
  },
  {
   "cell_type": "code",
   "execution_count": null,
   "id": "03cb8566-4ffe-4657-87cd-949f47efe34a",
   "metadata": {},
   "outputs": [],
   "source": []
  },
  {
   "cell_type": "code",
   "execution_count": null,
   "id": "a6aa1ebc-c429-48ec-a03b-1f2968d7cc4f",
   "metadata": {},
   "outputs": [],
   "source": []
  },
  {
   "cell_type": "code",
   "execution_count": null,
   "id": "3ecc17dc-0c48-4c32-b31c-da6326672251",
   "metadata": {},
   "outputs": [],
   "source": []
  },
  {
   "cell_type": "code",
   "execution_count": null,
   "id": "551ce66a-6d52-4ebd-a505-acc8ed26218a",
   "metadata": {},
   "outputs": [],
   "source": []
  },
  {
   "cell_type": "code",
   "execution_count": null,
   "id": "d0e3be25-d82b-410b-b4a3-6d383fdedefd",
   "metadata": {},
   "outputs": [],
   "source": []
  },
  {
   "cell_type": "code",
   "execution_count": null,
   "id": "6acb15c6-3207-41f6-8487-c39ff1c93f7c",
   "metadata": {},
   "outputs": [],
   "source": []
  },
  {
   "cell_type": "code",
   "execution_count": null,
   "id": "517236c7-e7e4-4562-8627-e85070e639fc",
   "metadata": {},
   "outputs": [],
   "source": []
  },
  {
   "cell_type": "code",
   "execution_count": null,
   "id": "3f0798e0-459e-4876-b79d-ec235f6698cc",
   "metadata": {},
   "outputs": [],
   "source": []
  },
  {
   "cell_type": "code",
   "execution_count": null,
   "id": "a7820c60-089b-4ae6-80c5-efa4b3aa2508",
   "metadata": {},
   "outputs": [],
   "source": []
  },
  {
   "cell_type": "code",
   "execution_count": null,
   "id": "1b879655-314f-4df8-8036-9139950ce528",
   "metadata": {},
   "outputs": [],
   "source": []
  },
  {
   "cell_type": "code",
   "execution_count": null,
   "id": "dac6fce6-c5f8-4d38-80c0-46b7cdfde794",
   "metadata": {},
   "outputs": [],
   "source": []
  },
  {
   "cell_type": "code",
   "execution_count": null,
   "id": "4dd47ee9-df9f-4e6c-9761-f617ba9dbe2c",
   "metadata": {},
   "outputs": [],
   "source": []
  },
  {
   "cell_type": "markdown",
   "id": "24c8be20-d858-4835-9140-77317132f6b6",
   "metadata": {},
   "source": [
    "## A. Correct isoforms"
   ]
  },
  {
   "cell_type": "code",
   "execution_count": 30,
   "id": "7a236ec1-d4a9-43df-a1e5-728d71bfe7b7",
   "metadata": {},
   "outputs": [],
   "source": []
  },
  {
   "cell_type": "code",
   "execution_count": null,
   "id": "eb9ea4fb-2c1c-4152-be6a-f466f4c0f61c",
   "metadata": {},
   "outputs": [],
   "source": []
  }
 ],
 "metadata": {
  "kernelspec": {
   "display_name": "Python 3 (ipykernel)",
   "language": "python",
   "name": "python3"
  },
  "language_info": {
   "codemirror_mode": {
    "name": "ipython",
    "version": 3
   },
   "file_extension": ".py",
   "mimetype": "text/x-python",
   "name": "python",
   "nbconvert_exporter": "python",
   "pygments_lexer": "ipython3",
   "version": "3.10.9"
  }
 },
 "nbformat": 4,
 "nbformat_minor": 5
}
