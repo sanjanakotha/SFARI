{
 "cells": [
  {
   "cell_type": "code",
   "execution_count": 12,
   "id": "ac08a20f-23f8-495c-9ac2-4cdb441ec7e0",
   "metadata": {},
   "outputs": [
    {
     "name": "stderr",
     "output_type": "stream",
     "text": [
      "Matplotlib is building the font cache; this may take a moment.\n"
     ]
    }
   ],
   "source": [
    "import pandas as pd\n",
    "\n",
    "import protfasta\n",
    "import requests\n",
    "import re\n",
    "import warnings\n",
    "warnings.filterwarnings(\"ignore\")\n",
    "import glob\n",
    "\n",
    "\n",
    "from Bio import AlignIO\n",
    "import matplotlib.pyplot as plt\n",
    "from Bio.Align import AlignInfo\n",
    "\n",
    "from Bio.Align import MultipleSeqAlignment\n",
    "from Bio.SeqRecord import SeqRecord\n",
    "from Bio.Seq import Seq\n",
    "\n",
    "import rich\n",
    "from rich_msa import RichAlignment\n",
    "\n",
    "import logomaker\n",
    "\n",
    "#Import modules\n",
    "import gzip, logomaker, matplotlib.pyplot as plt, numpy as np, os, pandas as pd, protfasta\n",
    "\n",
    "\n",
    "import seaborn as sns\n",
    "import warnings\n",
    "warnings.filterwarnings(\"ignore\")\n",
    "import itertools\n",
    "\n",
    "from scipy import stats"
   ]
  },
  {
   "cell_type": "markdown",
   "id": "659f52f6-8f06-4de2-a325-59046a816659",
   "metadata": {},
   "source": [
    "# Percent identity\n",
    "Saving the percent identity of each position, relative to the consensus sequence.\n",
    "\n",
    "Step 0: Check how many of CC's genes already have the correct isoform."
   ]
  },
  {
   "cell_type": "code",
   "execution_count": 5,
   "id": "7bbcf750-fd19-4689-b47e-0e8ca1b13c58",
   "metadata": {
    "scrolled": true
   },
   "outputs": [
    {
     "data": {
      "text/html": [
       "<div>\n",
       "<style scoped>\n",
       "    .dataframe tbody tr th:only-of-type {\n",
       "        vertical-align: middle;\n",
       "    }\n",
       "\n",
       "    .dataframe tbody tr th {\n",
       "        vertical-align: top;\n",
       "    }\n",
       "\n",
       "    .dataframe thead th {\n",
       "        text-align: right;\n",
       "    }\n",
       "</style>\n",
       "<table border=\"1\" class=\"dataframe\">\n",
       "  <thead>\n",
       "    <tr style=\"text-align: right;\">\n",
       "      <th></th>\n",
       "      <th>uniprotID</th>\n",
       "      <th>Gene</th>\n",
       "    </tr>\n",
       "  </thead>\n",
       "  <tbody>\n",
       "    <tr>\n",
       "      <th>0</th>\n",
       "      <td>O94983</td>\n",
       "      <td>CAMTA2</td>\n",
       "    </tr>\n",
       "    <tr>\n",
       "      <th>2</th>\n",
       "      <td>P11308</td>\n",
       "      <td>ERG</td>\n",
       "    </tr>\n",
       "    <tr>\n",
       "      <th>4</th>\n",
       "      <td>Q13422</td>\n",
       "      <td>IKZF1</td>\n",
       "    </tr>\n",
       "    <tr>\n",
       "      <th>5</th>\n",
       "      <td>O14770</td>\n",
       "      <td>MEIS2</td>\n",
       "    </tr>\n",
       "    <tr>\n",
       "      <th>6</th>\n",
       "      <td>Q15788</td>\n",
       "      <td>NCOA1</td>\n",
       "    </tr>\n",
       "    <tr>\n",
       "      <th>8</th>\n",
       "      <td>O95096</td>\n",
       "      <td>NKX2-2</td>\n",
       "    </tr>\n",
       "    <tr>\n",
       "      <th>9</th>\n",
       "      <td>P43354</td>\n",
       "      <td>NR4A2</td>\n",
       "    </tr>\n",
       "    <tr>\n",
       "      <th>11</th>\n",
       "      <td>P32242</td>\n",
       "      <td>OTX1</td>\n",
       "    </tr>\n",
       "    <tr>\n",
       "      <th>12</th>\n",
       "      <td>Q02548</td>\n",
       "      <td>PAX5</td>\n",
       "    </tr>\n",
       "    <tr>\n",
       "      <th>13</th>\n",
       "      <td>P26367</td>\n",
       "      <td>PAX6</td>\n",
       "    </tr>\n",
       "    <tr>\n",
       "      <th>14</th>\n",
       "      <td>P78337</td>\n",
       "      <td>PITX1</td>\n",
       "    </tr>\n",
       "  </tbody>\n",
       "</table>\n",
       "</div>"
      ],
      "text/plain": [
       "   uniprotID    Gene\n",
       "0     O94983  CAMTA2\n",
       "2     P11308     ERG\n",
       "4     Q13422   IKZF1\n",
       "5     O14770   MEIS2\n",
       "6     Q15788   NCOA1\n",
       "8     O95096  NKX2-2\n",
       "9     P43354   NR4A2\n",
       "11    P32242    OTX1\n",
       "12    Q02548    PAX5\n",
       "13    P26367    PAX6\n",
       "14    P78337   PITX1"
      ]
     },
     "execution_count": 5,
     "metadata": {},
     "output_type": "execute_result"
    }
   ],
   "source": [
    "# Loading in info about the ADs\n",
    "cc_names = pd.read_excel(\"../data/gene_names_with_location_and_pmvs.xlsx\")\n",
    "cc_names = cc_names.rename(columns = {\"gene\" : \"Gene\", \"start\" : \"Start\", \"end\" : \"End\"})\n",
    "known_ADs = pd.read_csv(\"../output/known_ADs_considering_isoforms_and_canonical.csv\")\n",
    "cc_names = pd.merge(known_ADs[[\"uniprotID\", \"Gene\", \"Start\", \"End\"]], cc_names)\n",
    "ensts = pd.read_csv(\"../data/SFARI_TFs_with_ENST_corrected.csv\", index_col = 0)\n",
    "cc_names = pd.merge(cc_names, ensts)\n",
    "cc_names[\"ENST\"] = cc_names[\"ENST\"].str.split(\".\").str[0]\n",
    "cc_names[\"len\"] = cc_names[\"End\"] - cc_names[\"Start\"] + 1\n",
    "cc_names = cc_names.rename(columns = {\"Start\" : \"start\", \"End\" : \"end\"})\n",
    "cc_TFs = cc_names[[\"uniprotID\", \"Gene\"]].drop_duplicates()\n",
    "cc_TFs"
   ]
  },
  {
   "cell_type": "code",
   "execution_count": 9,
   "id": "df90696c-3f27-4bcb-b35a-165f349645a4",
   "metadata": {},
   "outputs": [
    {
     "name": "stdout",
     "output_type": "stream",
     "text": [
      "ERG\n",
      "PAX6\n"
     ]
    }
   ],
   "source": [
    "correc_isoforms = glob.glob(\"../data/zoonomia_toga_mca/prot_alignments/*\")\n",
    "correc_isoform_genes = [_.split(\"/\")[-1].split(\".\")[0] for _ in correc_isoforms]\n",
    "for gene in cc_TFs[\"Gene\"]:\n",
    "    if gene not in correc_isoform_genes:\n",
    "        print(gene)"
   ]
  },
  {
   "cell_type": "markdown",
   "id": "f9896154-9d37-4282-99a2-56184b81d4df",
   "metadata": {},
   "source": [
    "Plan: For ERG and PAX6, align the correct isoform's sequence to the current protein alignment. Use that to save the percent identity per position."
   ]
  },
  {
   "cell_type": "markdown",
   "id": "24c8be20-d858-4835-9140-77317132f6b6",
   "metadata": {},
   "source": [
    "## A. Correct isoforms"
   ]
  },
  {
   "cell_type": "code",
   "execution_count": 30,
   "id": "7a236ec1-d4a9-43df-a1e5-728d71bfe7b7",
   "metadata": {},
   "outputs": [],
   "source": [
    "for gene in set(correc_isoform_genes) & set(cc_TFs[\"Gene\"]):\n",
    "    alignment = AlignIO.read(\"../data/zoonomia_toga_mca/prot_alignments/\" + gene + \".fasta\", \"fasta\")\n",
    "    percent_identities = []\n",
    "    summary_align = AlignInfo.SummaryInfo(alignment)\n",
    "    \n",
    "    for record in alignment:\n",
    "        if \"REFERENCE\" in record.id:\n",
    "            reference_seq = record.seq\n",
    "            break\n",
    "    \n",
    "    AAs = []\n",
    "    percent_identities = []\n",
    "    positions = []\n",
    "    \n",
    "    # Iterate over each position in the alignment where ref_AA is not a gap\n",
    "    for i in range(alignment.get_alignment_length()):\n",
    "        ref_AA = reference_seq[i]\n",
    "        # if ref_AA == \"X\" or ref_AA == \"-\":\n",
    "        #     print(gene)\n",
    "\n",
    "        if ref_AA != \"-\":\n",
    "            # Get the column (position) for all sequences\n",
    "            column = alignment[:, i]\n",
    "        \n",
    "            # Calculating percent identity\n",
    "            count = column.count(ref_AA)\n",
    "            percent_identity = 100 * count / len(column)\n",
    "        \n",
    "            AAs.append(ref_AA)\n",
    "            percent_identities.append(percent_identity)\n",
    "            positions.append(i)\n",
    "        \n",
    "    percent_identities_df = pd.DataFrame({\"AA\" : AAs, \"percent_identity\" : percent_identities, \"pos\" : positions})\n",
    "    percent_identities_df.to_csv(\"../data/zoonomia_toga_mca/prot_alignment_percent_identities/\" + gene)\n",
    "    #display(percent_identities_df)\n",
    "    #percent_identities_df[\"AD\"] = AD.split(\"/\")[-1].split(\".\")[0]"
   ]
  },
  {
   "cell_type": "code",
   "execution_count": null,
   "id": "eb9ea4fb-2c1c-4152-be6a-f466f4c0f61c",
   "metadata": {},
   "outputs": [],
   "source": []
  }
 ],
 "metadata": {
  "kernelspec": {
   "display_name": "Python 3 (ipykernel)",
   "language": "python",
   "name": "python3"
  },
  "language_info": {
   "codemirror_mode": {
    "name": "ipython",
    "version": 3
   },
   "file_extension": ".py",
   "mimetype": "text/x-python",
   "name": "python",
   "nbconvert_exporter": "python",
   "pygments_lexer": "ipython3",
   "version": "3.10.9"
  }
 },
 "nbformat": 4,
 "nbformat_minor": 5
}
