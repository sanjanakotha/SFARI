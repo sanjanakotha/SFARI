{
 "cells": [
  {
   "cell_type": "code",
   "execution_count": 110,
   "id": "836625ac-3189-4e36-b41f-4d508f3b9143",
   "metadata": {},
   "outputs": [],
   "source": [
    "from Bio.PDB import PDBParser\n",
    "from Bio.PDB.DSSP import DSSP\n",
    "import pandas as pd\n",
    "import seaborn as sns\n",
    "import numpy as np\n",
    "import matplotlib.pyplot as plt\n",
    "import itertools\n",
    "import matplotlib.patches as patches\n"
   ]
  },
  {
   "cell_type": "code",
   "execution_count": 316,
   "id": "9318a3b5-e131-4a2f-b661-38dfb762f27a",
   "metadata": {},
   "outputs": [],
   "source": [
    "# G 3-turn helix (3_10 helix)\n",
    "# H 4-turn helix (alpha-helix)\n",
    "# I 5-turn helix (pi helix)\n",
    "\n",
    "# E extended strand in parallel and/or anti-parallel β-sheet conformation. Min length 2 residues\n",
    "# B residue in isolated β-bridge (single pair β-sheet hydrogen bond formation)\n",
    "\n",
    "# P Polyproline\n",
    "\n",
    "# T H-bonded turn\n",
    "# S bend\n",
    "\n",
    "# - coil -- ignore"
   ]
  },
  {
   "cell_type": "code",
   "execution_count": 317,
   "id": "f1013beb-2e2f-43a8-be20-965db32e97f1",
   "metadata": {},
   "outputs": [],
   "source": [
    "# HELPER FUNCTIONS:\n",
    "def plot_rectangle(start, end, color, box_height, ax, y = 0, alpha = 0.7):\n",
    "    if start != end:\n",
    "        rectangle = patches.Rectangle((start, y), width=end - start, height=box_height, linewidth=1, edgecolor='none', facecolor=color, alpha=alpha)\n",
    "        ax.add_patch(rectangle)\n",
    "    else:\n",
    "        ax.axvline(start, lw = 1, alpha = alpha, color = color)\n",
    "\n",
    "def return_intervals(a):\n",
    "    a = sorted(set(a))\n",
    "    b = []\n",
    "    for k, g in itertools.groupby(enumerate(a), \n",
    "        key=lambda t: t[1] - t[0]):\n",
    "        g = list(g)\n",
    "        b.append([g[0][1], g[-1][1]]) \n",
    "    \n",
    "    return b"
   ]
  },
  {
   "cell_type": "code",
   "execution_count": 322,
   "id": "b14a4341-f700-4b4c-89c5-f4e1dc19929b",
   "metadata": {},
   "outputs": [],
   "source": [
    "def plot_af_domains(gene, ax):\n",
    "    p = PDBParser()\n",
    "    structure = p.get_structure(gene, \"../data/TF_vis_AF/\" + gene + \".pdb\")\n",
    "    model = structure[0]\n",
    "    dssp = DSSP(model, \"../data/TF_vis_AF/\" + gene + \".pdb\")\n",
    "\n",
    "    pos = []\n",
    "    code = []\n",
    "    \n",
    "    for i in range(len(list(dssp.keys()))):\n",
    "        pos.append(i)\n",
    "        a_key = list(dssp.keys())[i]\n",
    "        code.append(dssp[a_key][2])\n",
    "\n",
    "    codes = pd.DataFrame({\"pos\" : pos, \"code\" : code})\n",
    "    \n",
    "\n",
    "    color_palette = {# Helices\n",
    "                    \"G\" : sns.color_palette('Blues')[-1],\n",
    "                    \"H\" : sns.color_palette('Blues')[-1],\n",
    "                    \"I\" : sns.color_palette('Blues')[-1],\n",
    "    \n",
    "                    # Sheets\n",
    "                    \"E\" : sns.color_palette('Greens')[-1],\n",
    "                    \"B\" : sns.color_palette('Greens')[-1],\n",
    "    \n",
    "                    # Poly proline helix\n",
    "                    \"P\" : sns.color_palette('Reds')[-1],\n",
    "    \n",
    "                    # Other\n",
    "                    \"T\" : \"white\",\n",
    "                    \"S\" : \"white\",\n",
    "                    \"-\" : \"white\"}\n",
    "    \n",
    "    codes[\"y\"] = np.ones(len(codes))\n",
    "    \n",
    "    for code in set(codes[\"code\"]):\n",
    "        intervals =  return_intervals(codes[codes[\"code\"] == code][\"pos\"])\n",
    "        for s, e in intervals:\n",
    "            #print(i)\n",
    "            color = color_palette[code]\n",
    "            plot_rectangle(s, e, color, 1, ax)\n",
    "            ax.set_xlim(1, len(pos))       \n",
    "    i+=1\n",
    "\n",
    "    sns.despine()\n",
    "    ax.set_yticks([])\n",
    "    ax.set_yticklabels([])"
   ]
  },
  {
   "cell_type": "code",
   "execution_count": 323,
   "id": "472803a1-d7a7-4fff-8a90-dcdbb8de0c1c",
   "metadata": {},
   "outputs": [
    {
     "data": {
      "image/png": "[encoded data removed]",
      "text/plain": [
       "<Figure size 1950x150 with 1 Axes>"
      ]
     },
     "metadata": {},
     "output_type": "display_data"
    }
   ],
   "source": [
    "fig, ax = plt.subplots(figsize=(6.5,0.5), dpi = 300)\n",
    "plot_af_domains(\"CAMTA2\", ax = ax)"
   ]
  },
  {
   "cell_type": "code",
   "execution_count": 324,
   "id": "9dbbb2ba-3626-44f2-9445-10f1fc46aa8f",
   "metadata": {},
   "outputs": [
    {
     "data": {
      "image/png": "[encoded data removed]",
      "text/plain": [
       "<Figure size 1950x150 with 1 Axes>"
      ]
     },
     "metadata": {},
     "output_type": "display_data"
    }
   ],
   "source": [
    "fig, ax = plt.subplots(figsize=(6.5,0.5), dpi = 300)\n",
    "plot_af_domains(\"PAX5\", ax = ax)"
   ]
  },
  {
   "cell_type": "code",
   "execution_count": null,
   "id": "f82b0e1a-7c90-45a4-a127-b14b408b9ca6",
   "metadata": {},
   "outputs": [],
   "source": []
  },
  {
   "cell_type": "code",
   "execution_count": null,
   "id": "66e3317a-e7ae-4937-977d-7f0c644033b8",
   "metadata": {},
   "outputs": [],
   "source": []
  },
  {
   "cell_type": "code",
   "execution_count": null,
   "id": "8281ecd0-2a8c-406c-8b55-aad89746854a",
   "metadata": {},
   "outputs": [],
   "source": []
  }
 ],
 "metadata": {
  "kernelspec": {
   "display_name": "Python 3 (ipykernel)",
   "language": "python",
   "name": "python3"
  },
  "language_info": {
   "codemirror_mode": {
    "name": "ipython",
    "version": 3
   },
   "file_extension": ".py",
   "mimetype": "text/x-python",
   "name": "python",
   "nbconvert_exporter": "python",
   "pygments_lexer": "ipython3",
   "version": "3.10.9"
  }
 },
 "nbformat": 4,
 "nbformat_minor": 5
}
