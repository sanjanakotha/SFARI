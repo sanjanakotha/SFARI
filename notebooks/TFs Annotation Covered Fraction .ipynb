{
 "cells": [
  {
   "cell_type": "code",
   "execution_count": 1,
   "id": "e3247574",
   "metadata": {},
   "outputs": [],
   "source": [
    "import pandas as pd\n",
    "import numpy as np\n",
    "import seaborn as sns\n",
    "import matplotlib.pyplot as plt\n",
    "from matplotlib.pyplot import figure\n",
    "import scipy.stats as stats"
   ]
  },
  {
   "cell_type": "markdown",
   "id": "9b76ef2d",
   "metadata": {},
   "source": [
    "Summer project (please put it on your calendar for mid June).\n",
    "I would like you to build a table for the fraction of AA on all TFs that is 'explained/covered' by known annotations.\n",
    "e.g. what % of all residues are in DBDs? what % are in ADs?\n",
    "The goal is to figure out if we have annotations for the majority of AAs in TFs or not.\n",
    "\n",
    "Table:\n",
    "\n",
    "Domain type ; % of all TF residues under that label.\n",
    "\n",
    "DBD, AD, NLS, RD, LBD, all pfam domains, all uniprot annotations\n",
    "\n",
    "DE tracks, KR tracks, coli coil etc."
   ]
  },
  {
   "cell_type": "code",
   "execution_count": null,
   "id": "ff1bb753",
   "metadata": {},
   "outputs": [],
   "source": [
    "# used lambert TFs uniprotIDs to download domains from uniprot\n"
   ]
  }
 ],
 "metadata": {
  "kernelspec": {
   "display_name": "Python 3 (ipykernel)",
   "language": "python",
   "name": "python3"
  },
  "language_info": {
   "codemirror_mode": {
    "name": "ipython",
    "version": 3
   },
   "file_extension": ".py",
   "mimetype": "text/x-python",
   "name": "python",
   "nbconvert_exporter": "python",
   "pygments_lexer": "ipython3",
   "version": "3.8.2"
  }
 },
 "nbformat": 4,
 "nbformat_minor": 5
}
