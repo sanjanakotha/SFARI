{
 "cells": [
  {
   "cell_type": "code",
   "execution_count": 3,
   "id": "9c120bff-b66a-4b2d-b51f-113ca44d48b1",
   "metadata": {},
   "outputs": [],
   "source": [
    "import pandas as pd\n",
    "import protfasta"
   ]
  },
  {
   "cell_type": "markdown",
   "id": "afcc9faa-9ecd-41b1-aa06-a48ed75bfc10",
   "metadata": {},
   "source": [
    "### ERG AD 2\n",
    "Removing the first 7 residues that resulted from discrepancy with isoforms + the following M for convenience."
   ]
  },
  {
   "cell_type": "code",
   "execution_count": 10,
   "id": "8c8fdc45-6dd9-4ab6-af20-854f32b0d0f5",
   "metadata": {},
   "outputs": [
    {
     "data": {
      "text/html": [
       "<div>\n",
       "<style scoped>\n",
       "    .dataframe tbody tr th:only-of-type {\n",
       "        vertical-align: middle;\n",
       "    }\n",
       "\n",
       "    .dataframe tbody tr th {\n",
       "        vertical-align: top;\n",
       "    }\n",
       "\n",
       "    .dataframe thead th {\n",
       "        text-align: right;\n",
       "    }\n",
       "</style>\n",
       "<table border=\"1\" class=\"dataframe\">\n",
       "  <thead>\n",
       "    <tr style=\"text-align: right;\">\n",
       "      <th></th>\n",
       "      <th>id</th>\n",
       "      <th>seq</th>\n",
       "      <th>seq_adj</th>\n",
       "    </tr>\n",
       "  </thead>\n",
       "  <tbody>\n",
       "    <tr>\n",
       "      <th>0</th>\n",
       "      <td>g.21.38400580T&gt;C(p.Arg254Gly)</td>\n",
       "      <td>KHMPPPNMTTNERRVIVPADPTLWSTDHVRQWLEWAVKEYGLPDVN...</td>\n",
       "      <td>TTNERRVIVPADPTLWSTDHVRQWLEWAVKEYGLPDVNILLFQNID...</td>\n",
       "    </tr>\n",
       "    <tr>\n",
       "      <th>1</th>\n",
       "      <td>g.21.38400585G&gt;T(p.Thr252Lys)</td>\n",
       "      <td>KHMPPPNMTTNERRVIVPADPTLWSTDHVRQWLEWAVKEYGLPDVN...</td>\n",
       "      <td>TTNERRVIVPADPTLWSTDHVRQWLEWAVKEYGLPDVNILLFQNID...</td>\n",
       "    </tr>\n",
       "    <tr>\n",
       "      <th>2</th>\n",
       "      <td>g.21.38400591C&gt;T(p.Arg250Lys)</td>\n",
       "      <td>KHMPPPNMTTNERRVIVPADPTLWSTDHVRQWLEWAVKEYGLPDVN...</td>\n",
       "      <td>TTNERRVIVPADPTLWSTDHVRQWLEWAVKEYGLPDVNILLFQNID...</td>\n",
       "    </tr>\n",
       "    <tr>\n",
       "      <th>3</th>\n",
       "      <td>g.21.38400597G&gt;A(p.Thr248Met)</td>\n",
       "      <td>KHMPPPNMTTNERRVIVPADPTLWSTDHVRQWLEWAVKEYGLPDVN...</td>\n",
       "      <td>TTNERRVIVPADPTLWSTDHVRQWLEWAVKEYGLPDVNILLFQNID...</td>\n",
       "    </tr>\n",
       "    <tr>\n",
       "      <th>4</th>\n",
       "      <td>g.21.38400625G&gt;T(p.Pro239Thr)</td>\n",
       "      <td>KHMPPPNMTTNERRVIVPADPTLWSTDHVRQWLEWAVKEYGLPDVN...</td>\n",
       "      <td>TTNERRVIVPADPTLWSTDHVRQWLEWAVKEYGLPDVNILLFQNID...</td>\n",
       "    </tr>\n",
       "  </tbody>\n",
       "</table>\n",
       "</div>"
      ],
      "text/plain": [
       "                              id  \\\n",
       "0  g.21.38400580T>C(p.Arg254Gly)   \n",
       "1  g.21.38400585G>T(p.Thr252Lys)   \n",
       "2  g.21.38400591C>T(p.Arg250Lys)   \n",
       "3  g.21.38400597G>A(p.Thr248Met)   \n",
       "4  g.21.38400625G>T(p.Pro239Thr)   \n",
       "\n",
       "                                                 seq  \\\n",
       "0  KHMPPPNMTTNERRVIVPADPTLWSTDHVRQWLEWAVKEYGLPDVN...   \n",
       "1  KHMPPPNMTTNERRVIVPADPTLWSTDHVRQWLEWAVKEYGLPDVN...   \n",
       "2  KHMPPPNMTTNERRVIVPADPTLWSTDHVRQWLEWAVKEYGLPDVN...   \n",
       "3  KHMPPPNMTTNERRVIVPADPTLWSTDHVRQWLEWAVKEYGLPDVN...   \n",
       "4  KHMPPPNMTTNERRVIVPADPTLWSTDHVRQWLEWAVKEYGLPDVN...   \n",
       "\n",
       "                                             seq_adj  \n",
       "0  TTNERRVIVPADPTLWSTDHVRQWLEWAVKEYGLPDVNILLFQNID...  \n",
       "1  TTNERRVIVPADPTLWSTDHVRQWLEWAVKEYGLPDVNILLFQNID...  \n",
       "2  TTNERRVIVPADPTLWSTDHVRQWLEWAVKEYGLPDVNILLFQNID...  \n",
       "3  TTNERRVIVPADPTLWSTDHVRQWLEWAVKEYGLPDVNILLFQNID...  \n",
       "4  TTNERRVIVPADPTLWSTDHVRQWLEWAVKEYGLPDVNILLFQNID...  "
      ]
     },
     "execution_count": 10,
     "metadata": {},
     "output_type": "execute_result"
    }
   ],
   "source": [
    "ad2 = protfasta.read_fasta(\"../soto_analysis/outputs/AD_variant_fasta/ERG_P11308_AD_118-261\")\n",
    "ad2_df = pd.DataFrame({\"id\" : ad2.keys(), \"seq\" : ad2.values()})\n",
    "ad2_df[\"seq_adj\"] = ad1_df[\"seq\"].str[8:]\n",
    "ad2_df.head()"
   ]
  },
  {
   "cell_type": "code",
   "execution_count": 20,
   "id": "eb1d7184-20d5-4b02-9cce-fddd3245f710",
   "metadata": {},
   "outputs": [],
   "source": [
    "ad2_adj_dict = dict(zip(ad2_df[\"id\"], ad2_df[\"seq_adj\"]))\n",
    "protfasta.write_fasta(ad2_adj_dict, \"../output/caitlin_experiment/variant fastas/ERG_P11308_AD_118-261_seq_adj.fasta\")"
   ]
  },
  {
   "cell_type": "markdown",
   "id": "1bfb3a01-ee69-4dac-b81f-305cd39e3855",
   "metadata": {},
   "source": [
    "### ERG AD 1"
   ]
  },
  {
   "cell_type": "markdown",
   "id": "fc5e2fd6-f80d-4df8-8e7e-99b3e4d5b7a9",
   "metadata": {},
   "source": [
    "Removing the first 7 residues that resulted from discrepancy with isoforms."
   ]
  },
  {
   "cell_type": "code",
   "execution_count": 17,
   "id": "005335d4-7857-4b93-9a57-9043e659ee1c",
   "metadata": {},
   "outputs": [
    {
     "data": {
      "text/html": [
       "<div>\n",
       "<style scoped>\n",
       "    .dataframe tbody tr th:only-of-type {\n",
       "        vertical-align: middle;\n",
       "    }\n",
       "\n",
       "    .dataframe tbody tr th {\n",
       "        vertical-align: top;\n",
       "    }\n",
       "\n",
       "    .dataframe thead th {\n",
       "        text-align: right;\n",
       "    }\n",
       "</style>\n",
       "<table border=\"1\" class=\"dataframe\">\n",
       "  <thead>\n",
       "    <tr style=\"text-align: right;\">\n",
       "      <th></th>\n",
       "      <th>id</th>\n",
       "      <th>seq</th>\n",
       "      <th>seq_adj</th>\n",
       "    </tr>\n",
       "  </thead>\n",
       "  <tbody>\n",
       "    <tr>\n",
       "      <th>0</th>\n",
       "      <td>g.21.38383429G&gt;C(p.Pro479Ala)</td>\n",
       "      <td>QKMNFVAPHPPALPVTSSSFFAAPNPYWNSPTGGIYPNTRLPTSHMA</td>\n",
       "      <td>PHPPALPVTSSSFFAAPNPYWNSPTGGIYPNTRLPTSHMA</td>\n",
       "    </tr>\n",
       "    <tr>\n",
       "      <th>1</th>\n",
       "      <td>g.21.38383431A&gt;G(p.Met478Thr)</td>\n",
       "      <td>QKMNFVAPHPPALPVTSSSFFAAPNPYWNSPTGGIYPNTRLPTSHTP</td>\n",
       "      <td>PHPPALPVTSSSFFAAPNPYWNSPTGGIYPNTRLPTSHTP</td>\n",
       "    </tr>\n",
       "    <tr>\n",
       "      <th>2</th>\n",
       "      <td>g.21.38383437C&gt;G(p.Ser476Thr)</td>\n",
       "      <td>QKMNFVAPHPPALPVTSSSFFAAPNPYWNSPTGGIYPNTRLPTTHMP</td>\n",
       "      <td>PHPPALPVTSSSFFAAPNPYWNSPTGGIYPNTRLPTTHMP</td>\n",
       "    </tr>\n",
       "    <tr>\n",
       "      <th>3</th>\n",
       "      <td>g.21.38383438T&gt;C(p.Ser476Gly)</td>\n",
       "      <td>QKMNFVAPHPPALPVTSSSFFAAPNPYWNSPTGGIYPNTRLPTGHMP</td>\n",
       "      <td>PHPPALPVTSSSFFAAPNPYWNSPTGGIYPNTRLPTGHMP</td>\n",
       "    </tr>\n",
       "    <tr>\n",
       "      <th>4</th>\n",
       "      <td>g.21.38383450T&gt;C(p.Arg472Gly)</td>\n",
       "      <td>QKMNFVAPHPPALPVTSSSFFAAPNPYWNSPTGGIYPNTGLPTSHMP</td>\n",
       "      <td>PHPPALPVTSSSFFAAPNPYWNSPTGGIYPNTGLPTSHMP</td>\n",
       "    </tr>\n",
       "  </tbody>\n",
       "</table>\n",
       "</div>"
      ],
      "text/plain": [
       "                              id  \\\n",
       "0  g.21.38383429G>C(p.Pro479Ala)   \n",
       "1  g.21.38383431A>G(p.Met478Thr)   \n",
       "2  g.21.38383437C>G(p.Ser476Thr)   \n",
       "3  g.21.38383438T>C(p.Ser476Gly)   \n",
       "4  g.21.38383450T>C(p.Arg472Gly)   \n",
       "\n",
       "                                               seq  \\\n",
       "0  QKMNFVAPHPPALPVTSSSFFAAPNPYWNSPTGGIYPNTRLPTSHMA   \n",
       "1  QKMNFVAPHPPALPVTSSSFFAAPNPYWNSPTGGIYPNTRLPTSHTP   \n",
       "2  QKMNFVAPHPPALPVTSSSFFAAPNPYWNSPTGGIYPNTRLPTTHMP   \n",
       "3  QKMNFVAPHPPALPVTSSSFFAAPNPYWNSPTGGIYPNTRLPTGHMP   \n",
       "4  QKMNFVAPHPPALPVTSSSFFAAPNPYWNSPTGGIYPNTGLPTSHMP   \n",
       "\n",
       "                                    seq_adj  \n",
       "0  PHPPALPVTSSSFFAAPNPYWNSPTGGIYPNTRLPTSHMA  \n",
       "1  PHPPALPVTSSSFFAAPNPYWNSPTGGIYPNTRLPTSHTP  \n",
       "2  PHPPALPVTSSSFFAAPNPYWNSPTGGIYPNTRLPTTHMP  \n",
       "3  PHPPALPVTSSSFFAAPNPYWNSPTGGIYPNTRLPTGHMP  \n",
       "4  PHPPALPVTSSSFFAAPNPYWNSPTGGIYPNTGLPTSHMP  "
      ]
     },
     "execution_count": 17,
     "metadata": {},
     "output_type": "execute_result"
    }
   ],
   "source": [
    "ad1 = protfasta.read_fasta(\"../soto_analysis/outputs/AD_variant_fasta/ERG_P11308_AD_433-479\")\n",
    "ad1_df = pd.DataFrame({\"id\" : ad1.keys(), \"seq\" : ad1.values()})\n",
    "ad1_df[\"seq_adj\"] = ad1_df[\"seq\"].str[7:]\n",
    "ad1_df.head()"
   ]
  },
  {
   "cell_type": "code",
   "execution_count": 19,
   "id": "1016262e-18fe-4021-9001-dbd8dfc0786c",
   "metadata": {},
   "outputs": [],
   "source": [
    "ad1_adj_dict = dict(zip(ad1_df[\"id\"], ad1_df[\"seq_adj\"]))\n",
    "protfasta.write_fasta(ad2_adj_dict, \"../output/caitlin_experiment/variant fastas/ERG_P11308_AD_433-479_seq_adj.fasta\")"
   ]
  },
  {
   "cell_type": "code",
   "execution_count": null,
   "id": "f64de9dc-8797-4c09-888b-c2f4e00925f1",
   "metadata": {},
   "outputs": [],
   "source": []
  }
 ],
 "metadata": {
  "kernelspec": {
   "display_name": "Python 3 (ipykernel)",
   "language": "python",
   "name": "python3"
  },
  "language_info": {
   "codemirror_mode": {
    "name": "ipython",
    "version": 3
   },
   "file_extension": ".py",
   "mimetype": "text/x-python",
   "name": "python",
   "nbconvert_exporter": "python",
   "pygments_lexer": "ipython3",
   "version": "3.9.6"
  }
 },
 "nbformat": 4,
 "nbformat_minor": 5
}
