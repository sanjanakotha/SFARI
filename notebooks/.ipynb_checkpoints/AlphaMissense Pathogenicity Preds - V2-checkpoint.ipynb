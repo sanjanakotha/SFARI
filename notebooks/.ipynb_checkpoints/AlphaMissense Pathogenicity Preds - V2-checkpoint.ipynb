{
 "cells": [
  {
   "cell_type": "code",
   "execution_count": 30,
   "id": "b33cff5a",
   "metadata": {},
   "outputs": [],
   "source": [
    "import pandas as pd\n",
    "import protfasta\n",
    "import numpy as np"
   ]
  },
  {
   "cell_type": "markdown",
   "id": "1f0b77af",
   "metadata": {},
   "source": [
    "First, reading in all variants on Lambert TFs."
   ]
  },
  {
   "cell_type": "code",
   "execution_count": 31,
   "id": "6d482807",
   "metadata": {
    "scrolled": true
   },
   "outputs": [
    {
     "data": {
      "text/plain": [
       "['ENST00000359486',\n",
       " 'ENST00000379044',\n",
       " 'ENST00000437473',\n",
       " 'ENST00000339562',\n",
       " 'ENST00000348332',\n",
       " 'ENST00000367265',\n",
       " 'ENST00000342988',\n",
       " 'ENST00000372583',\n",
       " 'ENST00000262238',\n",
       " 'ENST00000303329',\n",
       " 'ENST00000315869',\n",
       " 'ENST00000241001',\n",
       " 'ENST00000348066',\n",
       " 'ENST00000428368',\n",
       " 'ENST00000318003',\n",
       " 'ENST00000341099',\n",
       " 'ENST00000056233',\n",
       " 'ENST00000331340',\n",
       " 'ENST00000356073',\n",
       " 'ENST00000265340',\n",
       " 'ENST00000377142',\n",
       " 'ENST00000262518',\n",
       " 'ENST00000239243',\n",
       " 'ENST00000398919',\n",
       " 'ENST00000373294',\n",
       " 'ENST00000309446',\n",
       " 'ENST00000561208',\n",
       " 'ENST00000355995',\n",
       " 'ENST00000395324',\n",
       " 'ENST00000335670',\n",
       " 'ENST00000312233',\n",
       " 'ENST00000373036',\n",
       " 'ENST00000434704',\n",
       " 'ENST00000380013',\n",
       " 'ENST00000355311',\n",
       " 'ENST00000377022',\n",
       " 'ENST00000250916',\n",
       " 'ENST00000389506',\n",
       " 'ENST00000246672',\n",
       " 'ENST00000317216',\n",
       " 'ENST00000403491',\n",
       " 'ENST00000592199',\n",
       " 'ENST00000358127',\n",
       " 'ENST00000282549',\n",
       " 'ENST00000264637']"
      ]
     },
     "execution_count": 31,
     "metadata": {},
     "output_type": "execute_result"
    }
   ],
   "source": [
    "from os import listdir\n",
    "from os.path import isfile, join\n",
    "#https://stackoverflow.com/questions/3207219/how-do-i-list-all-files-of-a-directory\n",
    "TFs = [f for f in listdir(\"../soto_analysis/outputs/mutations/cds_bed_format/\") if isfile(join(\"../soto_analysis/outputs/mutations/cds_bed_format/\", f))]\n",
    "TFs"
   ]
  },
  {
   "cell_type": "code",
   "execution_count": 32,
   "id": "e2d33a8f",
   "metadata": {},
   "outputs": [],
   "source": [
    "all_tf_var_dfs = []\n",
    "\n",
    "for TF in TFs:\n",
    "    tf_vars = pd.read_csv(\"../soto_analysis/outputs/mutations/cds_expanded_iWES_v2_variants_snv_classified/\" + TF + \".bed\", sep = \"\\t\", header = None)\n",
    "    all_tf_var_dfs.append(tf_vars)"
   ]
  },
  {
   "cell_type": "code",
   "execution_count": 33,
   "id": "aa1a1076",
   "metadata": {},
   "outputs": [
    {
     "data": {
      "text/html": [
       "<div>\n",
       "<style scoped>\n",
       "    .dataframe tbody tr th:only-of-type {\n",
       "        vertical-align: middle;\n",
       "    }\n",
       "\n",
       "    .dataframe tbody tr th {\n",
       "        vertical-align: top;\n",
       "    }\n",
       "\n",
       "    .dataframe thead th {\n",
       "        text-align: right;\n",
       "    }\n",
       "</style>\n",
       "<table border=\"1\" class=\"dataframe\">\n",
       "  <thead>\n",
       "    <tr style=\"text-align: right;\">\n",
       "      <th></th>\n",
       "      <th>#CHROM</th>\n",
       "      <th>1</th>\n",
       "      <th>POS</th>\n",
       "      <th>3</th>\n",
       "      <th>4</th>\n",
       "      <th>5</th>\n",
       "      <th>6</th>\n",
       "      <th>7</th>\n",
       "      <th>8</th>\n",
       "      <th>REF</th>\n",
       "      <th>ALT</th>\n",
       "      <th>11</th>\n",
       "      <th>12</th>\n",
       "      <th>13</th>\n",
       "      <th>14</th>\n",
       "    </tr>\n",
       "  </thead>\n",
       "  <tbody>\n",
       "    <tr>\n",
       "      <th>0</th>\n",
       "      <td>chr22</td>\n",
       "      <td>42168659</td>\n",
       "      <td>42168660</td>\n",
       "      <td>ENSG00000100207</td>\n",
       "      <td>ENST00000359486</td>\n",
       "      <td>-</td>\n",
       "      <td>22</td>\n",
       "      <td>42168659</td>\n",
       "      <td>42168660</td>\n",
       "      <td>C</td>\n",
       "      <td>T</td>\n",
       "      <td>0.000061</td>\n",
       "      <td>R</td>\n",
       "      <td>Q</td>\n",
       "      <td>No-Syn</td>\n",
       "    </tr>\n",
       "    <tr>\n",
       "      <th>1</th>\n",
       "      <td>chr22</td>\n",
       "      <td>42168660</td>\n",
       "      <td>42168661</td>\n",
       "      <td>ENSG00000100207</td>\n",
       "      <td>ENST00000359486</td>\n",
       "      <td>-</td>\n",
       "      <td>22</td>\n",
       "      <td>42168660</td>\n",
       "      <td>42168661</td>\n",
       "      <td>G</td>\n",
       "      <td>A</td>\n",
       "      <td>0.000009</td>\n",
       "      <td>R</td>\n",
       "      <td>W</td>\n",
       "      <td>No-Syn</td>\n",
       "    </tr>\n",
       "    <tr>\n",
       "      <th>3</th>\n",
       "      <td>chr22</td>\n",
       "      <td>42168667</td>\n",
       "      <td>42168668</td>\n",
       "      <td>ENSG00000100207</td>\n",
       "      <td>ENST00000359486</td>\n",
       "      <td>-</td>\n",
       "      <td>22</td>\n",
       "      <td>42168667</td>\n",
       "      <td>42168668</td>\n",
       "      <td>C</td>\n",
       "      <td>A</td>\n",
       "      <td>0.000005</td>\n",
       "      <td>Q</td>\n",
       "      <td>H</td>\n",
       "      <td>No-Syn</td>\n",
       "    </tr>\n",
       "    <tr>\n",
       "      <th>4</th>\n",
       "      <td>chr22</td>\n",
       "      <td>42168678</td>\n",
       "      <td>42168679</td>\n",
       "      <td>ENSG00000100207</td>\n",
       "      <td>ENST00000359486</td>\n",
       "      <td>-</td>\n",
       "      <td>22</td>\n",
       "      <td>42168678</td>\n",
       "      <td>42168679</td>\n",
       "      <td>T</td>\n",
       "      <td>A</td>\n",
       "      <td>0.000192</td>\n",
       "      <td>S</td>\n",
       "      <td>C</td>\n",
       "      <td>No-Syn</td>\n",
       "    </tr>\n",
       "    <tr>\n",
       "      <th>5</th>\n",
       "      <td>chr22</td>\n",
       "      <td>42168686</td>\n",
       "      <td>42168687</td>\n",
       "      <td>ENSG00000100207</td>\n",
       "      <td>ENST00000359486</td>\n",
       "      <td>-</td>\n",
       "      <td>22</td>\n",
       "      <td>42168686</td>\n",
       "      <td>42168687</td>\n",
       "      <td>C</td>\n",
       "      <td>G</td>\n",
       "      <td>0.000019</td>\n",
       "      <td>G</td>\n",
       "      <td>A</td>\n",
       "      <td>No-Syn</td>\n",
       "    </tr>\n",
       "    <tr>\n",
       "      <th>...</th>\n",
       "      <td>...</td>\n",
       "      <td>...</td>\n",
       "      <td>...</td>\n",
       "      <td>...</td>\n",
       "      <td>...</td>\n",
       "      <td>...</td>\n",
       "      <td>...</td>\n",
       "      <td>...</td>\n",
       "      <td>...</td>\n",
       "      <td>...</td>\n",
       "      <td>...</td>\n",
       "      <td>...</td>\n",
       "      <td>...</td>\n",
       "      <td>...</td>\n",
       "      <td>...</td>\n",
       "    </tr>\n",
       "    <tr>\n",
       "      <th>247</th>\n",
       "      <td>chr17</td>\n",
       "      <td>40093338</td>\n",
       "      <td>40093339</td>\n",
       "      <td>ENSG00000126351</td>\n",
       "      <td>ENST00000264637</td>\n",
       "      <td>+</td>\n",
       "      <td>17</td>\n",
       "      <td>40093338</td>\n",
       "      <td>40093339</td>\n",
       "      <td>C</td>\n",
       "      <td>T</td>\n",
       "      <td>0.000023</td>\n",
       "      <td>P</td>\n",
       "      <td>L</td>\n",
       "      <td>No-Syn</td>\n",
       "    </tr>\n",
       "    <tr>\n",
       "      <th>251</th>\n",
       "      <td>chr17</td>\n",
       "      <td>40093349</td>\n",
       "      <td>40093350</td>\n",
       "      <td>ENSG00000126351</td>\n",
       "      <td>ENST00000264637</td>\n",
       "      <td>+</td>\n",
       "      <td>17</td>\n",
       "      <td>40093349</td>\n",
       "      <td>40093350</td>\n",
       "      <td>G</td>\n",
       "      <td>A</td>\n",
       "      <td>0.000028</td>\n",
       "      <td>E</td>\n",
       "      <td>K</td>\n",
       "      <td>No-Syn</td>\n",
       "    </tr>\n",
       "    <tr>\n",
       "      <th>252</th>\n",
       "      <td>chr17</td>\n",
       "      <td>40093355</td>\n",
       "      <td>40093356</td>\n",
       "      <td>ENSG00000126351</td>\n",
       "      <td>ENST00000264637</td>\n",
       "      <td>+</td>\n",
       "      <td>17</td>\n",
       "      <td>40093355</td>\n",
       "      <td>40093356</td>\n",
       "      <td>C</td>\n",
       "      <td>A</td>\n",
       "      <td>0.000009</td>\n",
       "      <td>L</td>\n",
       "      <td>M</td>\n",
       "      <td>No-Syn</td>\n",
       "    </tr>\n",
       "    <tr>\n",
       "      <th>253</th>\n",
       "      <td>chr17</td>\n",
       "      <td>40093356</td>\n",
       "      <td>40093357</td>\n",
       "      <td>ENSG00000126351</td>\n",
       "      <td>ENST00000264637</td>\n",
       "      <td>+</td>\n",
       "      <td>17</td>\n",
       "      <td>40093356</td>\n",
       "      <td>40093357</td>\n",
       "      <td>T</td>\n",
       "      <td>G</td>\n",
       "      <td>0.000005</td>\n",
       "      <td>L</td>\n",
       "      <td>R</td>\n",
       "      <td>No-Syn</td>\n",
       "    </tr>\n",
       "    <tr>\n",
       "      <th>256</th>\n",
       "      <td>chr17</td>\n",
       "      <td>40093370</td>\n",
       "      <td>40093371</td>\n",
       "      <td>ENSG00000126351</td>\n",
       "      <td>ENST00000264637</td>\n",
       "      <td>+</td>\n",
       "      <td>17</td>\n",
       "      <td>40093370</td>\n",
       "      <td>40093371</td>\n",
       "      <td>G</td>\n",
       "      <td>A</td>\n",
       "      <td>0.000005</td>\n",
       "      <td>A</td>\n",
       "      <td>T</td>\n",
       "      <td>No-Syn</td>\n",
       "    </tr>\n",
       "  </tbody>\n",
       "</table>\n",
       "<p>12493 rows × 15 columns</p>\n",
       "</div>"
      ],
      "text/plain": [
       "    #CHROM         1       POS                3                4  5   6  \\\n",
       "0    chr22  42168659  42168660  ENSG00000100207  ENST00000359486  -  22   \n",
       "1    chr22  42168660  42168661  ENSG00000100207  ENST00000359486  -  22   \n",
       "3    chr22  42168667  42168668  ENSG00000100207  ENST00000359486  -  22   \n",
       "4    chr22  42168678  42168679  ENSG00000100207  ENST00000359486  -  22   \n",
       "5    chr22  42168686  42168687  ENSG00000100207  ENST00000359486  -  22   \n",
       "..     ...       ...       ...              ...              ... ..  ..   \n",
       "247  chr17  40093338  40093339  ENSG00000126351  ENST00000264637  +  17   \n",
       "251  chr17  40093349  40093350  ENSG00000126351  ENST00000264637  +  17   \n",
       "252  chr17  40093355  40093356  ENSG00000126351  ENST00000264637  +  17   \n",
       "253  chr17  40093356  40093357  ENSG00000126351  ENST00000264637  +  17   \n",
       "256  chr17  40093370  40093371  ENSG00000126351  ENST00000264637  +  17   \n",
       "\n",
       "            7         8 REF ALT        11 12 13      14  \n",
       "0    42168659  42168660   C   T  0.000061  R  Q  No-Syn  \n",
       "1    42168660  42168661   G   A  0.000009  R  W  No-Syn  \n",
       "3    42168667  42168668   C   A  0.000005  Q  H  No-Syn  \n",
       "4    42168678  42168679   T   A  0.000192  S  C  No-Syn  \n",
       "5    42168686  42168687   C   G  0.000019  G  A  No-Syn  \n",
       "..        ...       ...  ..  ..       ... .. ..     ...  \n",
       "247  40093338  40093339   C   T  0.000023  P  L  No-Syn  \n",
       "251  40093349  40093350   G   A  0.000028  E  K  No-Syn  \n",
       "252  40093355  40093356   C   A  0.000009  L  M  No-Syn  \n",
       "253  40093356  40093357   T   G  0.000005  L  R  No-Syn  \n",
       "256  40093370  40093371   G   A  0.000005  A  T  No-Syn  \n",
       "\n",
       "[12493 rows x 15 columns]"
      ]
     },
     "execution_count": 33,
     "metadata": {},
     "output_type": "execute_result"
    }
   ],
   "source": [
    "all_tf_vars = pd.concat(all_tf_var_dfs)\n",
    "all_tf_vars = all_tf_vars.rename(columns = {0 :\"#CHROM\", \n",
    "                                           2: \"POS\",\n",
    "                                           9: \"REF\",\n",
    "                                           10: \"ALT\"})\n",
    "all_tf_vars[\"POS\"] = all_tf_vars[\"POS\"].astype(int)\n",
    "all_tf_vars[\"#CHROM\"] = \"chr\" + all_tf_vars[\"#CHROM\"].astype(str)\n",
    "all_tf_vars = all_tf_vars[all_tf_vars[14] == \"No-Syn\"]\n",
    "all_tf_vars"
   ]
  },
  {
   "cell_type": "code",
   "execution_count": 34,
   "id": "5f5a7525",
   "metadata": {},
   "outputs": [
    {
     "data": {
      "text/html": [
       "<div>\n",
       "<style scoped>\n",
       "    .dataframe tbody tr th:only-of-type {\n",
       "        vertical-align: middle;\n",
       "    }\n",
       "\n",
       "    .dataframe tbody tr th {\n",
       "        vertical-align: top;\n",
       "    }\n",
       "\n",
       "    .dataframe thead th {\n",
       "        text-align: right;\n",
       "    }\n",
       "</style>\n",
       "<table border=\"1\" class=\"dataframe\">\n",
       "  <thead>\n",
       "    <tr style=\"text-align: right;\">\n",
       "      <th></th>\n",
       "      <th></th>\n",
       "    </tr>\n",
       "    <tr>\n",
       "      <th>#CHROM</th>\n",
       "      <th>POS</th>\n",
       "    </tr>\n",
       "  </thead>\n",
       "  <tbody>\n",
       "    <tr>\n",
       "      <th rowspan=\"11\" valign=\"top\">chr2</th>\n",
       "      <th>1791880</th>\n",
       "    </tr>\n",
       "    <tr>\n",
       "      <th>1791881</th>\n",
       "    </tr>\n",
       "    <tr>\n",
       "      <th>1791884</th>\n",
       "    </tr>\n",
       "    <tr>\n",
       "      <th>1791915</th>\n",
       "    </tr>\n",
       "    <tr>\n",
       "      <th>1791928</th>\n",
       "    </tr>\n",
       "    <tr>\n",
       "      <th>...</th>\n",
       "    </tr>\n",
       "    <tr>\n",
       "      <th>207124364</th>\n",
       "    </tr>\n",
       "    <tr>\n",
       "      <th>207124374</th>\n",
       "    </tr>\n",
       "    <tr>\n",
       "      <th>207124382</th>\n",
       "    </tr>\n",
       "    <tr>\n",
       "      <th>207165478</th>\n",
       "    </tr>\n",
       "    <tr>\n",
       "      <th>207165502</th>\n",
       "    </tr>\n",
       "  </tbody>\n",
       "</table>\n",
       "<p>11715 rows × 0 columns</p>\n",
       "</div>"
      ],
      "text/plain": [
       "Empty DataFrame\n",
       "Columns: []\n",
       "Index: [(chr2, 1791880), (chr2, 1791881), (chr2, 1791884), (chr2, 1791915), (chr2, 1791928), (chr2, 1791930), (chr2, 1791937), (chr2, 1791950), (chr2, 1791957), (chr2, 1791961), (chr2, 1791974), (chr2, 1792001), (chr2, 1792005), (chr2, 1792325), (chr2, 1792328), (chr2, 1792333), (chr2, 1792367), (chr2, 1792377), (chr2, 1792383), (chr2, 1792421), (chr2, 1792423), (chr2, 1801716), (chr2, 1801734), (chr2, 1801736), (chr2, 1801746), (chr2, 1801772), (chr2, 1801788), (chr2, 1809076), (chr2, 1839177), (chr2, 1839192), (chr2, 1839240), (chr2, 1839257), (chr2, 1839264), (chr2, 1839279), (chr2, 1839285), (chr2, 1839293), (chr2, 1839309), (chr2, 1839321), (chr2, 1839330), (chr2, 1839351), (chr2, 1840785), (chr2, 1840793), (chr2, 1840800), (chr2, 1840817), (chr2, 1851695), (chr19, 1854470), (chr19, 1854472), (chr19, 1854473), (chr19, 1854484), (chr19, 1854485), (chr19, 1854487), (chr19, 1854504), (chr19, 1854524), (chr19, 1854544), (chr19, 1854547), (chr19, 1854548), (chr19, 1854550), (chr19, 1854551), (chr19, 1854554), (chr19, 1854557), (chr19, 1854562), (chr19, 1854565), (chr19, 1854573), (chr19, 1854575), (chr19, 1854577), (chr19, 1854580), (chr19, 1854586), (chr19, 1854587), (chr19, 1854590), (chr19, 1854596), (chr19, 1854598), (chr19, 1854611), (chr19, 1854634), (chr19, 1854635), (chr19, 1854656), (chr19, 1854673), (chr19, 1854686), (chr19, 1854691), (chr19, 1854726), (chr19, 1854730), (chr19, 1854733), (chr19, 1854755), (chr19, 1863053), (chr19, 1863076), (chr19, 1863089), (chr19, 1863100), (chr19, 1863103), (chr19, 1863109), (chr19, 1863116), (chr19, 1863130), (chr19, 1863140), (chr19, 1863145), (chr19, 1863146), (chr19, 1863148), (chr19, 1863149), (chr19, 1863154), (chr19, 1863169), (chr19, 1863170), (chr19, 1863175), (chr19, 1863188), ...]\n",
       "\n",
       "[11715 rows x 0 columns]"
      ]
     },
     "execution_count": 34,
     "metadata": {},
     "output_type": "execute_result"
    }
   ],
   "source": [
    "all_tf_vars_coords = all_tf_vars[[\"#CHROM\", \"POS\"]]\n",
    "all_tf_vars_coords = all_tf_vars_coords.drop_duplicates()\n",
    "all_tf_vars_coords = all_tf_vars_coords.sort_values(by = \"#CHROM\")\n",
    "all_tf_vars_coords = all_tf_vars_coords.sort_values(by = \"POS\")\n",
    "all_tf_vars_coords = all_tf_vars_coords.set_index(keys = [\"#CHROM\", \"POS\"])\n",
    "all_tf_vars_coords"
   ]
  },
  {
   "cell_type": "code",
   "execution_count": 35,
   "id": "610f7560",
   "metadata": {},
   "outputs": [
    {
     "name": "stdout",
     "output_type": "stream",
     "text": [
      "686\n"
     ]
    },
    {
     "ename": "KeyboardInterrupt",
     "evalue": "",
     "output_type": "error",
     "traceback": [
      "\u001b[0;31m---------------------------------------------------------------------------\u001b[0m",
      "\u001b[0;31mKeyboardInterrupt\u001b[0m                         Traceback (most recent call last)",
      "\u001b[0;32m<ipython-input-35-019abcbae8ae>\u001b[0m in \u001b[0;36m<module>\u001b[0;34m\u001b[0m\n\u001b[1;32m      7\u001b[0m \u001b[0;32mfor\u001b[0m \u001b[0mchunk\u001b[0m \u001b[0;32min\u001b[0m \u001b[0mpd\u001b[0m\u001b[0;34m.\u001b[0m\u001b[0mread_csv\u001b[0m\u001b[0;34m(\u001b[0m\u001b[0malpha_m\u001b[0m\u001b[0;34m,\u001b[0m \u001b[0msep\u001b[0m\u001b[0;34m=\u001b[0m\u001b[0;34m'\\t'\u001b[0m\u001b[0;34m,\u001b[0m \u001b[0mchunksize\u001b[0m\u001b[0;34m=\u001b[0m\u001b[0mchunksize\u001b[0m\u001b[0;34m,\u001b[0m \u001b[0mheader\u001b[0m \u001b[0;34m=\u001b[0m \u001b[0;36m3\u001b[0m\u001b[0;34m)\u001b[0m\u001b[0;34m:\u001b[0m\u001b[0;34m\u001b[0m\u001b[0;34m\u001b[0m\u001b[0m\n\u001b[1;32m      8\u001b[0m     \u001b[0mchunk\u001b[0m \u001b[0;34m=\u001b[0m \u001b[0mchunk\u001b[0m\u001b[0;34m.\u001b[0m\u001b[0mset_index\u001b[0m\u001b[0;34m(\u001b[0m\u001b[0mkeys\u001b[0m \u001b[0;34m=\u001b[0m \u001b[0;34m[\u001b[0m\u001b[0;34m\"#CHROM\"\u001b[0m\u001b[0;34m,\u001b[0m \u001b[0;34m\"POS\"\u001b[0m\u001b[0;34m]\u001b[0m\u001b[0;34m)\u001b[0m\u001b[0;34m\u001b[0m\u001b[0;34m\u001b[0m\u001b[0m\n\u001b[0;32m----> 9\u001b[0;31m     \u001b[0mjoined\u001b[0m \u001b[0;34m=\u001b[0m \u001b[0mpd\u001b[0m\u001b[0;34m.\u001b[0m\u001b[0mmerge\u001b[0m\u001b[0;34m(\u001b[0m\u001b[0mall_tf_vars_coords\u001b[0m\u001b[0;34m,\u001b[0m \u001b[0mchunk\u001b[0m\u001b[0;34m,\u001b[0m \u001b[0mleft_index\u001b[0m\u001b[0;34m=\u001b[0m\u001b[0;32mTrue\u001b[0m\u001b[0;34m,\u001b[0m \u001b[0mright_index\u001b[0m\u001b[0;34m=\u001b[0m\u001b[0;32mTrue\u001b[0m\u001b[0;34m)\u001b[0m\u001b[0;34m\u001b[0m\u001b[0;34m\u001b[0m\u001b[0m\n\u001b[0m\u001b[1;32m     10\u001b[0m     \u001b[0mam_output\u001b[0m \u001b[0;34m=\u001b[0m \u001b[0mpd\u001b[0m\u001b[0;34m.\u001b[0m\u001b[0mconcat\u001b[0m\u001b[0;34m(\u001b[0m\u001b[0;34m[\u001b[0m\u001b[0mam_output\u001b[0m\u001b[0;34m,\u001b[0m \u001b[0mjoined\u001b[0m\u001b[0;34m]\u001b[0m\u001b[0;34m)\u001b[0m\u001b[0;34m\u001b[0m\u001b[0;34m\u001b[0m\u001b[0m\n\u001b[1;32m     11\u001b[0m     \u001b[0;32mif\u001b[0m \u001b[0mlen\u001b[0m\u001b[0;34m(\u001b[0m\u001b[0mjoined\u001b[0m\u001b[0;34m)\u001b[0m\u001b[0;34m:\u001b[0m\u001b[0;34m\u001b[0m\u001b[0;34m\u001b[0m\u001b[0m\n",
      "\u001b[0;32m/Applications/anaconda3/lib/python3.8/site-packages/pandas/core/reshape/merge.py\u001b[0m in \u001b[0;36mmerge\u001b[0;34m(left, right, how, on, left_on, right_on, left_index, right_index, sort, suffixes, copy, indicator, validate)\u001b[0m\n\u001b[1;32m    120\u001b[0m         \u001b[0mvalidate\u001b[0m\u001b[0;34m=\u001b[0m\u001b[0mvalidate\u001b[0m\u001b[0;34m,\u001b[0m\u001b[0;34m\u001b[0m\u001b[0;34m\u001b[0m\u001b[0m\n\u001b[1;32m    121\u001b[0m     )\n\u001b[0;32m--> 122\u001b[0;31m     \u001b[0;32mreturn\u001b[0m \u001b[0mop\u001b[0m\u001b[0;34m.\u001b[0m\u001b[0mget_result\u001b[0m\u001b[0;34m(\u001b[0m\u001b[0;34m)\u001b[0m\u001b[0;34m\u001b[0m\u001b[0;34m\u001b[0m\u001b[0m\n\u001b[0m\u001b[1;32m    123\u001b[0m \u001b[0;34m\u001b[0m\u001b[0m\n\u001b[1;32m    124\u001b[0m \u001b[0;34m\u001b[0m\u001b[0m\n",
      "\u001b[0;32m/Applications/anaconda3/lib/python3.8/site-packages/pandas/core/reshape/merge.py\u001b[0m in \u001b[0;36mget_result\u001b[0;34m(self)\u001b[0m\n\u001b[1;32m    714\u001b[0m             \u001b[0mself\u001b[0m\u001b[0;34m.\u001b[0m\u001b[0mleft\u001b[0m\u001b[0;34m,\u001b[0m \u001b[0mself\u001b[0m\u001b[0;34m.\u001b[0m\u001b[0mright\u001b[0m \u001b[0;34m=\u001b[0m \u001b[0mself\u001b[0m\u001b[0;34m.\u001b[0m\u001b[0m_indicator_pre_merge\u001b[0m\u001b[0;34m(\u001b[0m\u001b[0mself\u001b[0m\u001b[0;34m.\u001b[0m\u001b[0mleft\u001b[0m\u001b[0;34m,\u001b[0m \u001b[0mself\u001b[0m\u001b[0;34m.\u001b[0m\u001b[0mright\u001b[0m\u001b[0;34m)\u001b[0m\u001b[0;34m\u001b[0m\u001b[0;34m\u001b[0m\u001b[0m\n\u001b[1;32m    715\u001b[0m \u001b[0;34m\u001b[0m\u001b[0m\n\u001b[0;32m--> 716\u001b[0;31m         \u001b[0mjoin_index\u001b[0m\u001b[0;34m,\u001b[0m \u001b[0mleft_indexer\u001b[0m\u001b[0;34m,\u001b[0m \u001b[0mright_indexer\u001b[0m \u001b[0;34m=\u001b[0m \u001b[0mself\u001b[0m\u001b[0;34m.\u001b[0m\u001b[0m_get_join_info\u001b[0m\u001b[0;34m(\u001b[0m\u001b[0;34m)\u001b[0m\u001b[0;34m\u001b[0m\u001b[0;34m\u001b[0m\u001b[0m\n\u001b[0m\u001b[1;32m    717\u001b[0m \u001b[0;34m\u001b[0m\u001b[0m\n\u001b[1;32m    718\u001b[0m         llabels, rlabels = _items_overlap_with_suffix(\n",
      "\u001b[0;32m/Applications/anaconda3/lib/python3.8/site-packages/pandas/core/reshape/merge.py\u001b[0m in \u001b[0;36m_get_join_info\u001b[0;34m(self)\u001b[0m\n\u001b[1;32m    951\u001b[0m \u001b[0;34m\u001b[0m\u001b[0m\n\u001b[1;32m    952\u001b[0m         \u001b[0;32mif\u001b[0m \u001b[0mself\u001b[0m\u001b[0;34m.\u001b[0m\u001b[0mleft_index\u001b[0m \u001b[0;32mand\u001b[0m \u001b[0mself\u001b[0m\u001b[0;34m.\u001b[0m\u001b[0mright_index\u001b[0m \u001b[0;32mand\u001b[0m \u001b[0mself\u001b[0m\u001b[0;34m.\u001b[0m\u001b[0mhow\u001b[0m \u001b[0;34m!=\u001b[0m \u001b[0;34m\"asof\"\u001b[0m\u001b[0;34m:\u001b[0m\u001b[0;34m\u001b[0m\u001b[0;34m\u001b[0m\u001b[0m\n\u001b[0;32m--> 953\u001b[0;31m             join_index, left_indexer, right_indexer = left_ax.join(\n\u001b[0m\u001b[1;32m    954\u001b[0m                 \u001b[0mright_ax\u001b[0m\u001b[0;34m,\u001b[0m \u001b[0mhow\u001b[0m\u001b[0;34m=\u001b[0m\u001b[0mself\u001b[0m\u001b[0;34m.\u001b[0m\u001b[0mhow\u001b[0m\u001b[0;34m,\u001b[0m \u001b[0mreturn_indexers\u001b[0m\u001b[0;34m=\u001b[0m\u001b[0;32mTrue\u001b[0m\u001b[0;34m,\u001b[0m \u001b[0msort\u001b[0m\u001b[0;34m=\u001b[0m\u001b[0mself\u001b[0m\u001b[0;34m.\u001b[0m\u001b[0msort\u001b[0m\u001b[0;34m\u001b[0m\u001b[0;34m\u001b[0m\u001b[0m\n\u001b[1;32m    955\u001b[0m             )\n",
      "\u001b[0;32m/Applications/anaconda3/lib/python3.8/site-packages/pandas/core/indexes/base.py\u001b[0m in \u001b[0;36mjoin\u001b[0;34m(self, other, how, level, return_indexers, sort)\u001b[0m\n\u001b[1;32m    214\u001b[0m         \u001b[0msort\u001b[0m\u001b[0;34m:\u001b[0m \u001b[0mbool\u001b[0m \u001b[0;34m=\u001b[0m \u001b[0;32mFalse\u001b[0m\u001b[0;34m,\u001b[0m\u001b[0;34m\u001b[0m\u001b[0;34m\u001b[0m\u001b[0m\n\u001b[1;32m    215\u001b[0m     ):\n\u001b[0;32m--> 216\u001b[0;31m         \u001b[0mjoin_index\u001b[0m\u001b[0;34m,\u001b[0m \u001b[0mlidx\u001b[0m\u001b[0;34m,\u001b[0m \u001b[0mridx\u001b[0m \u001b[0;34m=\u001b[0m \u001b[0mmeth\u001b[0m\u001b[0;34m(\u001b[0m\u001b[0mself\u001b[0m\u001b[0;34m,\u001b[0m \u001b[0mother\u001b[0m\u001b[0;34m,\u001b[0m \u001b[0mhow\u001b[0m\u001b[0;34m=\u001b[0m\u001b[0mhow\u001b[0m\u001b[0;34m,\u001b[0m \u001b[0mlevel\u001b[0m\u001b[0;34m=\u001b[0m\u001b[0mlevel\u001b[0m\u001b[0;34m,\u001b[0m \u001b[0msort\u001b[0m\u001b[0;34m=\u001b[0m\u001b[0msort\u001b[0m\u001b[0;34m)\u001b[0m\u001b[0;34m\u001b[0m\u001b[0;34m\u001b[0m\u001b[0m\n\u001b[0m\u001b[1;32m    217\u001b[0m         \u001b[0;32mif\u001b[0m \u001b[0;32mnot\u001b[0m \u001b[0mreturn_indexers\u001b[0m\u001b[0;34m:\u001b[0m\u001b[0;34m\u001b[0m\u001b[0;34m\u001b[0m\u001b[0m\n\u001b[1;32m    218\u001b[0m             \u001b[0;32mreturn\u001b[0m \u001b[0mjoin_index\u001b[0m\u001b[0;34m\u001b[0m\u001b[0;34m\u001b[0m\u001b[0m\n",
      "\u001b[0;32m/Applications/anaconda3/lib/python3.8/site-packages/pandas/core/indexes/base.py\u001b[0m in \u001b[0;36mjoin\u001b[0;34m(self, other, how, level, return_indexers, sort)\u001b[0m\n\u001b[1;32m   4406\u001b[0m                     \u001b[0;32mreturn\u001b[0m \u001b[0mself\u001b[0m\u001b[0;34m.\u001b[0m\u001b[0m_join_monotonic\u001b[0m\u001b[0;34m(\u001b[0m\u001b[0mother\u001b[0m\u001b[0;34m,\u001b[0m \u001b[0mhow\u001b[0m\u001b[0;34m=\u001b[0m\u001b[0mhow\u001b[0m\u001b[0;34m)\u001b[0m\u001b[0;34m\u001b[0m\u001b[0;34m\u001b[0m\u001b[0m\n\u001b[1;32m   4407\u001b[0m             \u001b[0;32melse\u001b[0m\u001b[0;34m:\u001b[0m\u001b[0;34m\u001b[0m\u001b[0;34m\u001b[0m\u001b[0m\n\u001b[0;32m-> 4408\u001b[0;31m                 \u001b[0;32mreturn\u001b[0m \u001b[0mself\u001b[0m\u001b[0;34m.\u001b[0m\u001b[0m_join_non_unique\u001b[0m\u001b[0;34m(\u001b[0m\u001b[0mother\u001b[0m\u001b[0;34m,\u001b[0m \u001b[0mhow\u001b[0m\u001b[0;34m=\u001b[0m\u001b[0mhow\u001b[0m\u001b[0;34m)\u001b[0m\u001b[0;34m\u001b[0m\u001b[0;34m\u001b[0m\u001b[0m\n\u001b[0m\u001b[1;32m   4409\u001b[0m         elif (\n\u001b[1;32m   4410\u001b[0m             \u001b[0mself\u001b[0m\u001b[0;34m.\u001b[0m\u001b[0mis_monotonic\u001b[0m\u001b[0;34m\u001b[0m\u001b[0;34m\u001b[0m\u001b[0m\n",
      "\u001b[0;32m/Applications/anaconda3/lib/python3.8/site-packages/pandas/core/indexes/base.py\u001b[0m in \u001b[0;36m_join_non_unique\u001b[0;34m(self, other, how)\u001b[0m\n\u001b[1;32m   4545\u001b[0m \u001b[0;34m\u001b[0m\u001b[0m\n\u001b[1;32m   4546\u001b[0m         left_idx, right_idx = get_join_indexers(\n\u001b[0;32m-> 4547\u001b[0;31m             \u001b[0;34m[\u001b[0m\u001b[0mself\u001b[0m\u001b[0;34m.\u001b[0m\u001b[0m_values\u001b[0m\u001b[0;34m]\u001b[0m\u001b[0;34m,\u001b[0m \u001b[0;34m[\u001b[0m\u001b[0mother\u001b[0m\u001b[0;34m.\u001b[0m\u001b[0m_values\u001b[0m\u001b[0;34m]\u001b[0m\u001b[0;34m,\u001b[0m \u001b[0mhow\u001b[0m\u001b[0;34m=\u001b[0m\u001b[0mhow\u001b[0m\u001b[0;34m,\u001b[0m \u001b[0msort\u001b[0m\u001b[0;34m=\u001b[0m\u001b[0;32mTrue\u001b[0m\u001b[0;34m\u001b[0m\u001b[0;34m\u001b[0m\u001b[0m\n\u001b[0m\u001b[1;32m   4548\u001b[0m         )\n\u001b[1;32m   4549\u001b[0m         \u001b[0mmask\u001b[0m \u001b[0;34m=\u001b[0m \u001b[0mleft_idx\u001b[0m \u001b[0;34m==\u001b[0m \u001b[0;34m-\u001b[0m\u001b[0;36m1\u001b[0m\u001b[0;34m\u001b[0m\u001b[0;34m\u001b[0m\u001b[0m\n",
      "\u001b[0;32mpandas/_libs/properties.pyx\u001b[0m in \u001b[0;36mpandas._libs.properties.CachedProperty.__get__\u001b[0;34m()\u001b[0m\n",
      "\u001b[0;32m/Applications/anaconda3/lib/python3.8/site-packages/pandas/core/indexes/multi.py\u001b[0m in \u001b[0;36m_values\u001b[0;34m(self)\u001b[0m\n\u001b[1;32m    712\u001b[0m             \u001b[0mvalues\u001b[0m\u001b[0;34m.\u001b[0m\u001b[0mappend\u001b[0m\u001b[0;34m(\u001b[0m\u001b[0mvals\u001b[0m\u001b[0;34m)\u001b[0m\u001b[0;34m\u001b[0m\u001b[0;34m\u001b[0m\u001b[0m\n\u001b[1;32m    713\u001b[0m \u001b[0;34m\u001b[0m\u001b[0m\n\u001b[0;32m--> 714\u001b[0;31m         \u001b[0marr\u001b[0m \u001b[0;34m=\u001b[0m \u001b[0mlib\u001b[0m\u001b[0;34m.\u001b[0m\u001b[0mfast_zip\u001b[0m\u001b[0;34m(\u001b[0m\u001b[0mvalues\u001b[0m\u001b[0;34m)\u001b[0m\u001b[0;34m\u001b[0m\u001b[0;34m\u001b[0m\u001b[0m\n\u001b[0m\u001b[1;32m    715\u001b[0m         \u001b[0;32mreturn\u001b[0m \u001b[0marr\u001b[0m\u001b[0;34m\u001b[0m\u001b[0;34m\u001b[0m\u001b[0m\n\u001b[1;32m    716\u001b[0m \u001b[0;34m\u001b[0m\u001b[0m\n",
      "\u001b[0;31mKeyboardInterrupt\u001b[0m: "
     ]
    }
   ],
   "source": [
    "chunksize = 100000 \n",
    "am_output = pd.DataFrame()\n",
    "num_vars = 0\n",
    "alpha_m = \"../data/AlphaMissense_hg38.tsv\"\n",
    "\n",
    "# Reading in chunks, keeping rows overlapping a variant\n",
    "for chunk in pd.read_csv(alpha_m, sep='\\t', chunksize=chunksize, header = 3):\n",
    "    chunk = chunk.set_index(keys = [\"#CHROM\", \"POS\"])\n",
    "    joined = pd.merge(all_tf_vars_coords, chunk, left_index=True, right_index=True)\n",
    "    am_output = pd.concat([am_output, joined])\n",
    "    if len(joined):\n",
    "        print(len(set(am_output.index)))\n",
    "        # display(joined)"
   ]
  },
  {
   "cell_type": "code",
   "execution_count": null,
   "id": "f6a882b7",
   "metadata": {},
   "outputs": [],
   "source": [
    "am_output = am_output.reset_index()\n",
    "am_output"
   ]
  },
  {
   "cell_type": "code",
   "execution_count": null,
   "id": "b50d5e9e",
   "metadata": {
    "scrolled": true
   },
   "outputs": [],
   "source": [
    "all_tf_vars"
   ]
  },
  {
   "cell_type": "code",
   "execution_count": null,
   "id": "e1ca30f0",
   "metadata": {},
   "outputs": [],
   "source": [
    "am_output[\"POS\"] = am_output[\"POS\"].astype(int)\n",
    "all_tf_vars[\"POS\"] = all_tf_vars[\"POS\"].astype(int)"
   ]
  },
  {
   "cell_type": "code",
   "execution_count": null,
   "id": "2b718021",
   "metadata": {},
   "outputs": [],
   "source": [
    "merged_tf = pd.merge(all_tf_vars, am_output, on = [\"#CHROM\",\"POS\",\"REF\",\"ALT\"])\n",
    "merged_tf"
   ]
  },
  {
   "cell_type": "code",
   "execution_count": null,
   "id": "7ddfd129",
   "metadata": {},
   "outputs": [],
   "source": [
    "# AD variants only\n",
    "all_ad_var_dfs = []\n",
    "\n",
    "for TF in TFs:\n",
    "    ad_vars = pd.read_csv(\"../soto_analysis/outputs/mutations/domains_expanded_iWES_v2_variants_snv_classified/\" + TF + \".bed\", sep = \"\\t\", header = None)\n",
    "    all_ad_var_dfs.append(ad_vars)"
   ]
  },
  {
   "cell_type": "code",
   "execution_count": null,
   "id": "4f7cd45d",
   "metadata": {},
   "outputs": [],
   "source": [
    "all_ad_vars = pd.concat(all_ad_var_dfs)\n",
    "all_ad_vars = all_ad_vars[all_ad_vars[22] == \"No-Syn\"]\n",
    "all_ad_vars = all_ad_vars.rename(columns = {0 :\"#CHROM\", \n",
    "                                           2: \"POS\",\n",
    "                                           17: \"REF\",\n",
    "                                           18: \"ALT\"})\n",
    "all_ad_vars[\"#CHROM\"] = \"chr\" + all_ad_vars[\"#CHROM\"].astype(str)\n",
    "all_ad_vars[\"POS\"] = all_ad_vars[\"POS\"].astype(int)\n",
    "all_ad_vars = all_ad_vars[all_ad_vars[3] == \"AD\"]\n",
    "all_ad_vars"
   ]
  },
  {
   "cell_type": "code",
   "execution_count": null,
   "id": "5aa9bd97",
   "metadata": {},
   "outputs": [],
   "source": [
    "all_dbd_vars = pd.concat(all_ad_var_dfs)\n",
    "all_dbd_vars = all_dbd_vars[all_dbd_vars[22] == \"No-Syn\"]\n",
    "all_dbd_vars = all_dbd_vars.rename(columns = {0 :\"#CHROM\", \n",
    "                                           2: \"POS\",\n",
    "                                           17: \"REF\",\n",
    "                                           18: \"ALT\"})\n",
    "all_dbd_vars[\"#CHROM\"] = \"chr\" + all_dbd_vars[\"#CHROM\"].astype(str)\n",
    "all_dbd_vars[\"POS\"] = all_dbd_vars[\"POS\"].astype(int)\n",
    "all_dbd_vars = all_dbd_vars[all_dbd_vars[3] == \"DBD\"]\n",
    "all_dbd_vars"
   ]
  },
  {
   "cell_type": "code",
   "execution_count": null,
   "id": "87bf6416",
   "metadata": {},
   "outputs": [],
   "source": [
    "merged_ad = pd.merge(all_ad_vars, am_output, on = [\"#CHROM\",\"POS\",\"REF\",\"ALT\"])\n",
    "merged_ad"
   ]
  },
  {
   "cell_type": "code",
   "execution_count": null,
   "id": "bb4d667e",
   "metadata": {},
   "outputs": [],
   "source": [
    "merged_ad.to_csv(\"../output/alphamissense_path_preds_AD_vars.csv\")"
   ]
  },
  {
   "cell_type": "code",
   "execution_count": null,
   "id": "b206f38f",
   "metadata": {},
   "outputs": [],
   "source": [
    "merged_dbd = pd.merge(all_dbd_vars, am_output, on = [\"#CHROM\",\"POS\",\"REF\",\"ALT\"])\n",
    "merged_dbd"
   ]
  },
  {
   "cell_type": "code",
   "execution_count": null,
   "id": "a193598d",
   "metadata": {},
   "outputs": [],
   "source": [
    "merged_tf_minus_ad = pd.merge(merged_tf, merged_ad[['#CHROM','POS', 'REF', 'ALT']], \n",
    "                                                    on=['#CHROM','POS', 'REF', 'ALT'], how=\"outer\", indicator=True)\n",
    "merged_tf_minus_ad = merged_tf_minus_ad[merged_tf_minus_ad['_merge'] == 'left_only']\n",
    "merged_tf_minus_ad = merged_tf_minus_ad.drop(columns = \"_merge\")\n",
    "merged_tf_minus_ad"
   ]
  },
  {
   "cell_type": "code",
   "execution_count": null,
   "id": "e8c88643",
   "metadata": {},
   "outputs": [],
   "source": [
    "merged_tf_minus_ad_and_dbd = pd.merge(merged_tf_minus_ad, merged_dbd[['#CHROM','POS', 'REF', 'ALT']], \n",
    "                                                    on=['#CHROM','POS', 'REF', 'ALT'], how=\"outer\", indicator=True)\n",
    "merged_tf_minus_ad_and_dbd = merged_tf_minus_ad_and_dbd[merged_tf_minus_ad_and_dbd['_merge'] == 'left_only']\n",
    "merged_tf_minus_ad_and_dbd"
   ]
  },
  {
   "cell_type": "code",
   "execution_count": null,
   "id": "87a9bb7d",
   "metadata": {},
   "outputs": [],
   "source": [
    "np.mean(merged_ad[\"am_pathogenicity\"])"
   ]
  },
  {
   "cell_type": "code",
   "execution_count": null,
   "id": "bfb38637",
   "metadata": {},
   "outputs": [],
   "source": [
    "np.mean(merged_tf_minus_ad[\"am_pathogenicity\"])"
   ]
  },
  {
   "cell_type": "code",
   "execution_count": null,
   "id": "8d9ec86c",
   "metadata": {},
   "outputs": [],
   "source": []
  },
  {
   "cell_type": "code",
   "execution_count": null,
   "id": "1248840a",
   "metadata": {},
   "outputs": [],
   "source": [
    "import seaborn as sns\n",
    "sns.set_theme(rc={'figure.figsize':(6,4), 'figure.dpi':150})\n",
    "sns.set_style(\"white\")\n",
    "import matplotlib.pyplot as plt\n",
    "\n",
    "\n",
    "sns.histplot(merged_tf_minus_ad[\"am_class\"], stat = \"density\")\n",
    "sns.histplot(merged_ad[\"am_class\"], stat = \"density\", color = \"orange\")"
   ]
  },
  {
   "cell_type": "code",
   "execution_count": null,
   "id": "906e3855",
   "metadata": {
    "scrolled": false
   },
   "outputs": [],
   "source": [
    "bins = np.arange(0, 1.05, 0.05)\n",
    "sns.histplot(merged_tf_minus_ad[\"am_pathogenicity\"], stat = \"density\", label = \"Rest of TF Variants\", color = \"b\", bins = bins, alpha = 0.5)\n",
    "sns.histplot(merged_ad[\"am_pathogenicity\"], stat = \"density\", label = \"AD Variants\", color = \"orange\", bins = bins, alpha = 0.5)\n",
    "plt.xlabel(\"AM Pathogenicity Score\")\n",
    "plt.legend();"
   ]
  },
  {
   "cell_type": "code",
   "execution_count": null,
   "id": "2fa2ec0c",
   "metadata": {},
   "outputs": [],
   "source": [
    "bins = np.arange(0, 1.05, 0.05)\n",
    "sns.histplot(merged_ad[\"am_pathogenicity\"], stat = \"density\", label = \"AD Variants\", color = \"orange\",bins = bins, alpha = 0.5)\n",
    "sns.histplot(merged_dbd[\"am_pathogenicity\"], stat = \"density\", label = \"DBD Variants\", color = \"purple\", bins = bins, alpha = 0.5)\n",
    "sns.histplot(merged_tf_minus_ad_and_dbd[\"am_pathogenicity\"], stat = \"density\", label = \"Rest of TF Variants\", color = \"b\", bins = bins, alpha = 0.5)\n",
    "\n",
    "plt.xlabel(\"AM Pathogenicity Score\")\n",
    "plt.legend();"
   ]
  },
  {
   "cell_type": "markdown",
   "id": "08546d7a",
   "metadata": {},
   "source": [
    "Sampling"
   ]
  },
  {
   "cell_type": "code",
   "execution_count": null,
   "id": "1938f364",
   "metadata": {
    "scrolled": true
   },
   "outputs": [],
   "source": [
    "len(merged_ad)"
   ]
  },
  {
   "cell_type": "code",
   "execution_count": null,
   "id": "e381f551",
   "metadata": {},
   "outputs": [],
   "source": [
    "sample_expec_pathog_avgs = []\n",
    "for i in range(10000):\n",
    "    sampled_ad_vars = merged_tf.sample(n = len(merged_ad), replace=True)\n",
    "    expec_pathog_avg = np.mean(sampled_ad_vars[\"am_pathogenicity\"])\n",
    "    sample_expec_pathog_avgs.append(expec_pathog_avg)"
   ]
  },
  {
   "cell_type": "code",
   "execution_count": null,
   "id": "d7a35484",
   "metadata": {},
   "outputs": [],
   "source": [
    "sns.histplot(sample_expec_pathog_avgs, stat = \"density\")\n",
    "plt.axvline(np.mean(merged_ad[\"am_pathogenicity\"]), 0,1, color = \"orange\")\n",
    "plt.xlabel(\"Sample AM Pathogenicity Average\");"
   ]
  },
  {
   "cell_type": "code",
   "execution_count": null,
   "id": "70b40c4d",
   "metadata": {},
   "outputs": [],
   "source": [
    "len(merged_ad)"
   ]
  },
  {
   "cell_type": "code",
   "execution_count": null,
   "id": "644cb08d",
   "metadata": {},
   "outputs": [],
   "source": [
    "# DBD\n",
    "len(merged_dbd)"
   ]
  },
  {
   "cell_type": "code",
   "execution_count": null,
   "id": "5dda9481",
   "metadata": {},
   "outputs": [],
   "source": [
    "sample_expec_pathog_avgs_dbd = []\n",
    "for i in range(10000):\n",
    "    sampled_dbd_vars = merged_tf.sample(n = len(merged_dbd), replace=True)\n",
    "    expec_pathog_avg_dbd = np.mean(sampled_dbd_vars[\"am_pathogenicity\"])\n",
    "    sample_expec_pathog_avgs_dbd.append(expec_pathog_avg_dbd)\n",
    "\n",
    "sns.histplot(sample_expec_pathog_avgs_dbd, stat = \"density\")\n",
    "plt.axvline(np.mean(merged_dbd[\"am_pathogenicity\"]), 0,1, color = \"purple\")\n",
    "plt.xlabel(\"Sample AM Pathogenicity Average\");"
   ]
  },
  {
   "cell_type": "code",
   "execution_count": null,
   "id": "55f9a814",
   "metadata": {},
   "outputs": [],
   "source": []
  }
 ],
 "metadata": {
  "kernelspec": {
   "display_name": "Python 3",
   "language": "python",
   "name": "python3"
  },
  "language_info": {
   "codemirror_mode": {
    "name": "ipython",
    "version": 3
   },
   "file_extension": ".py",
   "mimetype": "text/x-python",
   "name": "python",
   "nbconvert_exporter": "python",
   "pygments_lexer": "ipython3",
   "version": "3.8.8"
  }
 },
 "nbformat": 4,
 "nbformat_minor": 5
}
