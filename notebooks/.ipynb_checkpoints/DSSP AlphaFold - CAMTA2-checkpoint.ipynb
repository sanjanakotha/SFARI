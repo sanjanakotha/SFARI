{
 "cells": [
  {
   "cell_type": "code",
   "execution_count": 110,
   "id": "836625ac-3189-4e36-b41f-4d508f3b9143",
   "metadata": {},
   "outputs": [],
   "source": [
    "from Bio.PDB import PDBParser\n",
    "from Bio.PDB.DSSP import DSSP\n",
    "import pandas as pd\n",
    "import seaborn as sns\n",
    "import numpy as np\n",
    "import matplotlib.pyplot as plt\n",
    "import itertools\n",
    "import matplotlib.patches as patches\n"
   ]
  },
  {
   "cell_type": "code",
   "execution_count": 68,
   "id": "b14a4341-f700-4b4c-89c5-f4e1dc19929b",
   "metadata": {},
   "outputs": [],
   "source": [
    "p = PDBParser()\n",
    "structure = p.get_structure(\"CAMTA2\", \"/Users/sanjanakotha/Downloads/AF-O94983-F1-model_v4.pdb\")\n",
    "model = structure[0]\n",
    "dssp = DSSP(model, \"/Users/sanjanakotha/Downloads/AF-O94983-F1-model_v4.pdb\")"
   ]
  },
  {
   "cell_type": "code",
   "execution_count": 53,
   "id": "0e52e3a8-8d59-48d5-9640-10902b0727c2",
   "metadata": {},
   "outputs": [],
   "source": [
    "# Code \n",
    "\n",
    "# Categories described at https://www.nature.com/articles/s41467-022-28865-w\n",
    "# sheet (extended strand in parallel or antiparallel β-sheet conformation and residues in isolated β-bridges) and loop (residues which are not in any known conformation)\n",
    "\n",
    "\n",
    "## HELIX\n",
    "# H\n",
    "# Alpha helix (4-12)\n",
    "\n",
    "# G\n",
    "# 3-10 helix\n",
    "\n",
    "# I\n",
    "# Pi helix\n",
    "\n",
    "## SHEET\n",
    "# B\n",
    "# Isolated beta-bridge residue\n",
    "\n",
    "# E\n",
    "# Strand\n",
    "\n",
    "## OTHER\n",
    "# T\n",
    "# Turn\n",
    "\n",
    "# S\n",
    "# Bend\n",
    "\n",
    "# -\n",
    "# None\n"
   ]
  },
  {
   "cell_type": "code",
   "execution_count": 56,
   "id": "78d24810-8bc5-4ac5-8740-41d8f0e8db58",
   "metadata": {},
   "outputs": [],
   "source": [
    "pos = []\n",
    "code = []\n",
    "\n",
    "for i in range(len(list(dssp.keys()))):\n",
    "    pos.append(i)\n",
    "    a_key = list(dssp.keys())[i]\n",
    "    code.append(dssp[a_key][2])"
   ]
  },
  {
   "cell_type": "code",
   "execution_count": 194,
   "id": "472803a1-d7a7-4fff-8a90-dcdbb8de0c1c",
   "metadata": {},
   "outputs": [
    {
     "data": {
      "text/html": [
       "<div>\n",
       "<style scoped>\n",
       "    .dataframe tbody tr th:only-of-type {\n",
       "        vertical-align: middle;\n",
       "    }\n",
       "\n",
       "    .dataframe tbody tr th {\n",
       "        vertical-align: top;\n",
       "    }\n",
       "\n",
       "    .dataframe thead th {\n",
       "        text-align: right;\n",
       "    }\n",
       "</style>\n",
       "<table border=\"1\" class=\"dataframe\">\n",
       "  <thead>\n",
       "    <tr style=\"text-align: right;\">\n",
       "      <th></th>\n",
       "      <th>pos</th>\n",
       "      <th>code</th>\n",
       "    </tr>\n",
       "  </thead>\n",
       "  <tbody>\n",
       "    <tr>\n",
       "      <th>0</th>\n",
       "      <td>0</td>\n",
       "      <td>-</td>\n",
       "    </tr>\n",
       "    <tr>\n",
       "      <th>1</th>\n",
       "      <td>1</td>\n",
       "      <td>-</td>\n",
       "    </tr>\n",
       "    <tr>\n",
       "      <th>2</th>\n",
       "      <td>2</td>\n",
       "      <td>-</td>\n",
       "    </tr>\n",
       "    <tr>\n",
       "      <th>3</th>\n",
       "      <td>3</td>\n",
       "      <td>-</td>\n",
       "    </tr>\n",
       "    <tr>\n",
       "      <th>4</th>\n",
       "      <td>4</td>\n",
       "      <td>-</td>\n",
       "    </tr>\n",
       "    <tr>\n",
       "      <th>...</th>\n",
       "      <td>...</td>\n",
       "      <td>...</td>\n",
       "    </tr>\n",
       "    <tr>\n",
       "      <th>1197</th>\n",
       "      <td>1197</td>\n",
       "      <td>-</td>\n",
       "    </tr>\n",
       "    <tr>\n",
       "      <th>1198</th>\n",
       "      <td>1198</td>\n",
       "      <td>-</td>\n",
       "    </tr>\n",
       "    <tr>\n",
       "      <th>1199</th>\n",
       "      <td>1199</td>\n",
       "      <td>-</td>\n",
       "    </tr>\n",
       "    <tr>\n",
       "      <th>1200</th>\n",
       "      <td>1200</td>\n",
       "      <td>-</td>\n",
       "    </tr>\n",
       "    <tr>\n",
       "      <th>1201</th>\n",
       "      <td>1201</td>\n",
       "      <td>-</td>\n",
       "    </tr>\n",
       "  </tbody>\n",
       "</table>\n",
       "<p>1202 rows × 2 columns</p>\n",
       "</div>"
      ],
      "text/plain": [
       "       pos code\n",
       "0        0    -\n",
       "1        1    -\n",
       "2        2    -\n",
       "3        3    -\n",
       "4        4    -\n",
       "...    ...  ...\n",
       "1197  1197    -\n",
       "1198  1198    -\n",
       "1199  1199    -\n",
       "1200  1200    -\n",
       "1201  1201    -\n",
       "\n",
       "[1202 rows x 2 columns]"
      ]
     },
     "execution_count": 194,
     "metadata": {},
     "output_type": "execute_result"
    }
   ],
   "source": [
    "codes = pd.DataFrame({\"pos\" : pos, \"code\" : code})\n",
    "codes"
   ]
  },
  {
   "cell_type": "code",
   "execution_count": 195,
   "id": "16812838-7d10-40ee-8ae1-229bdddc3291",
   "metadata": {},
   "outputs": [
    {
     "data": {
      "text/plain": [
       "code\n",
       "-    588\n",
       "H    315\n",
       "E     84\n",
       "T     67\n",
       "P     56\n",
       "S     48\n",
       "G     35\n",
       "B      9\n",
       "Name: count, dtype: int64"
      ]
     },
     "execution_count": 195,
     "metadata": {},
     "output_type": "execute_result"
    }
   ],
   "source": [
    "codes[\"code\"].value_counts()"
   ]
  },
  {
   "cell_type": "code",
   "execution_count": 196,
   "id": "e93d9c96-46b6-4046-9214-48f1c522a5d2",
   "metadata": {},
   "outputs": [],
   "source": [
    "# code_map = {\"H\" : \"Alpha helix (4-12)\", \n",
    "#             \"G\" : \"helix\", \n",
    "#             \"I\" : \"helix\", \n",
    "#             \"P\" : \"proline helix\", # poly proline helix\"\n",
    "#             \"B\" : \"sheet\",\n",
    "#             \"E\" : \"sheet\",\n",
    "#             \"T\" : \"other\",\n",
    "#             \"S\" : \"other\",\n",
    "#             \"-\" : \"other\"}\n",
    "# codes[\"group\"] = codes[\"code\"].map(code_map)\n",
    "# codes"
   ]
  },
  {
   "cell_type": "code",
   "execution_count": 215,
   "id": "f5bcb627-607f-4b40-b896-865646a8d518",
   "metadata": {},
   "outputs": [],
   "source": [
    "# G 3-turn helix (3_10 helix)\n",
    "# H 4-turn helix (alpha-helix)\n",
    "# I 5-turn helix (pi helix)\n",
    "\n",
    "# E extended strand in parallel and/or anti-parallel β-sheet conformation. Min length 2 residues\n",
    "# B residue in isolated β-bridge (single pair β-sheet hydrogen bond formation)\n",
    "\n",
    "# P Polyproline\n",
    "\n",
    "# T H-bonded turn\n",
    "# S bend\n",
    "\n",
    "# - coil -- ignore"
   ]
  },
  {
   "cell_type": "code",
   "execution_count": 218,
   "id": "24601628-0267-41da-8e16-6e948ff23687",
   "metadata": {},
   "outputs": [
    {
     "data": {
      "text/html": [
       "<svg  width=\"330\" height=\"55\"><rect x=\"0\" y=\"0\" width=\"55\" height=\"55\" style=\"fill:#dbe9f6;stroke-width:2;stroke:rgb(255,255,255)\"/><rect x=\"55\" y=\"0\" width=\"55\" height=\"55\" style=\"fill:#bad6eb;stroke-width:2;stroke:rgb(255,255,255)\"/><rect x=\"110\" y=\"0\" width=\"55\" height=\"55\" style=\"fill:#89bedc;stroke-width:2;stroke:rgb(255,255,255)\"/><rect x=\"165\" y=\"0\" width=\"55\" height=\"55\" style=\"fill:#539ecd;stroke-width:2;stroke:rgb(255,255,255)\"/><rect x=\"220\" y=\"0\" width=\"55\" height=\"55\" style=\"fill:#2b7bba;stroke-width:2;stroke:rgb(255,255,255)\"/><rect x=\"275\" y=\"0\" width=\"55\" height=\"55\" style=\"fill:#0b559f;stroke-width:2;stroke:rgb(255,255,255)\"/></svg>"
      ],
      "text/plain": [
       "[(0.8584083044982699, 0.9134486735870818, 0.9645674740484429),\n",
       " (0.7309496347558632, 0.8394771241830065, 0.9213225682429834),\n",
       " (0.5356862745098039, 0.746082276047674, 0.8642522106881968),\n",
       " (0.32628988850442137, 0.6186236063052672, 0.802798923490965),\n",
       " (0.16696655132641292, 0.48069204152249134, 0.7291503267973857),\n",
       " (0.044059976931949255, 0.3338869665513264, 0.6244521337946944)]"
      ]
     },
     "execution_count": 218,
     "metadata": {},
     "output_type": "execute_result"
    }
   ],
   "source": [
    "sns.color_palette('Blues')"
   ]
  },
  {
   "cell_type": "code",
   "execution_count": 304,
   "id": "4832ecc9-ff42-473f-bff7-3f2c03402e90",
   "metadata": {},
   "outputs": [],
   "source": [
    "color_palette = {# Helices\n",
    "                \"G\" : sns.color_palette('Blues')[-1],\n",
    "                \"H\" : sns.color_palette('Blues')[-1],\n",
    "                \"I\" : sns.color_palette('Blues')[-1],\n",
    "\n",
    "                # Sheets\n",
    "                \"E\" : sns.color_palette('Greens')[-1],\n",
    "                \"B\" : sns.color_palette('Greens')[-1],\n",
    "\n",
    "                # Poly proline helix\n",
    "                \"P\" : sns.color_palette('Reds')[-1],\n",
    "\n",
    "                # Other\n",
    "                \"T\" : \"white\",\n",
    "                \"S\" : \"white\",\n",
    "                \"-\" : \"white\"}"
   ]
  },
  {
   "cell_type": "code",
   "execution_count": 305,
   "id": "9aaafc3b-5013-4b0f-8760-8444a6fed5c6",
   "metadata": {},
   "outputs": [
    {
     "data": {
      "text/html": [
       "<div>\n",
       "<style scoped>\n",
       "    .dataframe tbody tr th:only-of-type {\n",
       "        vertical-align: middle;\n",
       "    }\n",
       "\n",
       "    .dataframe tbody tr th {\n",
       "        vertical-align: top;\n",
       "    }\n",
       "\n",
       "    .dataframe thead th {\n",
       "        text-align: right;\n",
       "    }\n",
       "</style>\n",
       "<table border=\"1\" class=\"dataframe\">\n",
       "  <thead>\n",
       "    <tr style=\"text-align: right;\">\n",
       "      <th></th>\n",
       "      <th>pos</th>\n",
       "      <th>code</th>\n",
       "      <th>y</th>\n",
       "    </tr>\n",
       "  </thead>\n",
       "  <tbody>\n",
       "    <tr>\n",
       "      <th>0</th>\n",
       "      <td>0</td>\n",
       "      <td>-</td>\n",
       "      <td>1.0</td>\n",
       "    </tr>\n",
       "    <tr>\n",
       "      <th>1</th>\n",
       "      <td>1</td>\n",
       "      <td>-</td>\n",
       "      <td>1.0</td>\n",
       "    </tr>\n",
       "    <tr>\n",
       "      <th>2</th>\n",
       "      <td>2</td>\n",
       "      <td>-</td>\n",
       "      <td>1.0</td>\n",
       "    </tr>\n",
       "    <tr>\n",
       "      <th>3</th>\n",
       "      <td>3</td>\n",
       "      <td>-</td>\n",
       "      <td>1.0</td>\n",
       "    </tr>\n",
       "    <tr>\n",
       "      <th>4</th>\n",
       "      <td>4</td>\n",
       "      <td>-</td>\n",
       "      <td>1.0</td>\n",
       "    </tr>\n",
       "    <tr>\n",
       "      <th>...</th>\n",
       "      <td>...</td>\n",
       "      <td>...</td>\n",
       "      <td>...</td>\n",
       "    </tr>\n",
       "    <tr>\n",
       "      <th>1197</th>\n",
       "      <td>1197</td>\n",
       "      <td>-</td>\n",
       "      <td>1.0</td>\n",
       "    </tr>\n",
       "    <tr>\n",
       "      <th>1198</th>\n",
       "      <td>1198</td>\n",
       "      <td>-</td>\n",
       "      <td>1.0</td>\n",
       "    </tr>\n",
       "    <tr>\n",
       "      <th>1199</th>\n",
       "      <td>1199</td>\n",
       "      <td>-</td>\n",
       "      <td>1.0</td>\n",
       "    </tr>\n",
       "    <tr>\n",
       "      <th>1200</th>\n",
       "      <td>1200</td>\n",
       "      <td>-</td>\n",
       "      <td>1.0</td>\n",
       "    </tr>\n",
       "    <tr>\n",
       "      <th>1201</th>\n",
       "      <td>1201</td>\n",
       "      <td>-</td>\n",
       "      <td>1.0</td>\n",
       "    </tr>\n",
       "  </tbody>\n",
       "</table>\n",
       "<p>1202 rows × 3 columns</p>\n",
       "</div>"
      ],
      "text/plain": [
       "       pos code    y\n",
       "0        0    -  1.0\n",
       "1        1    -  1.0\n",
       "2        2    -  1.0\n",
       "3        3    -  1.0\n",
       "4        4    -  1.0\n",
       "...    ...  ...  ...\n",
       "1197  1197    -  1.0\n",
       "1198  1198    -  1.0\n",
       "1199  1199    -  1.0\n",
       "1200  1200    -  1.0\n",
       "1201  1201    -  1.0\n",
       "\n",
       "[1202 rows x 3 columns]"
      ]
     },
     "execution_count": 305,
     "metadata": {},
     "output_type": "execute_result"
    }
   ],
   "source": [
    "codes[\"y\"] = np.ones(len(codes))\n",
    "codes"
   ]
  },
  {
   "cell_type": "code",
   "execution_count": 306,
   "id": "4987aac8-5278-43dc-93a5-149b47bf9ca5",
   "metadata": {},
   "outputs": [],
   "source": [
    "def plot_rectangle(start, end, color, box_height, ax, y = 0, alpha = 0.7):\n",
    "    if start != end:\n",
    "        rectangle = patches.Rectangle((start, y), width=end - start, height=box_height, linewidth=1, edgecolor='none', facecolor=color, alpha=alpha)\n",
    "        ax.add_patch(rectangle)\n",
    "    else:\n",
    "        ax.axvline(start, lw = 1, alpha = alpha, color = color)"
   ]
  },
  {
   "cell_type": "code",
   "execution_count": 307,
   "id": "713b7263-cfb6-4e11-a571-2dc2b0f66643",
   "metadata": {},
   "outputs": [],
   "source": [
    "def return_intervals(a):\n",
    "    a = sorted(set(a))\n",
    "    b = []\n",
    "    for k, g in itertools.groupby(enumerate(a), \n",
    "        key=lambda t: t[1] - t[0]):\n",
    "        g = list(g)\n",
    "        b.append([g[0][1], g[-1][1]]) \n",
    "    \n",
    "    return b"
   ]
  },
  {
   "cell_type": "code",
   "execution_count": 308,
   "id": "f1d6911d-77e9-45f2-b50f-5f87c5fba40b",
   "metadata": {},
   "outputs": [
    {
     "data": {
      "text/plain": [
       "{'-', 'B', 'E', 'G', 'H', 'P', 'S', 'T'}"
      ]
     },
     "execution_count": 308,
     "metadata": {},
     "output_type": "execute_result"
    }
   ],
   "source": [
    "set(codes[\"code\"])"
   ]
  },
  {
   "cell_type": "code",
   "execution_count": 309,
   "id": "716e13ab-0959-4cd7-85bb-a768b17d6bd1",
   "metadata": {},
   "outputs": [],
   "source": [
    "# helix_intervals = return_intervals(codes[codes[\"group\"] == \"helix\"][\"pos\"])\n",
    "# P_helix_intervals = return_intervals(codes[codes[\"group\"] == \"proline helix\"][\"pos\"])\n",
    "\n",
    "# sheet_intervals = return_intervals(codes[codes[\"group\"] == \"sheet\"][\"pos\"])\n",
    "# #other_intervals = return_intervals(codes[codes[\"group\"] == \"other\"][\"pos\"])"
   ]
  },
  {
   "cell_type": "code",
   "execution_count": 310,
   "id": "f5ed80dc-b49e-426e-b612-b32e9faf5d66",
   "metadata": {},
   "outputs": [
    {
     "data": {
      "text/plain": [
       "[[1, 4], [6, 6]]"
      ]
     },
     "execution_count": 310,
     "metadata": {},
     "output_type": "execute_result"
    }
   ],
   "source": [
    "return_intervals([1, 2, 3, 4, 6])"
   ]
  },
  {
   "cell_type": "code",
   "execution_count": 311,
   "id": "fbe0a4b0-9f32-4391-8b66-5e6f25461f84",
   "metadata": {},
   "outputs": [
    {
     "data": {
      "image/png": "[encoded data removed]",
      "text/plain": [
       "<Figure size 1950x150 with 1 Axes>"
      ]
     },
     "metadata": {},
     "output_type": "display_data"
    }
   ],
   "source": [
    "fig, ax = plt.subplots(figsize=(6.5,0.5), dpi = 300)\n",
    "plot_rectangle(0.1, 0.4, \"green\", 1, ax)\n",
    "plot_rectangle(0.6, 0.6, \"red\", 1, ax)\n"
   ]
  },
  {
   "cell_type": "code",
   "execution_count": 312,
   "id": "709a2053-2aca-4bb6-9d8e-062aa2b163ed",
   "metadata": {},
   "outputs": [
    {
     "data": {
      "image/png": "[encoded data removed]",
      "text/plain": [
       "<Figure size 1950x150 with 1 Axes>"
      ]
     },
     "metadata": {},
     "output_type": "display_data"
    }
   ],
   "source": [
    "i = 0\n",
    "\n",
    "fig, ax = plt.subplots(figsize=(6.5,0.5), dpi = 300)\n",
    "\n",
    "for code in set(codes[\"code\"]):\n",
    "    intervals =  return_intervals(codes[codes[\"code\"] == code][\"pos\"])\n",
    "    for s, e in intervals:\n",
    "        #print(i)\n",
    "        color = color_palette[code]\n",
    "        plot_rectangle(s, e, color, 1, ax)\n",
    "        plt.xlim(1, 1201)       \n",
    "    i+=1\n",
    "\n",
    "sns.despine()\n",
    "\n",
    "from matplotlib.lines import Line2D\n",
    "\n",
    "\n",
    "custom_lines = [Line2D([0], [0], color = c, lw = 4) for c in color_palette.values()]\n",
    "\n",
    "#lines = ax.plot(data)\n",
    "#ax.legend(custom_lines, color_palette.keys(), loc = 'upper right')"
   ]
  },
  {
   "cell_type": "code",
   "execution_count": null,
   "id": "9dbbb2ba-3626-44f2-9445-10f1fc46aa8f",
   "metadata": {},
   "outputs": [],
   "source": []
  },
  {
   "cell_type": "code",
   "execution_count": null,
   "id": "f82b0e1a-7c90-45a4-a127-b14b408b9ca6",
   "metadata": {},
   "outputs": [],
   "source": []
  },
  {
   "cell_type": "code",
   "execution_count": null,
   "id": "66e3317a-e7ae-4937-977d-7f0c644033b8",
   "metadata": {},
   "outputs": [],
   "source": []
  },
  {
   "cell_type": "code",
   "execution_count": null,
   "id": "8281ecd0-2a8c-406c-8b55-aad89746854a",
   "metadata": {},
   "outputs": [],
   "source": []
  }
 ],
 "metadata": {
  "kernelspec": {
   "display_name": "Python 3 (ipykernel)",
   "language": "python",
   "name": "python3"
  },
  "language_info": {
   "codemirror_mode": {
    "name": "ipython",
    "version": 3
   },
   "file_extension": ".py",
   "mimetype": "text/x-python",
   "name": "python",
   "nbconvert_exporter": "python",
   "pygments_lexer": "ipython3",
   "version": "3.10.9"
  }
 },
 "nbformat": 4,
 "nbformat_minor": 5
}
