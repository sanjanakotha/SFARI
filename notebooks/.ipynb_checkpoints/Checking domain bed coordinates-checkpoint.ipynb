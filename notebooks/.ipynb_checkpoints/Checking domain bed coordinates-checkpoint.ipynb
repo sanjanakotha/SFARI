{
 "cells": [
  {
   "cell_type": "code",
   "execution_count": 142,
   "id": "0091f0b1-d5d4-4444-95c1-a739141d3c41",
   "metadata": {},
   "outputs": [],
   "source": [
    "import pandas as pd\n",
    "import glob as glob\n",
    "import numpy as np"
   ]
  },
  {
   "cell_type": "code",
   "execution_count": 143,
   "id": "10d9fe54-fbb5-4600-809d-713735beee17",
   "metadata": {},
   "outputs": [
    {
     "data": {
      "text/html": [
       "<div>\n",
       "<style scoped>\n",
       "    .dataframe tbody tr th:only-of-type {\n",
       "        vertical-align: middle;\n",
       "    }\n",
       "\n",
       "    .dataframe tbody tr th {\n",
       "        vertical-align: top;\n",
       "    }\n",
       "\n",
       "    .dataframe thead th {\n",
       "        text-align: right;\n",
       "    }\n",
       "</style>\n",
       "<table border=\"1\" class=\"dataframe\">\n",
       "  <thead>\n",
       "    <tr style=\"text-align: right;\">\n",
       "      <th></th>\n",
       "      <th>Unnamed: 0</th>\n",
       "      <th>1</th>\n",
       "      <th>2</th>\n",
       "      <th>uniprotID</th>\n",
       "      <th>ENSG</th>\n",
       "      <th>ENST</th>\n",
       "      <th>DBD_coords</th>\n",
       "      <th>AD_coords</th>\n",
       "      <th>RD_coords</th>\n",
       "      <th>Bif_coords</th>\n",
       "      <th>length</th>\n",
       "    </tr>\n",
       "  </thead>\n",
       "  <tbody>\n",
       "    <tr>\n",
       "      <th>0</th>\n",
       "      <td>0</td>\n",
       "      <td>NaN</td>\n",
       "      <td>NaN</td>\n",
       "      <td>A6NJG6</td>\n",
       "      <td>NaN</td>\n",
       "      <td>ENST00000334384</td>\n",
       "      <td>79-135</td>\n",
       "      <td>142-315</td>\n",
       "      <td>NaN</td>\n",
       "      <td>NaN</td>\n",
       "      <td>1</td>\n",
       "    </tr>\n",
       "    <tr>\n",
       "      <th>1</th>\n",
       "      <td>1</td>\n",
       "      <td>NaN</td>\n",
       "      <td>NaN</td>\n",
       "      <td>A8MTJ6</td>\n",
       "      <td>NaN</td>\n",
       "      <td>ENST00000428390</td>\n",
       "      <td>145-234</td>\n",
       "      <td>369-420</td>\n",
       "      <td>NaN</td>\n",
       "      <td>NaN</td>\n",
       "      <td>1</td>\n",
       "    </tr>\n",
       "    <tr>\n",
       "      <th>2</th>\n",
       "      <td>2</td>\n",
       "      <td>NaN</td>\n",
       "      <td>NaN</td>\n",
       "      <td>A8MYZ6</td>\n",
       "      <td>NaN</td>\n",
       "      <td>ENST00000641094</td>\n",
       "      <td>89-178</td>\n",
       "      <td>382-491</td>\n",
       "      <td>NaN</td>\n",
       "      <td>NaN</td>\n",
       "      <td>1</td>\n",
       "    </tr>\n",
       "    <tr>\n",
       "      <th>3</th>\n",
       "      <td>3</td>\n",
       "      <td>NaN</td>\n",
       "      <td>NaN</td>\n",
       "      <td>A8MZ59</td>\n",
       "      <td>NaN</td>\n",
       "      <td>ENST00000640845</td>\n",
       "      <td>31-65</td>\n",
       "      <td>92-181</td>\n",
       "      <td>NaN</td>\n",
       "      <td>NaN</td>\n",
       "      <td>1</td>\n",
       "    </tr>\n",
       "    <tr>\n",
       "      <th>4</th>\n",
       "      <td>4</td>\n",
       "      <td>NaN</td>\n",
       "      <td>NaN</td>\n",
       "      <td>O00321</td>\n",
       "      <td>NaN</td>\n",
       "      <td>ENST00000403402</td>\n",
       "      <td>242-321</td>\n",
       "      <td>1-162</td>\n",
       "      <td>NaN</td>\n",
       "      <td>NaN</td>\n",
       "      <td>1</td>\n",
       "    </tr>\n",
       "    <tr>\n",
       "      <th>...</th>\n",
       "      <td>...</td>\n",
       "      <td>...</td>\n",
       "      <td>...</td>\n",
       "      <td>...</td>\n",
       "      <td>...</td>\n",
       "      <td>...</td>\n",
       "      <td>...</td>\n",
       "      <td>...</td>\n",
       "      <td>...</td>\n",
       "      <td>...</td>\n",
       "      <td>...</td>\n",
       "    </tr>\n",
       "    <tr>\n",
       "      <th>441</th>\n",
       "      <td>441</td>\n",
       "      <td>NaN</td>\n",
       "      <td>NaN</td>\n",
       "      <td>Q9Y5R6</td>\n",
       "      <td>NaN</td>\n",
       "      <td>ENST00000382276</td>\n",
       "      <td>72-118</td>\n",
       "      <td>172-251</td>\n",
       "      <td>NaN</td>\n",
       "      <td>NaN</td>\n",
       "      <td>1</td>\n",
       "    </tr>\n",
       "    <tr>\n",
       "      <th>442</th>\n",
       "      <td>442</td>\n",
       "      <td>NaN</td>\n",
       "      <td>NaN</td>\n",
       "      <td>Q9Y5W3</td>\n",
       "      <td>NaN</td>\n",
       "      <td>ENST00000248071</td>\n",
       "      <td>272-296,302-326,332-354</td>\n",
       "      <td>1-89</td>\n",
       "      <td>NaN</td>\n",
       "      <td>NaN</td>\n",
       "      <td>1</td>\n",
       "    </tr>\n",
       "    <tr>\n",
       "      <th>443</th>\n",
       "      <td>443</td>\n",
       "      <td>NaN</td>\n",
       "      <td>NaN</td>\n",
       "      <td>Q9Y692</td>\n",
       "      <td>NaN</td>\n",
       "      <td>ENST00000294409</td>\n",
       "      <td>89-165</td>\n",
       "      <td>422-573</td>\n",
       "      <td>NaN</td>\n",
       "      <td>NaN</td>\n",
       "      <td>1</td>\n",
       "    </tr>\n",
       "    <tr>\n",
       "      <th>444</th>\n",
       "      <td>444</td>\n",
       "      <td>NaN</td>\n",
       "      <td>NaN</td>\n",
       "      <td>Q9Y6Q9</td>\n",
       "      <td>NaN</td>\n",
       "      <td>ENST00000371998</td>\n",
       "      <td>31-83</td>\n",
       "      <td>621-1424</td>\n",
       "      <td>NaN</td>\n",
       "      <td>NaN</td>\n",
       "      <td>1</td>\n",
       "    </tr>\n",
       "    <tr>\n",
       "      <th>445</th>\n",
       "      <td>445</td>\n",
       "      <td>NaN</td>\n",
       "      <td>NaN</td>\n",
       "      <td>Q9Y6Y1</td>\n",
       "      <td>NaN</td>\n",
       "      <td>ENST00000303635</td>\n",
       "      <td>69-182</td>\n",
       "      <td>702-841,422-501</td>\n",
       "      <td>NaN</td>\n",
       "      <td>NaN</td>\n",
       "      <td>1</td>\n",
       "    </tr>\n",
       "  </tbody>\n",
       "</table>\n",
       "<p>446 rows × 11 columns</p>\n",
       "</div>"
      ],
      "text/plain": [
       "     Unnamed: 0   1   2 uniprotID  ENSG             ENST  \\\n",
       "0             0 NaN NaN    A6NJG6   NaN  ENST00000334384   \n",
       "1             1 NaN NaN    A8MTJ6   NaN  ENST00000428390   \n",
       "2             2 NaN NaN    A8MYZ6   NaN  ENST00000641094   \n",
       "3             3 NaN NaN    A8MZ59   NaN  ENST00000640845   \n",
       "4             4 NaN NaN    O00321   NaN  ENST00000403402   \n",
       "..          ...  ..  ..       ...   ...              ...   \n",
       "441         441 NaN NaN    Q9Y5R6   NaN  ENST00000382276   \n",
       "442         442 NaN NaN    Q9Y5W3   NaN  ENST00000248071   \n",
       "443         443 NaN NaN    Q9Y692   NaN  ENST00000294409   \n",
       "444         444 NaN NaN    Q9Y6Q9   NaN  ENST00000371998   \n",
       "445         445 NaN NaN    Q9Y6Y1   NaN  ENST00000303635   \n",
       "\n",
       "                  DBD_coords        AD_coords  RD_coords  Bif_coords  length  \n",
       "0                     79-135          142-315        NaN         NaN       1  \n",
       "1                    145-234          369-420        NaN         NaN       1  \n",
       "2                     89-178          382-491        NaN         NaN       1  \n",
       "3                      31-65           92-181        NaN         NaN       1  \n",
       "4                    242-321            1-162        NaN         NaN       1  \n",
       "..                       ...              ...        ...         ...     ...  \n",
       "441                   72-118          172-251        NaN         NaN       1  \n",
       "442  272-296,302-326,332-354             1-89        NaN         NaN       1  \n",
       "443                   89-165          422-573        NaN         NaN       1  \n",
       "444                    31-83         621-1424        NaN         NaN       1  \n",
       "445                   69-182  702-841,422-501        NaN         NaN       1  \n",
       "\n",
       "[446 rows x 11 columns]"
      ]
     },
     "execution_count": 143,
     "metadata": {},
     "output_type": "execute_result"
    }
   ],
   "source": [
    "TFs_tbl = pd.read_csv(\"../soto_analysis/outputs/all_TFs_table_proteins.txt\", sep = \"\\t\")\n",
    "TFs_tbl"
   ]
  },
  {
   "cell_type": "code",
   "execution_count": 144,
   "id": "88d2d5cc-c5c1-4e97-b2ad-dc4554d2dfbe",
   "metadata": {
    "scrolled": true
   },
   "outputs": [
    {
     "data": {
      "text/plain": [
       "['../soto_analysis/outputs/mutations/domains_bed_format/Q5XKR4',\n",
       " '../soto_analysis/outputs/mutations/domains_bed_format/Q8N587',\n",
       " '../soto_analysis/outputs/mutations/domains_bed_format/P37231']"
      ]
     },
     "execution_count": 144,
     "metadata": {},
     "output_type": "execute_result"
    }
   ],
   "source": [
    "tf_domain_beds = glob.glob(\"../soto_analysis/outputs/mutations/domains_bed_format/*\")\n",
    "tf_domain_beds[:3]"
   ]
  },
  {
   "cell_type": "code",
   "execution_count": 145,
   "id": "410d1db8-62b0-446f-aeae-276dc03f062a",
   "metadata": {},
   "outputs": [],
   "source": [
    "#https://www.geeksforgeeks.org/python-make-a-list-of-intervals-with-sequential-numbers/\n",
    "def interval_extract(input_list):\n",
    "    input_list = sorted(set(input_list))\n",
    "    range_start = previous_number = input_list[0]\n",
    " \n",
    "    for number in input_list[1:]:\n",
    "        if number == previous_number + 1:\n",
    "            previous_number = number\n",
    "        else:\n",
    "            yield [range_start, previous_number]\n",
    "            range_start = previous_number = number\n",
    "    yield [range_start, previous_number]"
   ]
  },
  {
   "cell_type": "code",
   "execution_count": 146,
   "id": "1746537f-bc22-44b7-a8db-1d293c19e89c",
   "metadata": {},
   "outputs": [],
   "source": [
    "def convert_rec(x):\n",
    "    if isinstance(x, list):\n",
    "        return list(map(convert_rec, x))\n",
    "    else:\n",
    "        return int(x)"
   ]
  },
  {
   "cell_type": "code",
   "execution_count": 156,
   "id": "4c742dd1-1e4d-400d-b5b9-a7543ce3666c",
   "metadata": {},
   "outputs": [
    {
     "name": "stdout",
     "output_type": "stream",
     "text": [
      "check P10070 AD\n"
     ]
    },
    {
     "data": {
      "text/plain": [
       "'expec: [[659, 1197], [1198, 1586]]'"
      ]
     },
     "metadata": {},
     "output_type": "display_data"
    },
    {
     "data": {
      "text/plain": [
       "'obs: [[659, 1586]]'"
      ]
     },
     "metadata": {},
     "output_type": "display_data"
    },
    {
     "name": "stdout",
     "output_type": "stream",
     "text": [
      "check Q14872 AD\n"
     ]
    },
    {
     "data": {
      "text/plain": [
       "'expec: [[328, 509], [510, 624]]'"
      ]
     },
     "metadata": {},
     "output_type": "display_data"
    },
    {
     "data": {
      "text/plain": [
       "'obs: [[328, 624]]'"
      ]
     },
     "metadata": {},
     "output_type": "display_data"
    },
    {
     "name": "stdout",
     "output_type": "stream",
     "text": [
      "check P35453 AD\n"
     ]
    },
    {
     "data": {
      "text/plain": [
       "'expec: [[1, 131], [132, 271]]'"
      ]
     },
     "metadata": {},
     "output_type": "display_data"
    },
    {
     "data": {
      "text/plain": [
       "'obs: [[1, 271]]'"
      ]
     },
     "metadata": {},
     "output_type": "display_data"
    },
    {
     "name": "stdout",
     "output_type": "stream",
     "text": [
      "check Q13562 AD\n"
     ]
    },
    {
     "data": {
      "text/plain": [
       "'expec: [[190, 300], [301, 356]]'"
      ]
     },
     "metadata": {},
     "output_type": "display_data"
    },
    {
     "data": {
      "text/plain": [
       "'obs: [[190, 356]]'"
      ]
     },
     "metadata": {},
     "output_type": "display_data"
    },
    {
     "name": "stdout",
     "output_type": "stream",
     "text": [
      "check Q8TE85 AD\n"
     ]
    },
    {
     "data": {
      "text/plain": [
       "'expec: [[2, 101], [102, 190]]'"
      ]
     },
     "metadata": {},
     "output_type": "display_data"
    },
    {
     "data": {
      "text/plain": [
       "'obs: [[2, 190]]'"
      ]
     },
     "metadata": {},
     "output_type": "display_data"
    },
    {
     "name": "stdout",
     "output_type": "stream",
     "text": [
      "check O43889 AD\n"
     ]
    },
    {
     "data": {
      "text/plain": [
       "'expec: [[1, 107], [182, 261], [262, 351]]'"
      ]
     },
     "metadata": {},
     "output_type": "display_data"
    },
    {
     "data": {
      "text/plain": [
       "'obs: [[1, 107], [182, 351]]'"
      ]
     },
     "metadata": {},
     "output_type": "display_data"
    },
    {
     "name": "stdout",
     "output_type": "stream",
     "text": [
      "check Q9Y222 AD\n"
     ]
    },
    {
     "data": {
      "text/plain": [
       "'expec: [[1, 86], [87, 170], [458, 760]]'"
      ]
     },
     "metadata": {},
     "output_type": "display_data"
    },
    {
     "data": {
      "text/plain": [
       "'obs: [[1, 170], [458, 760]]'"
      ]
     },
     "metadata": {},
     "output_type": "display_data"
    },
    {
     "name": "stdout",
     "output_type": "stream",
     "text": [
      "check Q12947 AD\n"
     ]
    },
    {
     "data": {
      "text/plain": [
       "'expec: [[191, 421], [422, 444]]'"
      ]
     },
     "metadata": {},
     "output_type": "display_data"
    },
    {
     "data": {
      "text/plain": [
       "'obs: [[191, 444]]'"
      ]
     },
     "metadata": {},
     "output_type": "display_data"
    },
    {
     "name": "stdout",
     "output_type": "stream",
     "text": [
      "check Q13887 AD\n"
     ]
    },
    {
     "data": {
      "text/plain": [
       "'expec: [[1, 238], [239, 372]]'"
      ]
     },
     "metadata": {},
     "output_type": "display_data"
    },
    {
     "data": {
      "text/plain": [
       "'obs: [[1, 372]]'"
      ]
     },
     "metadata": {},
     "output_type": "display_data"
    }
   ],
   "source": [
    "def explode_df(input_df, strand):\n",
    "    df = input_df.copy(deep = True)\n",
    "    df[\"all_pos\"] = [np.arange(start, end ) for start, end in zip(df[1], df[2])]\n",
    "    df_exploded = df.explode(\"all_pos\")\n",
    "    if strand == -1:\n",
    "        df_exploded = df_exploded.sort_values(by = \"all_pos\", ascending = False)\n",
    "    else:\n",
    "        df_exploded = df_exploded.sort_values(by = \"all_pos\", ascending = True)\n",
    "    \n",
    "    df_exploded = df_exploded.reset_index(drop = True)\n",
    "    return df_exploded\n",
    "    \n",
    "for bed in tf_domain_beds:\n",
    "    #print(bed)\n",
    "\n",
    "    # REading in exising bed file of domain coordinates\n",
    "    domain_bed_df = pd.read_csv(bed, sep = \"\\t\", header = None)\n",
    "    \n",
    "    uniprotID = bed.split(\"/\")[-1]\n",
    "    row = TFs_tbl[TFs_tbl[\"uniprotID\"] == uniprotID]\n",
    "    #display(row)\n",
    "\n",
    "    # Comparing to CDS\n",
    "    ENST = row[\"ENST\"].iloc[0]\n",
    "    cds_bed_df = pd.read_csv(\"../soto_analysis/outputs/mutations/cds_bed_format/\" + ENST, sep = \"\\t\", header = None)\n",
    "    # cds_bed_df[1] += 1\n",
    "    # cds_bed_df[2] += 1\n",
    "    strand = cds_bed_df[4].iloc[0]\n",
    "    #print(strand)\n",
    "    #print(ENST)\n",
    "    # Adding one row per position and calc corresp protein position\n",
    "    cds_bed_df_exploded = explode_df(cds_bed_df, strand)\n",
    "    cds_bed_df_exploded[\"prot_pos\"] = 1 + cds_bed_df_exploded.index // 3\n",
    "\n",
    "    domain_bed_df_exploded = explode_df(domain_bed_df, strand)\n",
    "\n",
    "    overlap = pd.merge(cds_bed_df_exploded[[\"all_pos\", \"prot_pos\"]], domain_bed_df_exploded[[\"all_pos\", 3]], on = \"all_pos\")\n",
    "\n",
    "    for domain in [\"AD\", \"DBD\"]:\n",
    "        domain_positions = overlap[overlap[3] == domain]\n",
    "        expec = row[domain + \"_coords\"].iloc[0]\n",
    "\n",
    "        if len(domain_positions) > 0:\n",
    "            # Checking what the observed intervals of protein positiosn are where there is a matchign AD doman pos\n",
    "            obs = list(interval_extract(domain_positions[\"prot_pos\"]))\n",
    "            expec = row[domain + \"_coords\"].iloc[0]\n",
    "            expec = expec.split(\",\")\n",
    "            expec = [_.split(\"-\") for _ in expec]\n",
    "            expec = convert_rec(expec)\n",
    "            expec.sort()\n",
    "            if (obs != expec):\n",
    "                print(\"check \" + uniprotID + \" \" + domain)\n",
    "                display(\"expec: \" + str(expec))\n",
    "                display(\"obs: \" + str(obs))\n",
    "        else:\n",
    "            if expec != \"NA-NA\":\n",
    "                print(\"check \" + uniprotID + \" \" + domain)\n",
    "                display(\"expec: \" + str(expec))\n",
    "                display(\"obs: \" + str(obs))        \n",
    "\n",
    "\n",
    "    # print(\"done checking \" + uniprotID)\n",
    "    # print()\n",
    "\n",
    "\n",
    "    \n",
    "\n",
    "        \n",
    "    "
   ]
  },
  {
   "cell_type": "code",
   "execution_count": null,
   "id": "da11aa1c-cc55-4581-ace9-7f32362e15d8",
   "metadata": {},
   "outputs": [],
   "source": []
  }
 ],
 "metadata": {
  "kernelspec": {
   "display_name": "Python 3 (ipykernel)",
   "language": "python",
   "name": "python3"
  },
  "language_info": {
   "codemirror_mode": {
    "name": "ipython",
    "version": 3
   },
   "file_extension": ".py",
   "mimetype": "text/x-python",
   "name": "python",
   "nbconvert_exporter": "python",
   "pygments_lexer": "ipython3",
   "version": "3.10.9"
  }
 },
 "nbformat": 4,
 "nbformat_minor": 5
}
