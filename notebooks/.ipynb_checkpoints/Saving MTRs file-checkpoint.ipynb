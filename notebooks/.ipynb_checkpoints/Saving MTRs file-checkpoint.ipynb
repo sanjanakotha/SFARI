{
 "cells": [
  {
   "cell_type": "code",
   "execution_count": 1,
   "id": "f44b8de5-2730-45d3-baff-67825f177d8f",
   "metadata": {},
   "outputs": [],
   "source": [
    "import pandas as pd\n",
    "from os import listdir\n",
    "from os.path import isfile, join"
   ]
  },
  {
   "cell_type": "markdown",
   "id": "0d63f710-543d-4832-ae8a-17134d263f45",
   "metadata": {},
   "source": [
    "Getting MTR for all TF coding regions"
   ]
  },
  {
   "cell_type": "code",
   "execution_count": 2,
   "id": "db4b03d2-31ef-4506-8b20-f0992caf52a5",
   "metadata": {},
   "outputs": [
    {
     "data": {
      "text/html": [
       "<div>\n",
       "<style scoped>\n",
       "    .dataframe tbody tr th:only-of-type {\n",
       "        vertical-align: middle;\n",
       "    }\n",
       "\n",
       "    .dataframe tbody tr th {\n",
       "        vertical-align: top;\n",
       "    }\n",
       "\n",
       "    .dataframe thead th {\n",
       "        text-align: right;\n",
       "    }\n",
       "</style>\n",
       "<table border=\"1\" class=\"dataframe\">\n",
       "  <thead>\n",
       "    <tr style=\"text-align: right;\">\n",
       "      <th></th>\n",
       "      <th>uid</th>\n",
       "      <th>CHR</th>\n",
       "      <th>POS</th>\n",
       "      <th>REF</th>\n",
       "      <th>ALT</th>\n",
       "      <th>TranscriptId</th>\n",
       "      <th>GeneId</th>\n",
       "      <th>GeneName</th>\n",
       "      <th>exon</th>\n",
       "      <th>aa_position</th>\n",
       "      <th>...</th>\n",
       "      <th>expMTR</th>\n",
       "      <th>synObs</th>\n",
       "      <th>misObs</th>\n",
       "      <th>obsMTR</th>\n",
       "      <th>adj_rate</th>\n",
       "      <th>pvalue</th>\n",
       "      <th>qvalue</th>\n",
       "      <th>proteinLength</th>\n",
       "      <th>MTRpercentile_exome</th>\n",
       "      <th>MTRpercentile_transcript</th>\n",
       "    </tr>\n",
       "  </thead>\n",
       "  <tbody>\n",
       "    <tr>\n",
       "      <th>0</th>\n",
       "      <td>1:100007034:G:A</td>\n",
       "      <td>1</td>\n",
       "      <td>100007034</td>\n",
       "      <td>G</td>\n",
       "      <td>A</td>\n",
       "      <td>ENST00000639037</td>\n",
       "      <td>ENSG00000283761</td>\n",
       "      <td>AC118553.2</td>\n",
       "      <td>4/17</td>\n",
       "      <td>115</td>\n",
       "      <td>...</td>\n",
       "      <td>0.689308</td>\n",
       "      <td>16</td>\n",
       "      <td>23</td>\n",
       "      <td>0.589744</td>\n",
       "      <td>0.036680</td>\n",
       "      <td>0.054609</td>\n",
       "      <td>0.223179</td>\n",
       "      <td>713</td>\n",
       "      <td>0.175628</td>\n",
       "      <td>0.296765</td>\n",
       "    </tr>\n",
       "    <tr>\n",
       "      <th>1</th>\n",
       "      <td>1:100007034:G:A</td>\n",
       "      <td>1</td>\n",
       "      <td>100007034</td>\n",
       "      <td>G</td>\n",
       "      <td>A</td>\n",
       "      <td>ENST00000533028</td>\n",
       "      <td>ENSG00000117620</td>\n",
       "      <td>SLC35A3</td>\n",
       "      <td>4/8</td>\n",
       "      <td>115</td>\n",
       "      <td>...</td>\n",
       "      <td>0.689308</td>\n",
       "      <td>16</td>\n",
       "      <td>23</td>\n",
       "      <td>0.589744</td>\n",
       "      <td>0.036680</td>\n",
       "      <td>0.054609</td>\n",
       "      <td>0.223179</td>\n",
       "      <td>325</td>\n",
       "      <td>0.175628</td>\n",
       "      <td>0.297214</td>\n",
       "    </tr>\n",
       "    <tr>\n",
       "      <th>2</th>\n",
       "      <td>1:100007034:G:C</td>\n",
       "      <td>1</td>\n",
       "      <td>100007034</td>\n",
       "      <td>G</td>\n",
       "      <td>C</td>\n",
       "      <td>ENST00000639037</td>\n",
       "      <td>ENSG00000283761</td>\n",
       "      <td>AC118553.2</td>\n",
       "      <td>4/17</td>\n",
       "      <td>115</td>\n",
       "      <td>...</td>\n",
       "      <td>0.689308</td>\n",
       "      <td>16</td>\n",
       "      <td>23</td>\n",
       "      <td>0.589744</td>\n",
       "      <td>0.012259</td>\n",
       "      <td>0.054609</td>\n",
       "      <td>0.223179</td>\n",
       "      <td>713</td>\n",
       "      <td>0.175628</td>\n",
       "      <td>0.296765</td>\n",
       "    </tr>\n",
       "    <tr>\n",
       "      <th>3</th>\n",
       "      <td>1:100007034:G:C</td>\n",
       "      <td>1</td>\n",
       "      <td>100007034</td>\n",
       "      <td>G</td>\n",
       "      <td>C</td>\n",
       "      <td>ENST00000533028</td>\n",
       "      <td>ENSG00000117620</td>\n",
       "      <td>SLC35A3</td>\n",
       "      <td>4/8</td>\n",
       "      <td>115</td>\n",
       "      <td>...</td>\n",
       "      <td>0.689308</td>\n",
       "      <td>16</td>\n",
       "      <td>23</td>\n",
       "      <td>0.589744</td>\n",
       "      <td>0.012259</td>\n",
       "      <td>0.054609</td>\n",
       "      <td>0.223179</td>\n",
       "      <td>325</td>\n",
       "      <td>0.175628</td>\n",
       "      <td>0.297214</td>\n",
       "    </tr>\n",
       "    <tr>\n",
       "      <th>4</th>\n",
       "      <td>1:100007034:G:T</td>\n",
       "      <td>1</td>\n",
       "      <td>100007034</td>\n",
       "      <td>G</td>\n",
       "      <td>T</td>\n",
       "      <td>ENST00000639037</td>\n",
       "      <td>ENSG00000283761</td>\n",
       "      <td>AC118553.2</td>\n",
       "      <td>4/17</td>\n",
       "      <td>115</td>\n",
       "      <td>...</td>\n",
       "      <td>0.689308</td>\n",
       "      <td>16</td>\n",
       "      <td>23</td>\n",
       "      <td>0.589744</td>\n",
       "      <td>0.022763</td>\n",
       "      <td>0.054609</td>\n",
       "      <td>0.223179</td>\n",
       "      <td>713</td>\n",
       "      <td>0.175628</td>\n",
       "      <td>0.296765</td>\n",
       "    </tr>\n",
       "  </tbody>\n",
       "</table>\n",
       "<p>5 rows × 23 columns</p>\n",
       "</div>"
      ],
      "text/plain": [
       "               uid  CHR        POS REF ALT     TranscriptId           GeneId  \\\n",
       "0  1:100007034:G:A    1  100007034   G   A  ENST00000639037  ENSG00000283761   \n",
       "1  1:100007034:G:A    1  100007034   G   A  ENST00000533028  ENSG00000117620   \n",
       "2  1:100007034:G:C    1  100007034   G   C  ENST00000639037  ENSG00000283761   \n",
       "3  1:100007034:G:C    1  100007034   G   C  ENST00000533028  ENSG00000117620   \n",
       "4  1:100007034:G:T    1  100007034   G   T  ENST00000639037  ENSG00000283761   \n",
       "\n",
       "     GeneName  exon  aa_position  ...    expMTR  synObs  misObs    obsMTR  \\\n",
       "0  AC118553.2  4/17          115  ...  0.689308      16      23  0.589744   \n",
       "1     SLC35A3   4/8          115  ...  0.689308      16      23  0.589744   \n",
       "2  AC118553.2  4/17          115  ...  0.689308      16      23  0.589744   \n",
       "3     SLC35A3   4/8          115  ...  0.689308      16      23  0.589744   \n",
       "4  AC118553.2  4/17          115  ...  0.689308      16      23  0.589744   \n",
       "\n",
       "   adj_rate    pvalue    qvalue  proteinLength  MTRpercentile_exome  \\\n",
       "0  0.036680  0.054609  0.223179            713             0.175628   \n",
       "1  0.036680  0.054609  0.223179            325             0.175628   \n",
       "2  0.012259  0.054609  0.223179            713             0.175628   \n",
       "3  0.012259  0.054609  0.223179            325             0.175628   \n",
       "4  0.022763  0.054609  0.223179            713             0.175628   \n",
       "\n",
       "   MTRpercentile_transcript  \n",
       "0                  0.296765  \n",
       "1                  0.297214  \n",
       "2                  0.296765  \n",
       "3                  0.297214  \n",
       "4                  0.296765  \n",
       "\n",
       "[5 rows x 23 columns]"
      ]
     },
     "execution_count": 2,
     "metadata": {},
     "output_type": "execute_result"
    }
   ],
   "source": [
    "pd.read_csv(\"../data/full_MTR_scores.tsv\", nrows = 5, sep = \"\\t\")"
   ]
  },
  {
   "cell_type": "code",
   "execution_count": 15,
   "id": "bbf2377e-685e-436e-9c15-fa5c7461383f",
   "metadata": {},
   "outputs": [
    {
     "name": "stdout",
     "output_type": "stream",
     "text": [
      "Number of rows: 69393883\n"
     ]
    }
   ],
   "source": [
    "with open('../data/full_MTR_scores.tsv', 'r', encoding='utf-8') as file:\n",
    "    row_count = sum(1 for row in file)  # Count each line in the file\n",
    "    print(f\"Number of rows: {row_count}\")"
   ]
  },
  {
   "cell_type": "code",
   "execution_count": 20,
   "id": "5c6b0726-07ff-43f0-a1d6-321692bc30c9",
   "metadata": {},
   "outputs": [
    {
     "data": {
      "text/plain": [
       "6939.3883"
      ]
     },
     "execution_count": 20,
     "metadata": {},
     "output_type": "execute_result"
    }
   ],
   "source": [
    "69393883 / 10000\n",
    "# 7000 chunks of size 10,000"
   ]
  },
  {
   "cell_type": "code",
   "execution_count": 21,
   "id": "77a4d660-15cd-4a8b-8f08-f3330683dd38",
   "metadata": {},
   "outputs": [
    {
     "name": "stdout",
     "output_type": "stream",
     "text": [
      "0\n",
      "500\n",
      "1000\n",
      "1500\n",
      "2000\n",
      "2500\n",
      "3000\n",
      "3500\n",
      "4000\n",
      "4500\n",
      "5000\n",
      "5500\n",
      "6000\n",
      "6500\n"
     ]
    }
   ],
   "source": [
    "# # SLOW to run - 10 minutes?\n",
    "\n",
    "# Plan: convert to raw file format where I can run Soto scripts after\n",
    "chunksize = 10000\n",
    "mtr_output = pd.DataFrame()\n",
    "#num_vars = 0\n",
    "alpha_m = \"../data/full_MTR_scores.tsv\"\n",
    "chunks = []\n",
    "i = 0\n",
    "\n",
    "# Reading in chunks, keeping rows overlapping a variant\n",
    "for chunk in pd.read_csv(alpha_m, sep='\\t', chunksize=chunksize):\n",
    "    if i % 500 == 0:\n",
    "        print(i)\n",
    "    chunk = chunk.drop_duplicates(subset = [\"CHR\", \"POS\", \"MTR\"])\n",
    "    chunk = chunk[[\"CHR\", \"POS\", \"MTR\"]]\n",
    "    mtr_output = pd.concat([mtr_output, chunk])\n",
    "    i += 1"
   ]
  },
  {
   "cell_type": "code",
   "execution_count": 25,
   "id": "6160fa5d-e450-4cf6-9863-733782ec20b4",
   "metadata": {},
   "outputs": [
    {
     "data": {
      "text/html": [
       "<div>\n",
       "<style scoped>\n",
       "    .dataframe tbody tr th:only-of-type {\n",
       "        vertical-align: middle;\n",
       "    }\n",
       "\n",
       "    .dataframe tbody tr th {\n",
       "        vertical-align: top;\n",
       "    }\n",
       "\n",
       "    .dataframe thead th {\n",
       "        text-align: right;\n",
       "    }\n",
       "</style>\n",
       "<table border=\"1\" class=\"dataframe\">\n",
       "  <thead>\n",
       "    <tr style=\"text-align: right;\">\n",
       "      <th></th>\n",
       "      <th>CHR</th>\n",
       "      <th>POS</th>\n",
       "      <th>MTR</th>\n",
       "    </tr>\n",
       "  </thead>\n",
       "  <tbody>\n",
       "    <tr>\n",
       "      <th>0</th>\n",
       "      <td>1</td>\n",
       "      <td>100007034</td>\n",
       "      <td>0.855559</td>\n",
       "    </tr>\n",
       "    <tr>\n",
       "      <th>6</th>\n",
       "      <td>1</td>\n",
       "      <td>100007035</td>\n",
       "      <td>0.855559</td>\n",
       "    </tr>\n",
       "    <tr>\n",
       "      <th>12</th>\n",
       "      <td>1</td>\n",
       "      <td>100007037</td>\n",
       "      <td>0.854246</td>\n",
       "    </tr>\n",
       "    <tr>\n",
       "      <th>18</th>\n",
       "      <td>1</td>\n",
       "      <td>100007038</td>\n",
       "      <td>0.854246</td>\n",
       "    </tr>\n",
       "    <tr>\n",
       "      <th>24</th>\n",
       "      <td>1</td>\n",
       "      <td>100007040</td>\n",
       "      <td>0.861041</td>\n",
       "    </tr>\n",
       "    <tr>\n",
       "      <th>...</th>\n",
       "      <td>...</td>\n",
       "      <td>...</td>\n",
       "      <td>...</td>\n",
       "    </tr>\n",
       "    <tr>\n",
       "      <th>69393870</th>\n",
       "      <td>23</td>\n",
       "      <td>9967995</td>\n",
       "      <td>1.069518</td>\n",
       "    </tr>\n",
       "    <tr>\n",
       "      <th>69393872</th>\n",
       "      <td>23</td>\n",
       "      <td>9967996</td>\n",
       "      <td>1.069518</td>\n",
       "    </tr>\n",
       "    <tr>\n",
       "      <th>69393874</th>\n",
       "      <td>23</td>\n",
       "      <td>9967997</td>\n",
       "      <td>1.062757</td>\n",
       "    </tr>\n",
       "    <tr>\n",
       "      <th>69393876</th>\n",
       "      <td>23</td>\n",
       "      <td>9967998</td>\n",
       "      <td>1.062757</td>\n",
       "    </tr>\n",
       "    <tr>\n",
       "      <th>69393879</th>\n",
       "      <td>23</td>\n",
       "      <td>9967999</td>\n",
       "      <td>1.062757</td>\n",
       "    </tr>\n",
       "  </tbody>\n",
       "</table>\n",
       "<p>26688464 rows × 3 columns</p>\n",
       "</div>"
      ],
      "text/plain": [
       "          CHR        POS       MTR\n",
       "0           1  100007034  0.855559\n",
       "6           1  100007035  0.855559\n",
       "12          1  100007037  0.854246\n",
       "18          1  100007038  0.854246\n",
       "24          1  100007040  0.861041\n",
       "...       ...        ...       ...\n",
       "69393870   23    9967995  1.069518\n",
       "69393872   23    9967996  1.069518\n",
       "69393874   23    9967997  1.062757\n",
       "69393876   23    9967998  1.062757\n",
       "69393879   23    9967999  1.062757\n",
       "\n",
       "[26688464 rows x 3 columns]"
      ]
     },
     "execution_count": 25,
     "metadata": {},
     "output_type": "execute_result"
    }
   ],
   "source": [
    "mtr_output"
   ]
  },
  {
   "cell_type": "code",
   "execution_count": 24,
   "id": "2d11d1df-1ab6-44da-8580-8b3ce9f03f55",
   "metadata": {},
   "outputs": [],
   "source": [
    "mtr_output.to_csv(\"../soto_analysis/raw_files/mtr.bed\", index=False, sep='\\t', header=None)"
   ]
  },
  {
   "cell_type": "code",
   "execution_count": 29,
   "id": "a478536c-7b57-4bfd-bfbc-7a1f07ae948f",
   "metadata": {},
   "outputs": [
    {
     "data": {
      "text/html": [
       "<div>\n",
       "<style scoped>\n",
       "    .dataframe tbody tr th:only-of-type {\n",
       "        vertical-align: middle;\n",
       "    }\n",
       "\n",
       "    .dataframe tbody tr th {\n",
       "        vertical-align: top;\n",
       "    }\n",
       "\n",
       "    .dataframe thead th {\n",
       "        text-align: right;\n",
       "    }\n",
       "</style>\n",
       "<table border=\"1\" class=\"dataframe\">\n",
       "  <thead>\n",
       "    <tr style=\"text-align: right;\">\n",
       "      <th></th>\n",
       "      <th>0</th>\n",
       "      <th>1</th>\n",
       "      <th>2</th>\n",
       "    </tr>\n",
       "  </thead>\n",
       "  <tbody>\n",
       "    <tr>\n",
       "      <th>0</th>\n",
       "      <td>1</td>\n",
       "      <td>100007034</td>\n",
       "      <td>0.855559</td>\n",
       "    </tr>\n",
       "    <tr>\n",
       "      <th>1</th>\n",
       "      <td>1</td>\n",
       "      <td>100007035</td>\n",
       "      <td>0.855559</td>\n",
       "    </tr>\n",
       "    <tr>\n",
       "      <th>2</th>\n",
       "      <td>1</td>\n",
       "      <td>100007037</td>\n",
       "      <td>0.854246</td>\n",
       "    </tr>\n",
       "  </tbody>\n",
       "</table>\n",
       "</div>"
      ],
      "text/plain": [
       "   0          1         2\n",
       "0  1  100007034  0.855559\n",
       "1  1  100007035  0.855559\n",
       "2  1  100007037  0.854246"
      ]
     },
     "execution_count": 29,
     "metadata": {},
     "output_type": "execute_result"
    }
   ],
   "source": [
    "pd.read_csv(\"../soto_analysis/raw_files/mtr.bed\", nrows = 3, sep = \"\\t\",header = None)"
   ]
  },
  {
   "cell_type": "code",
   "execution_count": null,
   "id": "091a0fce-575b-48c0-acbb-aca4701e57a8",
   "metadata": {},
   "outputs": [],
   "source": []
  },
  {
   "cell_type": "code",
   "execution_count": null,
   "id": "e1c414ae-7628-42e8-8641-c6ef6009796f",
   "metadata": {},
   "outputs": [],
   "source": []
  },
  {
   "cell_type": "code",
   "execution_count": null,
   "id": "a85cbea3-c7a0-4400-809b-64b46d123822",
   "metadata": {},
   "outputs": [],
   "source": []
  },
  {
   "cell_type": "code",
   "execution_count": null,
   "id": "22af912e-3e63-4aec-8bb5-5059a2af8bec",
   "metadata": {},
   "outputs": [],
   "source": []
  },
  {
   "cell_type": "code",
   "execution_count": null,
   "id": "63db2ae6-f150-4d55-bb92-0f106355e6ec",
   "metadata": {},
   "outputs": [],
   "source": []
  },
  {
   "cell_type": "code",
   "execution_count": null,
   "id": "bb04adbb-ad23-44df-b7aa-c0789da9146c",
   "metadata": {},
   "outputs": [],
   "source": []
  },
  {
   "cell_type": "code",
   "execution_count": null,
   "id": "49cf560f-8c0a-4c55-914e-80ae9475166c",
   "metadata": {},
   "outputs": [],
   "source": []
  },
  {
   "cell_type": "code",
   "execution_count": null,
   "id": "a3d73bde-cfa5-4547-b60e-258891f787d7",
   "metadata": {},
   "outputs": [],
   "source": []
  },
  {
   "cell_type": "code",
   "execution_count": null,
   "id": "8d661ebf-f8dc-4082-b825-d97d8fed64ee",
   "metadata": {},
   "outputs": [],
   "source": []
  },
  {
   "cell_type": "code",
   "execution_count": null,
   "id": "fca25e3e-6b8d-4264-b917-f18f2e78bfbd",
   "metadata": {},
   "outputs": [],
   "source": []
  },
  {
   "cell_type": "code",
   "execution_count": null,
   "id": "593f5c3f-0852-4a23-9e54-18856a100dd8",
   "metadata": {},
   "outputs": [],
   "source": []
  },
  {
   "cell_type": "code",
   "execution_count": null,
   "id": "ac9a5cb2-37a3-457e-a8ab-a97f7e2056e1",
   "metadata": {},
   "outputs": [],
   "source": []
  },
  {
   "cell_type": "code",
   "execution_count": null,
   "id": "4a41a6f8-1106-433b-9a48-ffb4ea9a35ce",
   "metadata": {},
   "outputs": [],
   "source": []
  },
  {
   "cell_type": "code",
   "execution_count": null,
   "id": "353e8b50-89b7-41ed-8d3a-cebca640c424",
   "metadata": {},
   "outputs": [],
   "source": []
  },
  {
   "cell_type": "code",
   "execution_count": null,
   "id": "0a66953a-52cc-4247-904c-1a65f2d4bef6",
   "metadata": {},
   "outputs": [],
   "source": [
    "#https://stackoverflow.com/questions/3207219/how-do-i-list-all-files-of-a-directory\n",
    "TFs = [f for f in listdir(\"../soto_analysis/outputs/mutations/cds_bed_format/\") if isfile(join(\"../soto_analysis/outputs/mutations/cds_bed_format/\", f))]\n",
    "SFARI_TF_enst = set(pd.read_csv(\"../soto_analysis/outputs/TFs_table_proteins.txt\", sep = \"\\t\")[\"ENST\"])\n",
    "TFs = set(TFs) & SFARI_TF_enst\n",
    "len(TFs) # Only SFARI TFs"
   ]
  },
  {
   "cell_type": "code",
   "execution_count": null,
   "id": "817d1b24-185e-497a-b2f2-60fc3937ed60",
   "metadata": {},
   "outputs": [],
   "source": []
  },
  {
   "cell_type": "code",
   "execution_count": null,
   "id": "50894559-19a6-4759-ba9c-b0d2dabd36cc",
   "metadata": {},
   "outputs": [],
   "source": []
  },
  {
   "cell_type": "code",
   "execution_count": null,
   "id": "39f2ca04-5c6a-4dc5-ad58-b04c2008dd9a",
   "metadata": {},
   "outputs": [],
   "source": []
  },
  {
   "cell_type": "code",
   "execution_count": null,
   "id": "e16cc159-bd17-492d-80b4-b215b3fda9bf",
   "metadata": {},
   "outputs": [],
   "source": []
  },
  {
   "cell_type": "code",
   "execution_count": null,
   "id": "ded59eab-6c1d-46a8-8a0d-e02a67ab0545",
   "metadata": {},
   "outputs": [],
   "source": []
  },
  {
   "cell_type": "code",
   "execution_count": null,
   "id": "6a9b5eb3-e42e-4ad4-bf30-6aeb5a6aa04a",
   "metadata": {},
   "outputs": [],
   "source": []
  },
  {
   "cell_type": "code",
   "execution_count": null,
   "id": "1842a52b-ba44-464a-8069-b6c73205c110",
   "metadata": {},
   "outputs": [],
   "source": []
  },
  {
   "cell_type": "code",
   "execution_count": null,
   "id": "47ea3a6a-e898-49a2-b042-75c48c116159",
   "metadata": {},
   "outputs": [],
   "source": []
  },
  {
   "cell_type": "code",
   "execution_count": null,
   "id": "eb459622-fc6b-43a3-b7cb-2ce7fda15518",
   "metadata": {},
   "outputs": [],
   "source": [
    "all_cds_bed_dfs = []\n",
    "\n",
    "for TF in TFs:\n",
    "    if \"ENST\" in TF:\n",
    "        tf_cds_bed = pd.read_csv(\"../soto_analysis/outputs/mutations/cds_bed_format/\" + TF, sep = \"\\t\", header = None)\n",
    "        all_cds_bed_dfs.append(tf_cds_bed)\n",
    "\n",
    "all_cds_bed_df = pd.concat(all_cds_bed_dfs)\n",
    "all_cds_bed_df = all_cds_bed_df.reset_index(drop = True)\n",
    "all_cds_bed_df"
   ]
  },
  {
   "cell_type": "code",
   "execution_count": null,
   "id": "e11e0f6b-f05d-41d5-ac0c-906ef4382a97",
   "metadata": {},
   "outputs": [],
   "source": [
    "all_cds_bed_df[\"ranges\"] = [np.arange(s, e + 1) for s, e\n",
    "all_cds_bed_df"
   ]
  },
  {
   "cell_type": "code",
   "execution_count": null,
   "id": "26f3620b-3079-433a-a20d-8541c6aef0f9",
   "metadata": {},
   "outputs": [],
   "source": []
  },
  {
   "cell_type": "code",
   "execution_count": null,
   "id": "0abf68a6-ad11-4687-a852-d2ee926e2535",
   "metadata": {},
   "outputs": [],
   "source": []
  },
  {
   "cell_type": "code",
   "execution_count": null,
   "id": "8559ba8b-6126-4c86-b56c-21ff5f8026c9",
   "metadata": {},
   "outputs": [],
   "source": []
  },
  {
   "cell_type": "code",
   "execution_count": null,
   "id": "d6199f1a-fe0f-4c06-86fb-184f0c4127c0",
   "metadata": {},
   "outputs": [],
   "source": []
  },
  {
   "cell_type": "code",
   "execution_count": null,
   "id": "5d041d76-16f2-4cf2-b6db-7df47ff22b0f",
   "metadata": {},
   "outputs": [],
   "source": []
  },
  {
   "cell_type": "code",
   "execution_count": null,
   "id": "28f1dc87-6d29-4476-8fec-3df6aea4ebd4",
   "metadata": {},
   "outputs": [],
   "source": []
  },
  {
   "cell_type": "code",
   "execution_count": null,
   "id": "f2ba6e8c-6741-46e3-8980-0861d92d701a",
   "metadata": {},
   "outputs": [],
   "source": []
  },
  {
   "cell_type": "code",
   "execution_count": null,
   "id": "83c44d9c-0425-4119-9e76-4ef7c9d810a9",
   "metadata": {},
   "outputs": [],
   "source": []
  },
  {
   "cell_type": "code",
   "execution_count": null,
   "id": "3f180a2f-6056-4111-8cf7-c74046803695",
   "metadata": {},
   "outputs": [],
   "source": []
  },
  {
   "cell_type": "code",
   "execution_count": null,
   "id": "434e90d8-326a-4893-a16f-4cc0d747f702",
   "metadata": {},
   "outputs": [],
   "source": []
  },
  {
   "cell_type": "code",
   "execution_count": null,
   "id": "76f5b2f7-440f-4b81-8fbb-c827adce76ce",
   "metadata": {},
   "outputs": [],
   "source": []
  },
  {
   "cell_type": "code",
   "execution_count": null,
   "id": "044ee7f4-877f-458d-b85a-74f57b99fd3f",
   "metadata": {},
   "outputs": [],
   "source": []
  },
  {
   "cell_type": "code",
   "execution_count": null,
   "id": "c523b62d-12d1-4542-a057-b9c50df22260",
   "metadata": {},
   "outputs": [],
   "source": []
  },
  {
   "cell_type": "code",
   "execution_count": null,
   "id": "060c0fc9-184a-40e3-9b06-fb6d02b7646e",
   "metadata": {},
   "outputs": [],
   "source": []
  },
  {
   "cell_type": "code",
   "execution_count": null,
   "id": "28a392d8-3672-4cad-b2a4-b6bb337caded",
   "metadata": {},
   "outputs": [],
   "source": []
  },
  {
   "cell_type": "code",
   "execution_count": null,
   "id": "e99f9d49-49eb-4ec3-a9d8-5ebeef9ea690",
   "metadata": {},
   "outputs": [],
   "source": []
  },
  {
   "cell_type": "code",
   "execution_count": null,
   "id": "cd3e8c93-3cd3-4ecc-ba89-32ebde773587",
   "metadata": {},
   "outputs": [],
   "source": []
  },
  {
   "cell_type": "code",
   "execution_count": null,
   "id": "d0eb6a6c-7368-4681-8833-5b41b1b15838",
   "metadata": {},
   "outputs": [],
   "source": [
    "all_tf_var_dfs = []\n",
    "\n",
    "for TF in TFs:\n",
    "    if \"ENST\" in TF:\n",
    "        tf_vars = pd.read_csv(\"../soto_analysis/outputs/mutations/cds_expanded_iWES_v2_variants_snv_classified/\" + TF + \".bed\", sep = \"\\t\", header = None)\n",
    "        if len(tf_vars) == 0:\n",
    "            display(tf_vars)\n",
    "        all_tf_var_dfs.append(tf_vars)"
   ]
  },
  {
   "cell_type": "code",
   "execution_count": null,
   "id": "5a7bc439-16e2-459f-b99d-30cd534accc1",
   "metadata": {},
   "outputs": [],
   "source": []
  },
  {
   "cell_type": "code",
   "execution_count": null,
   "id": "43e2d356-7332-40c0-b3ea-feb3d78a8305",
   "metadata": {},
   "outputs": [],
   "source": []
  },
  {
   "cell_type": "code",
   "execution_count": null,
   "id": "b4bd88ea-daf8-48f0-9e2f-1b93bd496612",
   "metadata": {},
   "outputs": [],
   "source": []
  },
  {
   "cell_type": "code",
   "execution_count": null,
   "id": "928e25c8-d77e-4959-8008-c805efcf7307",
   "metadata": {},
   "outputs": [],
   "source": []
  },
  {
   "cell_type": "code",
   "execution_count": null,
   "id": "fdba2819-1c9c-49a0-b199-0c447c7c36dd",
   "metadata": {},
   "outputs": [],
   "source": [
    "all_tf_vars = pd.concat(all_tf_var_dfs)\n",
    "all_tf_vars = all_tf_vars.rename(columns = {0 :\"CHR\", \n",
    "                                           2: \"POS\",\n",
    "                                           8: \"REF\",\n",
    "                                           9: \"ALT\"})\n",
    "all_tf_vars[\"POS\"] = all_tf_vars[\"POS\"].astype(int)\n",
    "all_tf_vars = all_tf_vars[all_tf_vars[13] == \"No-Syn\"]\n",
    "\n",
    "all_tf_vars_coords = all_tf_vars[[\"CHR\", \"POS\"]]\n",
    "all_tf_vars_coords = all_tf_vars_coords.drop_duplicates()\n",
    "all_tf_vars_coords[\"CHR\"] = all_tf_vars_coords[\"CHR\"].astype(str)\n",
    "all_tf_vars_coords = all_tf_vars_coords.sort_values(by = \"CHR\")\n",
    "all_tf_vars_coords = all_tf_vars_coords.sort_values(by = \"POS\")\n",
    "all_tf_vars_coords = all_tf_vars_coords.set_index(keys = [\"CHR\", \"POS\"])\n",
    "all_tf_vars_coords"
   ]
  },
  {
   "cell_type": "code",
   "execution_count": null,
   "id": "2f2eb71d-56a4-4c21-b2fa-9948d11b0aca",
   "metadata": {},
   "outputs": [],
   "source": [
    "chunksize = 100000 \n",
    "am_output = pd.DataFrame()\n",
    "num_vars = 0\n",
    "alpha_m = \"../data/full_MTR_scores.tsv\"\n",
    "\n",
    "# Reading in chunks, keeping rows overlapping a variant\n",
    "for chunk in pd.read_csv(alpha_m, sep='\\t', chunksize=chunksize, header = 3):\n",
    "    chunk = chunk.set_index(keys = [\"#CHROM\", \"POS\"])\n",
    "    joined = pd.merge(all_tf_vars_coords, chunk, left_index=True, right_index=True)\n",
    "    am_output = pd.concat([am_output, joined])\n",
    "    if len(joined):\n",
    "        print(len(set(am_output.index)))\n",
    "        # display(joined)"
   ]
  },
  {
   "cell_type": "code",
   "execution_count": null,
   "id": "4551abc6-f7f5-4e6a-92e4-07aae41afec3",
   "metadata": {},
   "outputs": [],
   "source": []
  },
  {
   "cell_type": "code",
   "execution_count": null,
   "id": "d547c9d2-7a9d-48b4-8027-0f8637f1dd94",
   "metadata": {},
   "outputs": [],
   "source": []
  },
  {
   "cell_type": "code",
   "execution_count": null,
   "id": "27ce8b89-790b-4cbf-bd41-3159e8c1bf57",
   "metadata": {},
   "outputs": [],
   "source": []
  },
  {
   "cell_type": "code",
   "execution_count": null,
   "id": "f1ce10ea-8e0a-4497-b740-5cb0d9f43352",
   "metadata": {},
   "outputs": [],
   "source": []
  },
  {
   "cell_type": "code",
   "execution_count": null,
   "id": "89ec1049-525f-43f3-b888-d30324730b68",
   "metadata": {},
   "outputs": [],
   "source": []
  },
  {
   "cell_type": "code",
   "execution_count": null,
   "id": "91d95c3b-dd7c-4517-b4d6-224ac346484f",
   "metadata": {},
   "outputs": [],
   "source": []
  },
  {
   "cell_type": "code",
   "execution_count": null,
   "id": "1f5ed2fb-0fb7-4fd7-b4eb-b10734d7c094",
   "metadata": {},
   "outputs": [],
   "source": [
    "chunksize = 100000 \n",
    "am_output = pd.DataFrame()\n",
    "num_vars = 0\n",
    "alpha_m = \"../data/AlphaMissense_hg38.tsv\"\n",
    "\n",
    "# Reading in chunks, keeping rows overlapping a variant\n",
    "for chunk in pd.read_csv(alpha_m, sep='\\t', chunksize=chunksize, header = 3):\n",
    "    chunk = chunk.set_index(keys = [\"#CHROM\", \"POS\"])\n",
    "    joined = pd.merge(all_tf_vars_coords, chunk, left_index=True, right_index=True)\n",
    "    am_output = pd.concat([am_output, joined])\n",
    "    if len(joined):\n",
    "        print(len(set(am_output.index)))\n",
    "        # display(joined)"
   ]
  },
  {
   "cell_type": "code",
   "execution_count": null,
   "id": "f438af9b-6d3b-48f7-9169-708ccebaa790",
   "metadata": {},
   "outputs": [],
   "source": []
  }
 ],
 "metadata": {
  "kernelspec": {
   "display_name": "Python 3 (ipykernel)",
   "language": "python",
   "name": "python3"
  },
  "language_info": {
   "codemirror_mode": {
    "name": "ipython",
    "version": 3
   },
   "file_extension": ".py",
   "mimetype": "text/x-python",
   "name": "python",
   "nbconvert_exporter": "python",
   "pygments_lexer": "ipython3",
   "version": "3.10.9"
  }
 },
 "nbformat": 4,
 "nbformat_minor": 5
}
