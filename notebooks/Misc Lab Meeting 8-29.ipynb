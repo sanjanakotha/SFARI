{
 "cells": [
  {
   "cell_type": "code",
   "execution_count": 3,
   "id": "64152db8-f3e4-4379-9e6b-d66410f85281",
   "metadata": {},
   "outputs": [],
   "source": [
    "import pandas as pd\n",
    "import glob\n",
    "import protfasta"
   ]
  },
  {
   "cell_type": "code",
   "execution_count": 2,
   "id": "1c665fff-38f3-403c-af8d-c08d8618ea22",
   "metadata": {},
   "outputs": [],
   "source": [
    "# which AD has the most patient variants?"
   ]
  },
  {
   "cell_type": "code",
   "execution_count": 8,
   "id": "d9418d20-6747-4f71-b68b-c10710c948b8",
   "metadata": {},
   "outputs": [
    {
     "data": {
      "text/plain": [
       "61"
      ]
     },
     "execution_count": 8,
     "metadata": {},
     "output_type": "execute_result"
    }
   ],
   "source": [
    "ADs = glob.glob(\"../soto_analysis/outputs/AD_variant_fasta/*\")\n",
    "len(ADs)"
   ]
  },
  {
   "cell_type": "code",
   "execution_count": 9,
   "id": "465bf585-5e59-41d8-ab59-a0b8959f19ff",
   "metadata": {},
   "outputs": [],
   "source": [
    "max_vars = 0\n",
    "max_AD = \"\"\n",
    "\n",
    "for AD in ADs:\n",
    "    vars_dict = protfasta.read_fasta(AD)\n",
    "    if len(vars_dict) > max_vars:\n",
    "        max_vars = len(vars_dict) \n",
    "        max_AD = AD"
   ]
  },
  {
   "cell_type": "code",
   "execution_count": 10,
   "id": "4cd42f41-e9e8-430e-8d9e-0dc5d5794059",
   "metadata": {},
   "outputs": [
    {
     "data": {
      "text/plain": [
       "408"
      ]
     },
     "execution_count": 10,
     "metadata": {},
     "output_type": "execute_result"
    }
   ],
   "source": [
    "max_vars"
   ]
  },
  {
   "cell_type": "code",
   "execution_count": 11,
   "id": "9081bac4-e682-433b-9d5d-76e2f115ca4d",
   "metadata": {},
   "outputs": [
    {
     "data": {
      "text/plain": [
       "'../soto_analysis/outputs/AD_variant_fasta/SRCAP_Q6ZRS2_AD_198-1445'"
      ]
     },
     "execution_count": 11,
     "metadata": {},
     "output_type": "execute_result"
    }
   ],
   "source": [
    "max_AD"
   ]
  },
  {
   "cell_type": "code",
   "execution_count": null,
   "id": "ab282111-fee3-44c5-bd13-d5a1abfb4ad9",
   "metadata": {},
   "outputs": [],
   "source": []
  }
 ],
 "metadata": {
  "kernelspec": {
   "display_name": "Python 3 (ipykernel)",
   "language": "python",
   "name": "python3"
  },
  "language_info": {
   "codemirror_mode": {
    "name": "ipython",
    "version": 3
   },
   "file_extension": ".py",
   "mimetype": "text/x-python",
   "name": "python",
   "nbconvert_exporter": "python",
   "pygments_lexer": "ipython3",
   "version": "3.9.6"
  }
 },
 "nbformat": 4,
 "nbformat_minor": 5
}
