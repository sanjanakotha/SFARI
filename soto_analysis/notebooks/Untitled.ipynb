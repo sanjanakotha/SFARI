{
 "cells": [
  {
   "cell_type": "code",
   "execution_count": 23,
   "id": "48975f13",
   "metadata": {},
   "outputs": [],
   "source": [
    "import pandas as pd"
   ]
  },
  {
   "cell_type": "code",
   "execution_count": 24,
   "id": "aeb81ef1",
   "metadata": {},
   "outputs": [
    {
     "name": "stdout",
     "output_type": "stream",
     "text": [
      "  % Total    % Received % Xferd  Average Speed   Time    Time     Time  Current\n",
      "                                 Dload  Upload   Total   Spent    Left  Speed\n",
      "100  1497    0  1479  100    18   1619     19 --:--:-- --:--:-- --:--:--  1637\n"
     ]
    }
   ],
   "source": [
    "! curl -X 'POST' \\\n",
    "  'https://www.ebi.ac.uk/ProtVar/api/mappings?function=false&population=false&structure=false' \\\n",
    "  -H 'accept: application/json' \\\n",
    "  -H 'Content-Type: application/json' \\\n",
    "  -d '[\"19 1010539 G C\"]' -o \"../raw_files/SNP_protvar/test\""
   ]
  },
  {
   "cell_type": "code",
   "execution_count": null,
   "id": "3ed78bfc",
   "metadata": {},
   "outputs": [],
   "source": [
    "{\"inputs\":[{\"inputStr\":\"19 1010539 G C\",\"messages\":[],\"chr\":\"19\",\"pos\":1010539,\"ref\":\"G\",\"alt\":\"C\",\"id\":\"N/A\",\"converted\":null,\"mappings\":[{\"genes\":[{\"ensg\":\"ENSG00000182087.14\",\"reverseStrand\":true,\"geneName\":\"TMEM259\",\"refAllele\":\"G\",\"isoforms\":[{\"accession\":\"Q4ZIN3\",\"canonical\":true,\"canonicalAccession\":\"Q4ZIN3\",\"isoformPosition\":558,\"refCodon\":\"agC\",\"cdsPosition\":3,\"refAA\":\"Ser\",\"variantAA\":\"Arg\",\"variantCodon\":\"agG\",\"consequences\":\"missense\",\"proteinName\":\"Membralin\",\"translatedSequences\":[{\"ensp\":\"ENSP00000349087.2\",\"transcripts\":[{\"enst\":\"ENST00000356663.8\",\"ense\":\"ENSE00002806299\"}]}],\"populationObservationsUri\":\"/population/Q4ZIN3/558?genomicLocation=1010539\",\"referenceFunctionUri\":\"/function/Q4ZIN3/558\",\"proteinStructureUri\":\"/structure/Q4ZIN3/558\",\"codonChange\":\"agC/agG\",\"aminoAcidChange\":\"Ser/Arg\"},{\"accession\":\"Q4ZIN3-1\",\"canonical\":false,\"canonicalAccession\":\"Q4ZIN3\",\"isoformPosition\":558,\"refCodon\":\"agC\",\"cdsPosition\":3,\"refAA\":\"Ser\",\"variantAA\":\"Arg\",\"variantCodon\":\"agG\",\"consequences\":\"missense\",\"proteinName\":\"Isoform 1 of Membralin\",\"translatedSequences\":[{\"ensp\":\"ENSP00000349087.2\",\"transcripts\":[{\"enst\":\"ENST00000356663.8\",\"ense\":\"ENSE00002806299\"}]}],\"codonChange\":\"agC/agG\",\"aminoAcidChange\":\"Ser/Arg\"}],\"caddScore\":22.5}]}],\"genType\":\"VCF\",\"type\":\"GEN\",\"groupBy\":\"19-1010539\",\"valid\":true,\"errors\":[]}],\"messages\":[{\"type\":\"INFO\",\"text\":\"Processed 1 input \"},{\"type\":\"WARN\",\"text\":\"Unspecified assembly version; defaulting to GRCh38. \"}]}"
   ]
  },
  {
   "cell_type": "code",
   "execution_count": 58,
   "id": "cf627499",
   "metadata": {},
   "outputs": [],
   "source": [
    "import json\n",
    "\n",
    "with open(\"../raw_files/SNP_protvar/test\",'r') as f:\n",
    "    data = json.loads(f.read())"
   ]
  },
  {
   "cell_type": "code",
   "execution_count": 64,
   "id": "d3d1b037",
   "metadata": {},
   "outputs": [
    {
     "data": {
      "text/plain": [
       "{'inputs': [{'inputStr': '19 1010539 G C',\n",
       "   'messages': [],\n",
       "   'chr': '19',\n",
       "   'pos': 1010539,\n",
       "   'ref': 'G',\n",
       "   'alt': 'C',\n",
       "   'id': 'N/A',\n",
       "   'converted': None,\n",
       "   'mappings': [{'genes': [{'ensg': 'ENSG00000182087.14',\n",
       "       'reverseStrand': True,\n",
       "       'geneName': 'TMEM259',\n",
       "       'refAllele': 'G',\n",
       "       'isoforms': [{'accession': 'Q4ZIN3',\n",
       "         'canonical': True,\n",
       "         'canonicalAccession': 'Q4ZIN3',\n",
       "         'isoformPosition': 558,\n",
       "         'refCodon': 'agC',\n",
       "         'cdsPosition': 3,\n",
       "         'refAA': 'Ser',\n",
       "         'variantAA': 'Arg',\n",
       "         'variantCodon': 'agG',\n",
       "         'consequences': 'missense',\n",
       "         'proteinName': 'Membralin',\n",
       "         'translatedSequences': [{'ensp': 'ENSP00000349087.2',\n",
       "           'transcripts': [{'enst': 'ENST00000356663.8',\n",
       "             'ense': 'ENSE00002806299'}]}],\n",
       "         'populationObservationsUri': '/population/Q4ZIN3/558?genomicLocation=1010539',\n",
       "         'referenceFunctionUri': '/function/Q4ZIN3/558',\n",
       "         'proteinStructureUri': '/structure/Q4ZIN3/558',\n",
       "         'codonChange': 'agC/agG',\n",
       "         'aminoAcidChange': 'Ser/Arg'},\n",
       "        {'accession': 'Q4ZIN3-1',\n",
       "         'canonical': False,\n",
       "         'canonicalAccession': 'Q4ZIN3',\n",
       "         'isoformPosition': 558,\n",
       "         'refCodon': 'agC',\n",
       "         'cdsPosition': 3,\n",
       "         'refAA': 'Ser',\n",
       "         'variantAA': 'Arg',\n",
       "         'variantCodon': 'agG',\n",
       "         'consequences': 'missense',\n",
       "         'proteinName': 'Isoform 1 of Membralin',\n",
       "         'translatedSequences': [{'ensp': 'ENSP00000349087.2',\n",
       "           'transcripts': [{'enst': 'ENST00000356663.8',\n",
       "             'ense': 'ENSE00002806299'}]}],\n",
       "         'codonChange': 'agC/agG',\n",
       "         'aminoAcidChange': 'Ser/Arg'}],\n",
       "       'caddScore': 22.5}]}],\n",
       "   'genType': 'VCF',\n",
       "   'type': 'GEN',\n",
       "   'groupBy': '19-1010539',\n",
       "   'valid': True,\n",
       "   'errors': []}],\n",
       " 'messages': [{'type': 'INFO', 'text': 'Processed 1 input '},\n",
       "  {'type': 'WARN',\n",
       "   'text': 'Unspecified assembly version; defaulting to GRCh38. '}]}"
      ]
     },
     "execution_count": 64,
     "metadata": {},
     "output_type": "execute_result"
    }
   ],
   "source": [
    "data"
   ]
  },
  {
   "cell_type": "code",
   "execution_count": 47,
   "id": "61509240",
   "metadata": {},
   "outputs": [
    {
     "data": {
      "text/plain": [
       "dict_keys(['inputStr', 'messages', 'chr', 'pos', 'ref', 'alt', 'id', 'converted', 'mappings', 'genType', 'type', 'groupBy', 'valid', 'errors'])"
      ]
     },
     "execution_count": 47,
     "metadata": {},
     "output_type": "execute_result"
    }
   ],
   "source": [
    "data['inputs'][0].keys()"
   ]
  },
  {
   "cell_type": "code",
   "execution_count": 48,
   "id": "cbb581e9",
   "metadata": {},
   "outputs": [],
   "source": [
    "columns_to_keep = [\"inputStr\", \"chr\", 'pos', 'ref', 'alt', \"valid\", \"errors\"]"
   ]
  },
  {
   "cell_type": "code",
   "execution_count": null,
   "id": "dec5984b",
   "metadata": {},
   "outputs": [],
   "source": [
    "# Goal: convert Json to output"
   ]
  },
  {
   "cell_type": "code",
   "execution_count": null,
   "id": "ba6fb16e",
   "metadata": {},
   "outputs": [],
   "source": []
  },
  {
   "cell_type": "code",
   "execution_count": 31,
   "id": "5c4b020f",
   "metadata": {},
   "outputs": [
    {
     "data": {
      "text/html": [
       "<div>\n",
       "<style scoped>\n",
       "    .dataframe tbody tr th:only-of-type {\n",
       "        vertical-align: middle;\n",
       "    }\n",
       "\n",
       "    .dataframe tbody tr th {\n",
       "        vertical-align: top;\n",
       "    }\n",
       "\n",
       "    .dataframe thead th {\n",
       "        text-align: right;\n",
       "    }\n",
       "</style>\n",
       "<table border=\"1\" class=\"dataframe\">\n",
       "  <thead>\n",
       "    <tr style=\"text-align: right;\">\n",
       "      <th></th>\n",
       "      <th>inputs</th>\n",
       "      <th>messages</th>\n",
       "    </tr>\n",
       "  </thead>\n",
       "  <tbody>\n",
       "    <tr>\n",
       "      <th>0</th>\n",
       "      <td>[{'inputStr': '19 1010539 G C', 'messages': []...</td>\n",
       "      <td>[{'type': 'INFO', 'text': 'Processed 1 input '...</td>\n",
       "    </tr>\n",
       "  </tbody>\n",
       "</table>\n",
       "</div>"
      ],
      "text/plain": [
       "                                              inputs  \\\n",
       "0  [{'inputStr': '19 1010539 G C', 'messages': []...   \n",
       "\n",
       "                                            messages  \n",
       "0  [{'type': 'INFO', 'text': 'Processed 1 input '...  "
      ]
     },
     "execution_count": 31,
     "metadata": {},
     "output_type": "execute_result"
    }
   ],
   "source": [
    "dfa"
   ]
  },
  {
   "cell_type": "code",
   "execution_count": 33,
   "id": "916c904e",
   "metadata": {},
   "outputs": [
    {
     "ename": "NotImplementedError",
     "evalue": "",
     "output_type": "error",
     "traceback": [
      "\u001b[0;31m---------------------------------------------------------------------------\u001b[0m",
      "\u001b[0;31mNotImplementedError\u001b[0m                       Traceback (most recent call last)",
      "\u001b[0;32m<ipython-input-33-bf9830814afc>\u001b[0m in \u001b[0;36m<module>\u001b[0;34m\u001b[0m\n\u001b[0;32m----> 1\u001b[0;31m \u001b[0mpd\u001b[0m\u001b[0;34m.\u001b[0m\u001b[0mjson_normalize\u001b[0m\u001b[0;34m(\u001b[0m\u001b[0;34m\"../raw_files/SNP_protvar/test\"\u001b[0m\u001b[0;34m)\u001b[0m\u001b[0;34m\u001b[0m\u001b[0;34m\u001b[0m\u001b[0m\n\u001b[0m",
      "\u001b[0;32m/Applications/anaconda3/lib/python3.8/site-packages/pandas/io/json/_normalize.py\u001b[0m in \u001b[0;36m_json_normalize\u001b[0;34m(data, record_path, meta, meta_prefix, record_prefix, errors, sep, max_level)\u001b[0m\n\u001b[1;32m    441\u001b[0m         \u001b[0mdata\u001b[0m \u001b[0;34m=\u001b[0m \u001b[0mlist\u001b[0m\u001b[0;34m(\u001b[0m\u001b[0mdata\u001b[0m\u001b[0;34m)\u001b[0m\u001b[0;34m\u001b[0m\u001b[0;34m\u001b[0m\u001b[0m\n\u001b[1;32m    442\u001b[0m     \u001b[0;32melse\u001b[0m\u001b[0;34m:\u001b[0m\u001b[0;34m\u001b[0m\u001b[0;34m\u001b[0m\u001b[0m\n\u001b[0;32m--> 443\u001b[0;31m         \u001b[0;32mraise\u001b[0m \u001b[0mNotImplementedError\u001b[0m\u001b[0;34m\u001b[0m\u001b[0;34m\u001b[0m\u001b[0m\n\u001b[0m\u001b[1;32m    444\u001b[0m \u001b[0;34m\u001b[0m\u001b[0m\n\u001b[1;32m    445\u001b[0m     \u001b[0;31m# check to see if a simple recursive function is possible to\u001b[0m\u001b[0;34m\u001b[0m\u001b[0;34m\u001b[0m\u001b[0;34m\u001b[0m\u001b[0m\n",
      "\u001b[0;31mNotImplementedError\u001b[0m: "
     ]
    }
   ],
   "source": [
    "pd.json_normalize(\"../raw_files/SNP_protvar/test\")"
   ]
  },
  {
   "cell_type": "code",
   "execution_count": null,
   "id": "44358100",
   "metadata": {},
   "outputs": [],
   "source": [
    "{\"inputs\":[{\"inputStr\":\"19 1010539 G C\",\"messages\":[],\"chr\":\"19\",\"pos\":1010539,\"ref\":\"G\",\"alt\":\"C\",\"id\":\"N/A\",\"converted\":null,\"mappings\":[{\"genes\":[{\"ensg\":\"ENSG00000182087.14\",\"reverseStrand\":true,\"geneName\":\"TMEM259\",\"refAllele\":\"G\",\"isoforms\":[{\"accession\":\"Q4ZIN3\",\"canonical\":true,\"canonicalAccession\":\"Q4ZIN3\",\"isoformPosition\":558,\"refCodon\":\"agC\",\"cdsPosition\":3,\"refAA\":\"Ser\",\"variantAA\":\"Arg\",\"variantCodon\":\"agG\",\"consequences\":\"missense\",\"proteinName\":\"Membralin\",\"translatedSequences\":[{\"ensp\":\"ENSP00000349087.2\",\"transcripts\":[{\"enst\":\"ENST00000356663.8\",\"ense\":\"ENSE00002806299\"}]}],\"populationObservationsUri\":\"/population/Q4ZIN3/558?genomicLocation=1010539\",\"referenceFunctionUri\":\"/function/Q4ZIN3/558\",\"proteinStructureUri\":\"/structure/Q4ZIN3/558\",\"codonChange\":\"agC/agG\",\"aminoAcidChange\":\"Ser/Arg\"},{\"accession\":\"Q4ZIN3-1\",\"canonical\":false,\"canonicalAccession\":\"Q4ZIN3\",\"isoformPosition\":558,\"refCodon\":\"agC\",\"cdsPosition\":3,\"refAA\":\"Ser\",\"variantAA\":\"Arg\",\"variantCodon\":\"agG\",\"consequences\":\"missense\",\"proteinName\":\"Isoform 1 of Membralin\",\"translatedSequences\":[{\"ensp\":\"ENSP00000349087.2\",\"transcripts\":[{\"enst\":\"ENST00000356663.8\",\"ense\":\"ENSE00002806299\"}]}],\"codonChange\":\"agC/agG\",\"aminoAcidChange\":\"Ser/Arg\"}],\"caddScore\":22.5}]}],\"genType\":\"VCF\",\"type\":\"GEN\",\"groupBy\":\"19-1010539\",\"valid\":true,\"errors\":[]}],\"messages\":[{\"type\":\"INFO\",\"text\":\"Processed 1 input \"},{\"type\":\"WARN\",\"text\":\"Unspecified assembly version; defaulting to GRCh38. \"}]}"
   ]
  },
  {
   "cell_type": "code",
   "execution_count": null,
   "id": "2aff27ee",
   "metadata": {},
   "outputs": [],
   "source": []
  }
 ],
 "metadata": {
  "kernelspec": {
   "display_name": "Python 3",
   "language": "python",
   "name": "python3"
  },
  "language_info": {
   "codemirror_mode": {
    "name": "ipython",
    "version": 3
   },
   "file_extension": ".py",
   "mimetype": "text/x-python",
   "name": "python",
   "nbconvert_exporter": "python",
   "pygments_lexer": "ipython3",
   "version": "3.8.8"
  }
 },
 "nbformat": 4,
 "nbformat_minor": 5
}
