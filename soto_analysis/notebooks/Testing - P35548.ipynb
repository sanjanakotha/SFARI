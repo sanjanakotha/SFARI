{
 "cells": [
  {
   "cell_type": "code",
   "execution_count": 94,
   "id": "d13de352",
   "metadata": {},
   "outputs": [],
   "source": [
    "import pandas as pd\n",
    "import numpy as np\n",
    "import seaborn as sns\n",
    "import matplotlib.pyplot as plt\n",
    "from matplotlib.pyplot import figure\n",
    "import subprocess"
   ]
  },
  {
   "cell_type": "markdown",
   "id": "5ee38b22",
   "metadata": {},
   "source": [
    "Choosing to track the smallest TF with both an AD and a DBD."
   ]
  },
  {
   "cell_type": "markdown",
   "id": "c23dc728",
   "metadata": {},
   "source": [
    "1. Loading in the AA coordinates."
   ]
  },
  {
   "cell_type": "code",
   "execution_count": 95,
   "id": "70e56b61",
   "metadata": {},
   "outputs": [],
   "source": [
    "TF_coords = pd.read_csv(\"../../data/SFARI_TFs_with_knownADs_coords.csv\", index_col = 0)\n",
    "AD_coords = pd.read_csv(\"../../data/SFARI_ADs_AA_coords_redone.csv\", index_col = 0)\n",
    "DBD_coords = pd.read_csv(\"../../data/SFARI_TFs_with_known_ADs_DBD_coords.csv\", index_col = 0)"
   ]
  },
  {
   "cell_type": "code",
   "execution_count": 96,
   "id": "683b5e43",
   "metadata": {
    "scrolled": true
   },
   "outputs": [
    {
     "data": {
      "text/html": [
       "<div>\n",
       "<style scoped>\n",
       "    .dataframe tbody tr th:only-of-type {\n",
       "        vertical-align: middle;\n",
       "    }\n",
       "\n",
       "    .dataframe tbody tr th {\n",
       "        vertical-align: top;\n",
       "    }\n",
       "\n",
       "    .dataframe thead th {\n",
       "        text-align: right;\n",
       "    }\n",
       "</style>\n",
       "<table border=\"1\" class=\"dataframe\">\n",
       "  <thead>\n",
       "    <tr style=\"text-align: right;\">\n",
       "      <th></th>\n",
       "      <th>uniprotID</th>\n",
       "      <th>Start</th>\n",
       "      <th>End</th>\n",
       "    </tr>\n",
       "  </thead>\n",
       "  <tbody>\n",
       "    <tr>\n",
       "      <th>36</th>\n",
       "      <td>Q9BXK1</td>\n",
       "      <td>1</td>\n",
       "      <td>252</td>\n",
       "    </tr>\n",
       "    <tr>\n",
       "      <th>49</th>\n",
       "      <td>P35548</td>\n",
       "      <td>1</td>\n",
       "      <td>267</td>\n",
       "    </tr>\n",
       "    <tr>\n",
       "      <th>62</th>\n",
       "      <td>O95096</td>\n",
       "      <td>1</td>\n",
       "      <td>273</td>\n",
       "    </tr>\n",
       "    <tr>\n",
       "      <th>37</th>\n",
       "      <td>O75840</td>\n",
       "      <td>1</td>\n",
       "      <td>302</td>\n",
       "    </tr>\n",
       "    <tr>\n",
       "      <th>69</th>\n",
       "      <td>P78337</td>\n",
       "      <td>1</td>\n",
       "      <td>314</td>\n",
       "    </tr>\n",
       "    <tr>\n",
       "      <th>64</th>\n",
       "      <td>P32242</td>\n",
       "      <td>1</td>\n",
       "      <td>354</td>\n",
       "    </tr>\n",
       "    <tr>\n",
       "      <th>21</th>\n",
       "      <td>Q06889</td>\n",
       "      <td>1</td>\n",
       "      <td>387</td>\n",
       "    </tr>\n",
       "    <tr>\n",
       "      <th>65</th>\n",
       "      <td>Q02548</td>\n",
       "      <td>1</td>\n",
       "      <td>391</td>\n",
       "    </tr>\n",
       "    <tr>\n",
       "      <th>104</th>\n",
       "      <td>P25490</td>\n",
       "      <td>1</td>\n",
       "      <td>414</td>\n",
       "    </tr>\n",
       "    <tr>\n",
       "      <th>66</th>\n",
       "      <td>P26367</td>\n",
       "      <td>1</td>\n",
       "      <td>422</td>\n",
       "    </tr>\n",
       "    <tr>\n",
       "      <th>108</th>\n",
       "      <td>P11473</td>\n",
       "      <td>1</td>\n",
       "      <td>427</td>\n",
       "    </tr>\n",
       "    <tr>\n",
       "      <th>46</th>\n",
       "      <td>Q06413</td>\n",
       "      <td>1</td>\n",
       "      <td>473</td>\n",
       "    </tr>\n",
       "    <tr>\n",
       "      <th>47</th>\n",
       "      <td>O14770</td>\n",
       "      <td>1</td>\n",
       "      <td>477</td>\n",
       "    </tr>\n",
       "    <tr>\n",
       "      <th>29</th>\n",
       "      <td>P11308</td>\n",
       "      <td>1</td>\n",
       "      <td>486</td>\n",
       "    </tr>\n",
       "    <tr>\n",
       "      <th>100</th>\n",
       "      <td>P10827</td>\n",
       "      <td>1</td>\n",
       "      <td>490</td>\n",
       "    </tr>\n",
       "    <tr>\n",
       "      <th>57</th>\n",
       "      <td>Q14938</td>\n",
       "      <td>1</td>\n",
       "      <td>502</td>\n",
       "    </tr>\n",
       "    <tr>\n",
       "      <th>55</th>\n",
       "      <td>Q12857</td>\n",
       "      <td>1</td>\n",
       "      <td>509</td>\n",
       "    </tr>\n",
       "    <tr>\n",
       "      <th>33</th>\n",
       "      <td>Q13422</td>\n",
       "      <td>1</td>\n",
       "      <td>519</td>\n",
       "    </tr>\n",
       "    <tr>\n",
       "      <th>93</th>\n",
       "      <td>Q9Y458</td>\n",
       "      <td>1</td>\n",
       "      <td>520</td>\n",
       "    </tr>\n",
       "    <tr>\n",
       "      <th>75</th>\n",
       "      <td>P35398</td>\n",
       "      <td>1</td>\n",
       "      <td>523</td>\n",
       "    </tr>\n",
       "    <tr>\n",
       "      <th>23</th>\n",
       "      <td>Q92731</td>\n",
       "      <td>1</td>\n",
       "      <td>530</td>\n",
       "    </tr>\n",
       "    <tr>\n",
       "      <th>85</th>\n",
       "      <td>Q13485</td>\n",
       "      <td>1</td>\n",
       "      <td>552</td>\n",
       "    </tr>\n",
       "    <tr>\n",
       "      <th>4</th>\n",
       "      <td>Q96QS3</td>\n",
       "      <td>1</td>\n",
       "      <td>562</td>\n",
       "    </tr>\n",
       "    <tr>\n",
       "      <th>99</th>\n",
       "      <td>P19532</td>\n",
       "      <td>1</td>\n",
       "      <td>575</td>\n",
       "    </tr>\n",
       "    <tr>\n",
       "      <th>61</th>\n",
       "      <td>P43354</td>\n",
       "      <td>1</td>\n",
       "      <td>598</td>\n",
       "    </tr>\n",
       "    <tr>\n",
       "      <th>58</th>\n",
       "      <td>P20393</td>\n",
       "      <td>1</td>\n",
       "      <td>614</td>\n",
       "    </tr>\n",
       "    <tr>\n",
       "      <th>96</th>\n",
       "      <td>Q9NQB0</td>\n",
       "      <td>1</td>\n",
       "      <td>619</td>\n",
       "    </tr>\n",
       "    <tr>\n",
       "      <th>28</th>\n",
       "      <td>Q8NBF1</td>\n",
       "      <td>1</td>\n",
       "      <td>620</td>\n",
       "    </tr>\n",
       "    <tr>\n",
       "      <th>95</th>\n",
       "      <td>P15884</td>\n",
       "      <td>1</td>\n",
       "      <td>667</td>\n",
       "    </tr>\n",
       "    <tr>\n",
       "      <th>54</th>\n",
       "      <td>Q9Y4A8</td>\n",
       "      <td>1</td>\n",
       "      <td>694</td>\n",
       "    </tr>\n",
       "    <tr>\n",
       "      <th>3</th>\n",
       "      <td>Q9HBZ2</td>\n",
       "      <td>1</td>\n",
       "      <td>717</td>\n",
       "    </tr>\n",
       "    <tr>\n",
       "      <th>50</th>\n",
       "      <td>Q14872</td>\n",
       "      <td>1</td>\n",
       "      <td>753</td>\n",
       "    </tr>\n",
       "    <tr>\n",
       "      <th>5</th>\n",
       "      <td>P10275</td>\n",
       "      <td>1</td>\n",
       "      <td>920</td>\n",
       "    </tr>\n",
       "    <tr>\n",
       "      <th>10</th>\n",
       "      <td>Q6P1N0</td>\n",
       "      <td>1</td>\n",
       "      <td>951</td>\n",
       "    </tr>\n",
       "    <tr>\n",
       "      <th>51</th>\n",
       "      <td>Q9UL68</td>\n",
       "      <td>1</td>\n",
       "      <td>1186</td>\n",
       "    </tr>\n",
       "    <tr>\n",
       "      <th>11</th>\n",
       "      <td>O94983</td>\n",
       "      <td>1</td>\n",
       "      <td>1202</td>\n",
       "    </tr>\n",
       "    <tr>\n",
       "      <th>53</th>\n",
       "      <td>Q15788</td>\n",
       "      <td>1</td>\n",
       "      <td>1441</td>\n",
       "    </tr>\n",
       "    <tr>\n",
       "      <th>35</th>\n",
       "      <td>Q9UGL1</td>\n",
       "      <td>1</td>\n",
       "      <td>1544</td>\n",
       "    </tr>\n",
       "    <tr>\n",
       "      <th>9</th>\n",
       "      <td>Q86V15</td>\n",
       "      <td>1</td>\n",
       "      <td>1759</td>\n",
       "    </tr>\n",
       "    <tr>\n",
       "      <th>94</th>\n",
       "      <td>Q9UGU0</td>\n",
       "      <td>1</td>\n",
       "      <td>1960</td>\n",
       "    </tr>\n",
       "    <tr>\n",
       "      <th>98</th>\n",
       "      <td>Q6N021</td>\n",
       "      <td>1</td>\n",
       "      <td>2002</td>\n",
       "    </tr>\n",
       "    <tr>\n",
       "      <th>32</th>\n",
       "      <td>Q5T1R4</td>\n",
       "      <td>1</td>\n",
       "      <td>2406</td>\n",
       "    </tr>\n",
       "    <tr>\n",
       "      <th>90</th>\n",
       "      <td>Q6ZRS2</td>\n",
       "      <td>1</td>\n",
       "      <td>3230</td>\n",
       "    </tr>\n",
       "    <tr>\n",
       "      <th>38</th>\n",
       "      <td>Q03164</td>\n",
       "      <td>1</td>\n",
       "      <td>3969</td>\n",
       "    </tr>\n",
       "  </tbody>\n",
       "</table>\n",
       "</div>"
      ],
      "text/plain": [
       "    uniprotID  Start   End\n",
       "36     Q9BXK1      1   252\n",
       "49     P35548      1   267\n",
       "62     O95096      1   273\n",
       "37     O75840      1   302\n",
       "69     P78337      1   314\n",
       "64     P32242      1   354\n",
       "21     Q06889      1   387\n",
       "65     Q02548      1   391\n",
       "104    P25490      1   414\n",
       "66     P26367      1   422\n",
       "108    P11473      1   427\n",
       "46     Q06413      1   473\n",
       "47     O14770      1   477\n",
       "29     P11308      1   486\n",
       "100    P10827      1   490\n",
       "57     Q14938      1   502\n",
       "55     Q12857      1   509\n",
       "33     Q13422      1   519\n",
       "93     Q9Y458      1   520\n",
       "75     P35398      1   523\n",
       "23     Q92731      1   530\n",
       "85     Q13485      1   552\n",
       "4      Q96QS3      1   562\n",
       "99     P19532      1   575\n",
       "61     P43354      1   598\n",
       "58     P20393      1   614\n",
       "96     Q9NQB0      1   619\n",
       "28     Q8NBF1      1   620\n",
       "95     P15884      1   667\n",
       "54     Q9Y4A8      1   694\n",
       "3      Q9HBZ2      1   717\n",
       "50     Q14872      1   753\n",
       "5      P10275      1   920\n",
       "10     Q6P1N0      1   951\n",
       "51     Q9UL68      1  1186\n",
       "11     O94983      1  1202\n",
       "53     Q15788      1  1441\n",
       "35     Q9UGL1      1  1544\n",
       "9      Q86V15      1  1759\n",
       "94     Q9UGU0      1  1960\n",
       "98     Q6N021      1  2002\n",
       "32     Q5T1R4      1  2406\n",
       "90     Q6ZRS2      1  3230\n",
       "38     Q03164      1  3969"
      ]
     },
     "execution_count": 96,
     "metadata": {},
     "output_type": "execute_result"
    }
   ],
   "source": [
    "TF_coords.sort_values(by = \"End\")"
   ]
  },
  {
   "cell_type": "code",
   "execution_count": 97,
   "id": "2e5921eb",
   "metadata": {},
   "outputs": [
    {
     "data": {
      "text/html": [
       "<div>\n",
       "<style scoped>\n",
       "    .dataframe tbody tr th:only-of-type {\n",
       "        vertical-align: middle;\n",
       "    }\n",
       "\n",
       "    .dataframe tbody tr th {\n",
       "        vertical-align: top;\n",
       "    }\n",
       "\n",
       "    .dataframe thead th {\n",
       "        text-align: right;\n",
       "    }\n",
       "</style>\n",
       "<table border=\"1\" class=\"dataframe\">\n",
       "  <thead>\n",
       "    <tr style=\"text-align: right;\">\n",
       "      <th></th>\n",
       "      <th>uniprotID</th>\n",
       "      <th>Start</th>\n",
       "      <th>End</th>\n",
       "    </tr>\n",
       "  </thead>\n",
       "  <tbody>\n",
       "    <tr>\n",
       "      <th>49</th>\n",
       "      <td>P35548</td>\n",
       "      <td>1</td>\n",
       "      <td>267</td>\n",
       "    </tr>\n",
       "  </tbody>\n",
       "</table>\n",
       "</div>"
      ],
      "text/plain": [
       "   uniprotID  Start  End\n",
       "49    P35548      1  267"
      ]
     },
     "execution_count": 97,
     "metadata": {},
     "output_type": "execute_result"
    }
   ],
   "source": [
    "relev_TF_coords = TF_coords[TF_coords[\"uniprotID\"] == \"P35548\"]\n",
    "relev_TF_coords"
   ]
  },
  {
   "cell_type": "code",
   "execution_count": 98,
   "id": "275331ad",
   "metadata": {},
   "outputs": [
    {
     "data": {
      "text/html": [
       "<div>\n",
       "<style scoped>\n",
       "    .dataframe tbody tr th:only-of-type {\n",
       "        vertical-align: middle;\n",
       "    }\n",
       "\n",
       "    .dataframe tbody tr th {\n",
       "        vertical-align: top;\n",
       "    }\n",
       "\n",
       "    .dataframe thead th {\n",
       "        text-align: right;\n",
       "    }\n",
       "</style>\n",
       "<table border=\"1\" class=\"dataframe\">\n",
       "  <thead>\n",
       "    <tr style=\"text-align: right;\">\n",
       "      <th></th>\n",
       "      <th>uniprotID</th>\n",
       "      <th>Start</th>\n",
       "      <th>End</th>\n",
       "    </tr>\n",
       "  </thead>\n",
       "  <tbody>\n",
       "    <tr>\n",
       "      <th>23</th>\n",
       "      <td>P35548</td>\n",
       "      <td>234</td>\n",
       "      <td>267</td>\n",
       "    </tr>\n",
       "  </tbody>\n",
       "</table>\n",
       "</div>"
      ],
      "text/plain": [
       "   uniprotID  Start  End\n",
       "23    P35548    234  267"
      ]
     },
     "execution_count": 98,
     "metadata": {},
     "output_type": "execute_result"
    }
   ],
   "source": [
    "relev_AD_coords = AD_coords[AD_coords[\"uniprotID\"] == \"P35548\"]\n",
    "relev_AD_coords"
   ]
  },
  {
   "cell_type": "code",
   "execution_count": 99,
   "id": "48a5d325",
   "metadata": {},
   "outputs": [
    {
     "data": {
      "text/html": [
       "<div>\n",
       "<style scoped>\n",
       "    .dataframe tbody tr th:only-of-type {\n",
       "        vertical-align: middle;\n",
       "    }\n",
       "\n",
       "    .dataframe tbody tr th {\n",
       "        vertical-align: top;\n",
       "    }\n",
       "\n",
       "    .dataframe thead th {\n",
       "        text-align: right;\n",
       "    }\n",
       "</style>\n",
       "<table border=\"1\" class=\"dataframe\">\n",
       "  <thead>\n",
       "    <tr style=\"text-align: right;\">\n",
       "      <th></th>\n",
       "      <th>uniprotID</th>\n",
       "      <th>Start</th>\n",
       "      <th>End</th>\n",
       "    </tr>\n",
       "  </thead>\n",
       "  <tbody>\n",
       "    <tr>\n",
       "      <th>18</th>\n",
       "      <td>P35548</td>\n",
       "      <td>142</td>\n",
       "      <td>201</td>\n",
       "    </tr>\n",
       "  </tbody>\n",
       "</table>\n",
       "</div>"
      ],
      "text/plain": [
       "   uniprotID  Start  End\n",
       "18    P35548    142  201"
      ]
     },
     "execution_count": 99,
     "metadata": {},
     "output_type": "execute_result"
    }
   ],
   "source": [
    "relev_DBD_coords = DBD_coords[DBD_coords[\"uniprotID\"] == \"P35548\"]\n",
    "relev_DBD_coords"
   ]
  },
  {
   "cell_type": "markdown",
   "id": "5300e405",
   "metadata": {},
   "source": [
    "2. Using ensembl to obtain the full TF/domain coordinates."
   ]
  },
  {
   "cell_type": "code",
   "execution_count": 100,
   "id": "a9236a59",
   "metadata": {},
   "outputs": [
    {
     "data": {
      "text/html": [
       "<div>\n",
       "<style scoped>\n",
       "    .dataframe tbody tr th:only-of-type {\n",
       "        vertical-align: middle;\n",
       "    }\n",
       "\n",
       "    .dataframe tbody tr th {\n",
       "        vertical-align: top;\n",
       "    }\n",
       "\n",
       "    .dataframe thead th {\n",
       "        text-align: right;\n",
       "    }\n",
       "</style>\n",
       "<table border=\"1\" class=\"dataframe\">\n",
       "  <thead>\n",
       "    <tr style=\"text-align: right;\">\n",
       "      <th></th>\n",
       "      <th>Gene stable ID</th>\n",
       "      <th>Gene stable ID version</th>\n",
       "      <th>Transcript stable ID</th>\n",
       "      <th>Transcript stable ID version</th>\n",
       "      <th>Exon region start (bp)</th>\n",
       "      <th>Exon region end (bp)</th>\n",
       "      <th>CDS start</th>\n",
       "      <th>CDS end</th>\n",
       "      <th>Genomic coding start</th>\n",
       "      <th>Genomic coding end</th>\n",
       "    </tr>\n",
       "  </thead>\n",
       "  <tbody>\n",
       "    <tr>\n",
       "      <th>0</th>\n",
       "      <td>ENSG00000120149</td>\n",
       "      <td>ENSG00000120149.9</td>\n",
       "      <td>ENST00000239243</td>\n",
       "      <td>ENST00000239243.7</td>\n",
       "      <td>174724582</td>\n",
       "      <td>174725038</td>\n",
       "      <td>1</td>\n",
       "      <td>379</td>\n",
       "      <td>174724660</td>\n",
       "      <td>174725038</td>\n",
       "    </tr>\n",
       "    <tr>\n",
       "      <th>1</th>\n",
       "      <td>ENSG00000120149</td>\n",
       "      <td>ENSG00000120149.9</td>\n",
       "      <td>ENST00000239243</td>\n",
       "      <td>ENST00000239243.7</td>\n",
       "      <td>174729159</td>\n",
       "      <td>174730896</td>\n",
       "      <td>380</td>\n",
       "      <td>804</td>\n",
       "      <td>174729159</td>\n",
       "      <td>174729583</td>\n",
       "    </tr>\n",
       "  </tbody>\n",
       "</table>\n",
       "</div>"
      ],
      "text/plain": [
       "    Gene stable ID Gene stable ID version Transcript stable ID  \\\n",
       "0  ENSG00000120149      ENSG00000120149.9      ENST00000239243   \n",
       "1  ENSG00000120149      ENSG00000120149.9      ENST00000239243   \n",
       "\n",
       "  Transcript stable ID version  Exon region start (bp)  Exon region end (bp)  \\\n",
       "0            ENST00000239243.7               174724582             174725038   \n",
       "1            ENST00000239243.7               174729159             174730896   \n",
       "\n",
       "   CDS start  CDS end  Genomic coding start  Genomic coding end  \n",
       "0          1      379             174724660           174725038  \n",
       "1        380      804             174729159           174729583  "
      ]
     },
     "execution_count": 100,
     "metadata": {},
     "output_type": "execute_result"
    }
   ],
   "source": [
    "biomart_output = pd.read_csv(\"../data/P35548_mart_export.txt\", sep = \"\\t\")\n",
    "biomart_output"
   ]
  },
  {
   "cell_type": "code",
   "execution_count": 101,
   "id": "268fbd90",
   "metadata": {},
   "outputs": [
    {
     "data": {
      "text/plain": [
       "267.6666666666667"
      ]
     },
     "execution_count": 101,
     "metadata": {},
     "output_type": "execute_result"
    }
   ],
   "source": [
    "(max(biomart_output[\"CDS end\"]) - min(biomart_output[\"CDS start\"])) / 3"
   ]
  },
  {
   "cell_type": "code",
   "execution_count": 102,
   "id": "2dc0731e",
   "metadata": {},
   "outputs": [
    {
     "data": {
      "text/html": [
       "<div>\n",
       "<style scoped>\n",
       "    .dataframe tbody tr th:only-of-type {\n",
       "        vertical-align: middle;\n",
       "    }\n",
       "\n",
       "    .dataframe tbody tr th {\n",
       "        vertical-align: top;\n",
       "    }\n",
       "\n",
       "    .dataframe thead th {\n",
       "        text-align: right;\n",
       "    }\n",
       "</style>\n",
       "<table border=\"1\" class=\"dataframe\">\n",
       "  <thead>\n",
       "    <tr style=\"text-align: right;\">\n",
       "      <th></th>\n",
       "      <th>uniprotID</th>\n",
       "      <th>Start</th>\n",
       "      <th>End</th>\n",
       "    </tr>\n",
       "  </thead>\n",
       "  <tbody>\n",
       "    <tr>\n",
       "      <th>49</th>\n",
       "      <td>P35548</td>\n",
       "      <td>1</td>\n",
       "      <td>267</td>\n",
       "    </tr>\n",
       "  </tbody>\n",
       "</table>\n",
       "</div>"
      ],
      "text/plain": [
       "   uniprotID  Start  End\n",
       "49    P35548      1  267"
      ]
     },
     "execution_count": 102,
     "metadata": {},
     "output_type": "execute_result"
    }
   ],
   "source": [
    "relev_TF_coords"
   ]
  },
  {
   "cell_type": "code",
   "execution_count": 103,
   "id": "1e725a42",
   "metadata": {},
   "outputs": [
    {
     "data": {
      "text/plain": [
       "801"
      ]
     },
     "execution_count": 103,
     "metadata": {},
     "output_type": "execute_result"
    }
   ],
   "source": [
    "267 * 3"
   ]
  },
  {
   "cell_type": "markdown",
   "id": "0dc2a70d",
   "metadata": {},
   "source": [
    "3. Comparing this output to the full TF cds_bed_format output"
   ]
  },
  {
   "cell_type": "code",
   "execution_count": 104,
   "id": "65b41f9e",
   "metadata": {},
   "outputs": [],
   "source": [
    "# Bed file format: \n",
    "# O based, [start, end)\n",
    "# ex.) \"HelloWorld\" from 1 to 5 is ello\n",
    "\n",
    "# Ensembl file format:\n",
    "# 1 based, [start, end]\n",
    "# ex.) \"HelloWorld\" from 2 to 5 is ello"
   ]
  },
  {
   "cell_type": "code",
   "execution_count": 105,
   "id": "86c43ee8",
   "metadata": {},
   "outputs": [],
   "source": [
    "# File shows:\n",
    "\n",
    "# 5\t174724659\t174725038\tP35548\tENST00000239243\t+\n",
    "# 5\t174729158\t174729580\tP35548\tENST00000239243\t+\n",
    "\n",
    "# Same end coordinates: good\n",
    "# Start coordinates - 1: good "
   ]
  },
  {
   "cell_type": "markdown",
   "id": "e7f4abe9",
   "metadata": {},
   "source": [
    "4. Translate one of the variants to its position in the sequence"
   ]
  },
  {
   "cell_type": "code",
   "execution_count": 106,
   "id": "2fcef8f6",
   "metadata": {},
   "outputs": [],
   "source": [
    "# Checked a few with https://www.ncbi.nlm.nih.gov/CCDS/CcdsBrowse.cgi?REQUEST=CCDS&DATA=CCDS4392\n",
    "# Seemed to be positioned correctly"
   ]
  },
  {
   "cell_type": "code",
   "execution_count": 107,
   "id": "f39976e9",
   "metadata": {},
   "outputs": [],
   "source": [
    "start = 174724660\n",
    "from Bio.Seq import Seq\n",
    "\n",
    "seq = \"ATGGCTTCTCCGTCCAAAGGCAATGACTTGTTTTCGCCCGACGAGGAGGGCCCAGCAGTGGTGGCCGGAC\"\n",
    "\n",
    "def translate(seq):\n",
    "    seq_obj = Seq(seq)\n",
    "    return str(seq_obj.translate())"
   ]
  },
  {
   "cell_type": "code",
   "execution_count": 108,
   "id": "77eee3fb",
   "metadata": {},
   "outputs": [
    {
     "name": "stderr",
     "output_type": "stream",
     "text": [
      "/Applications/anaconda3/lib/python3.8/site-packages/Bio/Seq.py:2804: BiopythonWarning: Partial codon, len(sequence) not a multiple of three. Explicitly trim the sequence or add trailing N before translation. This may become an error in future.\n",
      "  warnings.warn(\n"
     ]
    },
    {
     "data": {
      "text/plain": [
       "'MASPSKGNDLFSPDEEGPAVVAG'"
      ]
     },
     "execution_count": 108,
     "metadata": {},
     "output_type": "execute_result"
    }
   ],
   "source": [
    "translate(seq)"
   ]
  },
  {
   "cell_type": "code",
   "execution_count": 109,
   "id": "33aba77b",
   "metadata": {},
   "outputs": [],
   "source": [
    "import difflib\n",
    "\n",
    "\n",
    "def new_seq_diff(pos, new_nt):\n",
    "    delta = pos - start\n",
    "    seq2 = seq[:delta] + new_nt + seq[delta + 1:]\n",
    "    new_seq = translate(seq2)\n",
    "\n",
    "    output_list = [li for li in difflib.ndiff(new_seq, translate(seq)) if li[0] != ' ']\n",
    "    return output_list"
   ]
  },
  {
   "cell_type": "code",
   "execution_count": 110,
   "id": "5914b682",
   "metadata": {},
   "outputs": [
    {
     "data": {
      "text/plain": [
       "['- T', '+ M']"
      ]
     },
     "execution_count": 110,
     "metadata": {},
     "output_type": "execute_result"
    }
   ],
   "source": [
    "new_seq_diff(174724661, \"C\")"
   ]
  },
  {
   "cell_type": "code",
   "execution_count": 111,
   "id": "17d2157a",
   "metadata": {},
   "outputs": [
    {
     "data": {
      "text/plain": [
       "['- E', '+ D']"
      ]
     },
     "execution_count": 111,
     "metadata": {},
     "output_type": "execute_result"
    }
   ],
   "source": [
    "new_seq_diff(174724686, \"G\")"
   ]
  },
  {
   "cell_type": "code",
   "execution_count": 112,
   "id": "5a6fcb40",
   "metadata": {},
   "outputs": [],
   "source": [
    "# These match the sequence what's expected"
   ]
  },
  {
   "cell_type": "code",
   "execution_count": null,
   "id": "add68633",
   "metadata": {},
   "outputs": [],
   "source": []
  }
 ],
 "metadata": {
  "kernelspec": {
   "display_name": "Python 3",
   "language": "python",
   "name": "python3"
  },
  "language_info": {
   "codemirror_mode": {
    "name": "ipython",
    "version": 3
   },
   "file_extension": ".py",
   "mimetype": "text/x-python",
   "name": "python",
   "nbconvert_exporter": "python",
   "pygments_lexer": "ipython3",
   "version": "3.8.8"
  }
 },
 "nbformat": 4,
 "nbformat_minor": 5
}
