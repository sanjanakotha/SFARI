{
 "cells": [
  {
   "cell_type": "code",
   "execution_count": 112,
   "id": "9ce71d4a-9ec3-4c22-b6b8-10c59a8fdefb",
   "metadata": {},
   "outputs": [],
   "source": [
    "from Bio.Seq import Seq\n",
    "from Bio import SeqIO\n",
    "#from Bio.Alphabet import IUPAC\n",
    "import sys\n",
    "# import pyensembl\n",
    "import os\n",
    "#https://towardsdatascience.com/a-simple-guide-to-command-line-arguments-with-argparse-6824c30ab1c3\n",
    "import argparse\n",
    "import pandas as pd\n",
    "import protfasta\n",
    "import glob\n",
    "import pickle\n"
   ]
  },
  {
   "cell_type": "code",
   "execution_count": 96,
   "id": "b49f5d0e-6520-421c-8e4c-001ded0f591f",
   "metadata": {},
   "outputs": [],
   "source": [
    "# # SK: Dictionary of protein names to sequences\n",
    "# proteins = {}\n",
    "# for record in SeqIO.parse(\"../raw_files/gencode.v36.pc_translations.fa\", \"fasta\"):\n",
    "#     name = record.id.split(\"|\")[1].split(\".\")[0]\n",
    "#     proteins[name] = str(record.seq)\n",
    "\n",
    "# # +\n",
    "# # SK: Dictionary of protein names to CDS dna transcript\n",
    "\n",
    "# dna_transcripts = {}\n",
    "# for record in SeqIO.parse(\"../raw_files/gencode.v36.pc_transcripts.fa\", \"fasta\"):\n",
    "# \tname = record.id.split(\"|\")[0].split(\".\")[0]\n",
    "# \trecord_c = record.id.split(\"|\")\n",
    "# \tfor i in record_c:\n",
    "# \t\tif \"CDS\" in i:\n",
    "# \t\t\tcoords = i.replace(\"CDS:\",\"\")\n",
    "# \tstart = int(coords.split(\"-\")[0])\n",
    "# \tend = int(coords.split(\"-\")[1])\n",
    "# \tdna_seq = str(record.seq)[start-1:end]\n",
    "# \tdna_transcripts[name] = dna_seq\n",
    "\n",
    "# Will just use"
   ]
  },
  {
   "cell_type": "code",
   "execution_count": 97,
   "id": "f6854683-88b8-412b-b041-67e08df8a2c8",
   "metadata": {
    "scrolled": true
   },
   "outputs": [
    {
     "name": "stdout",
     "output_type": "stream",
     "text": [
      "['ENST00000424697', 'ENST00000382723', 'ENST00000299687', 'ENST00000296682', 'ENST00000591639']\n"
     ]
    }
   ],
   "source": [
    "ENSTs = glob.glob(\"../outputs/mutations/cds_bed_format/ENST*\")\n",
    "ENSTs = [_.split(\"/\")[-1] for _ in ENSTs]\n",
    "ENSTs = set(ENSTs)\n",
    "print(list(ENSTs)[:5])"
   ]
  },
  {
   "cell_type": "code",
   "execution_count": 137,
   "id": "c6233a27-80c1-432b-913b-5ecb73a471de",
   "metadata": {},
   "outputs": [
    {
     "data": {
      "text/html": [
       "<div>\n",
       "<style scoped>\n",
       "    .dataframe tbody tr th:only-of-type {\n",
       "        vertical-align: middle;\n",
       "    }\n",
       "\n",
       "    .dataframe tbody tr th {\n",
       "        vertical-align: top;\n",
       "    }\n",
       "\n",
       "    .dataframe thead th {\n",
       "        text-align: right;\n",
       "    }\n",
       "</style>\n",
       "<table border=\"1\" class=\"dataframe\">\n",
       "  <thead>\n",
       "    <tr style=\"text-align: right;\">\n",
       "      <th></th>\n",
       "      <th>seq</th>\n",
       "    </tr>\n",
       "  </thead>\n",
       "  <tbody>\n",
       "    <tr>\n",
       "      <th>0</th>\n",
       "      <td>ENST00000424697</td>\n",
       "    </tr>\n",
       "    <tr>\n",
       "      <th>1</th>\n",
       "      <td>ENST00000382723</td>\n",
       "    </tr>\n",
       "    <tr>\n",
       "      <th>2</th>\n",
       "      <td>ENST00000299687</td>\n",
       "    </tr>\n",
       "    <tr>\n",
       "      <th>3</th>\n",
       "      <td>ENST00000296682</td>\n",
       "    </tr>\n",
       "    <tr>\n",
       "      <th>4</th>\n",
       "      <td>ENST00000591639</td>\n",
       "    </tr>\n",
       "    <tr>\n",
       "      <th>...</th>\n",
       "      <td>...</td>\n",
       "    </tr>\n",
       "    <tr>\n",
       "      <th>1553</th>\n",
       "      <td>ENST00000372622</td>\n",
       "    </tr>\n",
       "    <tr>\n",
       "      <th>1554</th>\n",
       "      <td>ENST00000239007</td>\n",
       "    </tr>\n",
       "    <tr>\n",
       "      <th>1555</th>\n",
       "      <td>ENST00000302609</td>\n",
       "    </tr>\n",
       "    <tr>\n",
       "      <th>1556</th>\n",
       "      <td>ENST00000228644</td>\n",
       "    </tr>\n",
       "    <tr>\n",
       "      <th>1557</th>\n",
       "      <td>ENST00000696851</td>\n",
       "    </tr>\n",
       "  </tbody>\n",
       "</table>\n",
       "<p>1558 rows × 1 columns</p>\n",
       "</div>"
      ],
      "text/plain": [
       "                  seq\n",
       "0     ENST00000424697\n",
       "1     ENST00000382723\n",
       "2     ENST00000299687\n",
       "3     ENST00000296682\n",
       "4     ENST00000591639\n",
       "...               ...\n",
       "1553  ENST00000372622\n",
       "1554  ENST00000239007\n",
       "1555  ENST00000302609\n",
       "1556  ENST00000228644\n",
       "1557  ENST00000696851\n",
       "\n",
       "[1558 rows x 1 columns]"
      ]
     },
     "execution_count": 137,
     "metadata": {},
     "output_type": "execute_result"
    }
   ],
   "source": [
    "df = pd.DataFrame({'seq' : list(ENSTs)})\n",
    "df.to_csv(\"../data/All_TF_ENST_codes_for_dicts.txt\", header = None, index = None)\n",
    "df"
   ]
  },
  {
   "cell_type": "code",
   "execution_count": 138,
   "id": "48ff1694-1604-4485-85ef-97435d51430d",
   "metadata": {},
   "outputs": [],
   "source": [
    "proteins = {}\n",
    "dna_transcripts = {}"
   ]
  },
  {
   "cell_type": "code",
   "execution_count": null,
   "id": "d4ee0ec8-4fc5-476d-b78f-461944a2736a",
   "metadata": {},
   "outputs": [],
   "source": []
  },
  {
   "cell_type": "code",
   "execution_count": null,
   "id": "611e5619-6e54-4942-bda3-733d92e19235",
   "metadata": {},
   "outputs": [],
   "source": []
  },
  {
   "cell_type": "code",
   "execution_count": 98,
   "id": "4bb95ec5-7f4d-4732-8951-ab1e7188eef1",
   "metadata": {
    "scrolled": true
   },
   "outputs": [
    {
     "data": {
      "text/plain": [
       "39"
      ]
     },
     "execution_count": 98,
     "metadata": {},
     "output_type": "execute_result"
    }
   ],
   "source": [
    "len(ENSTs - set(proteins.keys()))"
   ]
  },
  {
   "cell_type": "code",
   "execution_count": 99,
   "id": "971b2c5f-3266-43a6-bd02-3f8bc2db6f42",
   "metadata": {},
   "outputs": [
    {
     "data": {
      "text/plain": [
       "39"
      ]
     },
     "execution_count": 99,
     "metadata": {},
     "output_type": "execute_result"
    }
   ],
   "source": [
    "len(ENSTs - set(dna_transcripts.keys()))"
   ]
  },
  {
   "cell_type": "code",
   "execution_count": 100,
   "id": "c925905a-1700-4a62-a1fb-c0c9fbf80032",
   "metadata": {},
   "outputs": [
    {
     "name": "stdout",
     "output_type": "stream",
     "text": [
      "ENST00000698141\n",
      "ENST00000682664\n",
      "ENST00000698705\n",
      "ENST00000703967\n",
      "ENST00000684362\n",
      "ENST00000688892\n",
      "ENST00000695508\n",
      "ENST00000697715\n",
      "ENST00000682579\n",
      "ENST00000698192\n",
      "ENST00000686611\n",
      "ENST00000685868\n",
      "ENST00000683561\n",
      "ENST00000684592\n",
      "ENST00000684572\n",
      "ENST00000465590\n",
      "ENST00000706170\n",
      "ENST00000700044\n",
      "ENST00000699333\n",
      "ENST00000683990\n",
      "ENST00000698516\n",
      "ENST00000704756\n",
      "ENST00000686138\n",
      "ENST00000681038\n",
      "ENST00000683867\n",
      "ENST00000696618\n",
      "ENST00000639662\n",
      "ENST00000682749\n",
      "ENST00000683701\n",
      "ENST00000691006\n",
      "ENST00000685244\n",
      "ENST00000707000\n",
      "ENST00000698099\n",
      "ENST00000695459\n",
      "ENST00000695966\n",
      "ENST00000683217\n",
      "ENST00000713572\n",
      "ENST00000683776\n",
      "ENST00000696851\n"
     ]
    }
   ],
   "source": [
    "for enst in list(ENSTs - set(dna_transcripts.keys())):\n",
    "    print(enst)"
   ]
  },
  {
   "cell_type": "code",
   "execution_count": 102,
   "id": "51db0bd3-c5de-495c-bc62-591cef3db7d4",
   "metadata": {},
   "outputs": [],
   "source": [
    "# for enst in list(ENSTs - set(proteins.keys())):\n",
    "#     print(enst)"
   ]
  },
  {
   "cell_type": "code",
   "execution_count": 71,
   "id": "4ea478e4-b3b6-4198-93be-7af4a27c3e69",
   "metadata": {},
   "outputs": [],
   "source": [
    "# There are 28 TFs without transcript information"
   ]
  },
  {
   "cell_type": "code",
   "execution_count": 72,
   "id": "4024bc99-c06d-4594-bb67-cebdfac855ab",
   "metadata": {},
   "outputs": [],
   "source": [
    "# Used biomart to obtain"
   ]
  },
  {
   "cell_type": "code",
   "execution_count": 140,
   "id": "b95ebf4c-bd3f-4583-8014-5436e908ed30",
   "metadata": {
    "scrolled": true
   },
   "outputs": [],
   "source": [
    "def fasta_to_df(filepath):\n",
    "    fasta_dict = protfasta.read_fasta(filepath, invalid_sequence_action = \"convert\")\n",
    "    df = pd.DataFrame({'id' : fasta_dict.keys(), 'seq': fasta_dict.values()})\n",
    "    df[\"ENST\"] = df[\"id\"].str.split(\"|\").str[-1].str.split(\".\").str[0]\n",
    "    return df \n",
    "    \n",
    "new_dna = fasta_to_df(\"../data/new_ENST_dna_transcripts.fasta\")\n",
    "new_prot = fasta_to_df(\"../data/new_ENST_protein_seqs.fasta\")"
   ]
  },
  {
   "cell_type": "code",
   "execution_count": 141,
   "id": "236f8a3d-e0f9-466f-b785-2ed7eb2f685d",
   "metadata": {},
   "outputs": [
    {
     "data": {
      "text/html": [
       "<div>\n",
       "<style scoped>\n",
       "    .dataframe tbody tr th:only-of-type {\n",
       "        vertical-align: middle;\n",
       "    }\n",
       "\n",
       "    .dataframe tbody tr th {\n",
       "        vertical-align: top;\n",
       "    }\n",
       "\n",
       "    .dataframe thead th {\n",
       "        text-align: right;\n",
       "    }\n",
       "</style>\n",
       "<table border=\"1\" class=\"dataframe\">\n",
       "  <thead>\n",
       "    <tr style=\"text-align: right;\">\n",
       "      <th></th>\n",
       "      <th>id</th>\n",
       "      <th>seq</th>\n",
       "      <th>ENST</th>\n",
       "    </tr>\n",
       "  </thead>\n",
       "  <tbody>\n",
       "    <tr>\n",
       "      <th>0</th>\n",
       "      <td>ENSG00000083812|ENSG00000083812.13|ENST0000019...</td>\n",
       "      <td>ATGGCCTTTGAGGATGTGGCTGTGTACTTCTCCCAGGAGGAGTGGG...</td>\n",
       "      <td>ENST00000196482</td>\n",
       "    </tr>\n",
       "    <tr>\n",
       "      <th>1</th>\n",
       "      <td>ENSG00000073861|ENSG00000073861.3|ENST00000177...</td>\n",
       "      <td>ATGGGCATCGTGGAGCCGGGTTGCGGAGACATGCTGACGGGCACCG...</td>\n",
       "      <td>ENST00000177694</td>\n",
       "    </tr>\n",
       "    <tr>\n",
       "      <th>2</th>\n",
       "      <td>ENSG00000101883|ENSG00000101883.6|ENST00000217...</td>\n",
       "      <td>ATGGCGCGTTCGCTCGTCCACGACACCGTGTTCTACTGCCTGAGTG...</td>\n",
       "      <td>ENST00000217999</td>\n",
       "    </tr>\n",
       "    <tr>\n",
       "      <th>3</th>\n",
       "      <td>ENSG00000159885|ENSG00000159885.14|ENST0000018...</td>\n",
       "      <td>ATGGCAAAGCTCTACGAGGCAGTGACCTTCAAGGATGTGGCTGTGA...</td>\n",
       "      <td>ENST00000187879</td>\n",
       "    </tr>\n",
       "    <tr>\n",
       "      <th>4</th>\n",
       "      <td>ENSG00000010818|ENSG00000010818.11|ENST0000001...</td>\n",
       "      <td>ATGGACACTGGGGACACAGCTCTAGGACAAAAAGCTACCTCAAGGT...</td>\n",
       "      <td>ENST00000012134</td>\n",
       "    </tr>\n",
       "    <tr>\n",
       "      <th>...</th>\n",
       "      <td>...</td>\n",
       "      <td>...</td>\n",
       "      <td>...</td>\n",
       "    </tr>\n",
       "    <tr>\n",
       "      <th>1553</th>\n",
       "      <td>ENSG00000080298|ENSG00000080298.16|ENST0000038...</td>\n",
       "      <td>ATGCAGACATCAGAGACTGGGTCGGACACAGGCTCGACAGTGACCT...</td>\n",
       "      <td>ENST00000382004</td>\n",
       "    </tr>\n",
       "    <tr>\n",
       "      <th>1554</th>\n",
       "      <td>ENSG00000181896|ENSG00000181896.12|ENST0000059...</td>\n",
       "      <td>ATGGACTCAGTGGCCTTTGAGGATGTGGCTGTGAACTTCACCCAGG...</td>\n",
       "      <td>ENST00000592502</td>\n",
       "    </tr>\n",
       "    <tr>\n",
       "      <th>1555</th>\n",
       "      <td>ENSG00000111783|ENSG00000111783.13|ENST0000039...</td>\n",
       "      <td>ATGCATTGTGGGTTACTGGAGGAACCCGACATGGATTCCACAGAGA...</td>\n",
       "      <td>ENST00000392842</td>\n",
       "    </tr>\n",
       "    <tr>\n",
       "      <th>1556</th>\n",
       "      <td>ENSG00000170448|ENSG00000170448.12|ENST0000050...</td>\n",
       "      <td>ATGGAAGCTTCCTGGCGCCAGGTGGCCGGTGGCCGAGGCCGATCCC...</td>\n",
       "      <td>ENST00000507489</td>\n",
       "    </tr>\n",
       "    <tr>\n",
       "      <th>1557</th>\n",
       "      <td>ENSG00000078900|ENSG00000078900.16|ENST0000071...</td>\n",
       "      <td>ATGGCCCAGTCCACCGCCACCTCCCCTGATGGGGGCACCACGTTTG...</td>\n",
       "      <td>ENST00000713572</td>\n",
       "    </tr>\n",
       "  </tbody>\n",
       "</table>\n",
       "<p>1558 rows × 3 columns</p>\n",
       "</div>"
      ],
      "text/plain": [
       "                                                     id  \\\n",
       "0     ENSG00000083812|ENSG00000083812.13|ENST0000019...   \n",
       "1     ENSG00000073861|ENSG00000073861.3|ENST00000177...   \n",
       "2     ENSG00000101883|ENSG00000101883.6|ENST00000217...   \n",
       "3     ENSG00000159885|ENSG00000159885.14|ENST0000018...   \n",
       "4     ENSG00000010818|ENSG00000010818.11|ENST0000001...   \n",
       "...                                                 ...   \n",
       "1553  ENSG00000080298|ENSG00000080298.16|ENST0000038...   \n",
       "1554  ENSG00000181896|ENSG00000181896.12|ENST0000059...   \n",
       "1555  ENSG00000111783|ENSG00000111783.13|ENST0000039...   \n",
       "1556  ENSG00000170448|ENSG00000170448.12|ENST0000050...   \n",
       "1557  ENSG00000078900|ENSG00000078900.16|ENST0000071...   \n",
       "\n",
       "                                                    seq             ENST  \n",
       "0     ATGGCCTTTGAGGATGTGGCTGTGTACTTCTCCCAGGAGGAGTGGG...  ENST00000196482  \n",
       "1     ATGGGCATCGTGGAGCCGGGTTGCGGAGACATGCTGACGGGCACCG...  ENST00000177694  \n",
       "2     ATGGCGCGTTCGCTCGTCCACGACACCGTGTTCTACTGCCTGAGTG...  ENST00000217999  \n",
       "3     ATGGCAAAGCTCTACGAGGCAGTGACCTTCAAGGATGTGGCTGTGA...  ENST00000187879  \n",
       "4     ATGGACACTGGGGACACAGCTCTAGGACAAAAAGCTACCTCAAGGT...  ENST00000012134  \n",
       "...                                                 ...              ...  \n",
       "1553  ATGCAGACATCAGAGACTGGGTCGGACACAGGCTCGACAGTGACCT...  ENST00000382004  \n",
       "1554  ATGGACTCAGTGGCCTTTGAGGATGTGGCTGTGAACTTCACCCAGG...  ENST00000592502  \n",
       "1555  ATGCATTGTGGGTTACTGGAGGAACCCGACATGGATTCCACAGAGA...  ENST00000392842  \n",
       "1556  ATGGAAGCTTCCTGGCGCCAGGTGGCCGGTGGCCGAGGCCGATCCC...  ENST00000507489  \n",
       "1557  ATGGCCCAGTCCACCGCCACCTCCCCTGATGGGGGCACCACGTTTG...  ENST00000713572  \n",
       "\n",
       "[1558 rows x 3 columns]"
      ]
     },
     "execution_count": 141,
     "metadata": {},
     "output_type": "execute_result"
    }
   ],
   "source": [
    "new_dna"
   ]
  },
  {
   "cell_type": "code",
   "execution_count": 142,
   "id": "204b818e-9c44-4e39-83c1-596666718a5b",
   "metadata": {},
   "outputs": [
    {
     "data": {
      "text/html": [
       "<div>\n",
       "<style scoped>\n",
       "    .dataframe tbody tr th:only-of-type {\n",
       "        vertical-align: middle;\n",
       "    }\n",
       "\n",
       "    .dataframe tbody tr th {\n",
       "        vertical-align: top;\n",
       "    }\n",
       "\n",
       "    .dataframe thead th {\n",
       "        text-align: right;\n",
       "    }\n",
       "</style>\n",
       "<table border=\"1\" class=\"dataframe\">\n",
       "  <thead>\n",
       "    <tr style=\"text-align: right;\">\n",
       "      <th></th>\n",
       "      <th>id</th>\n",
       "      <th>seq</th>\n",
       "      <th>ENST</th>\n",
       "    </tr>\n",
       "  </thead>\n",
       "  <tbody>\n",
       "    <tr>\n",
       "      <th>0</th>\n",
       "      <td>ENSG00000008197|ENSG00000008197.5|ENST00000008...</td>\n",
       "      <td>MSTTFPGLVHDAEIRHDGSNSYRLMQLGCLESVANSTVAYSSSSPL...</td>\n",
       "      <td>ENST00000008391</td>\n",
       "    </tr>\n",
       "    <tr>\n",
       "      <th>1</th>\n",
       "      <td>ENSG00000083812|ENSG00000083812.13|ENST0000019...</td>\n",
       "      <td>MAFEDVAVYFSQEEWGLLDTAQRALYRRVMLDNFALVASLGLSTSR...</td>\n",
       "      <td>ENST00000196482</td>\n",
       "    </tr>\n",
       "    <tr>\n",
       "      <th>2</th>\n",
       "      <td>ENSG00000065970|ENSG00000065970.9|ENST00000162...</td>\n",
       "      <td>MASDLESSLTSIDWLPQLTLRATIEKLGSASQAGPPGSSRKCSPGS...</td>\n",
       "      <td>ENST00000162391</td>\n",
       "    </tr>\n",
       "    <tr>\n",
       "      <th>3</th>\n",
       "      <td>ENSG00000050344|ENSG00000050344.9|ENST00000056...</td>\n",
       "      <td>MKHLKRWWSAGGGLLHLTLLLSLAGLRVDLDLYLLLPPPTLLQDEL...</td>\n",
       "      <td>ENST00000056233</td>\n",
       "    </tr>\n",
       "    <tr>\n",
       "      <th>4</th>\n",
       "      <td>ENSG00000005073|ENSG00000005073.6|ENST00000006...</td>\n",
       "      <td>MDFDERGPCSSNMYLPSCTYYVSGPDFSSLPSFLPQTPSSRPMTYS...</td>\n",
       "      <td>ENST00000006015</td>\n",
       "    </tr>\n",
       "    <tr>\n",
       "      <th>...</th>\n",
       "      <td>...</td>\n",
       "      <td>...</td>\n",
       "      <td>...</td>\n",
       "    </tr>\n",
       "    <tr>\n",
       "      <th>1553</th>\n",
       "      <td>ENSG00000102935|ENSG00000102935.12|ENST0000056...</td>\n",
       "      <td>MHKKRVEEGEASDFSLAWDSSVTAAGGLEGEPECDQKTSRALEDRN...</td>\n",
       "      <td>ENST00000561648</td>\n",
       "    </tr>\n",
       "    <tr>\n",
       "      <th>1554</th>\n",
       "      <td>ENSG00000274529|ENSG00000274529.6|ENST00000536...</td>\n",
       "      <td>MPSPVDASSADGGSGLGSHRRKRTTFSKGQLLELERAFAAWPYPNI...</td>\n",
       "      <td>ENST00000536498</td>\n",
       "    </tr>\n",
       "    <tr>\n",
       "      <th>1555</th>\n",
       "      <td>ENSG00000135899|ENSG00000135899.20|ENST0000069...</td>\n",
       "      <td>MFTMTRAMEEALFQHFMHQKLGIAYAIHKPFPFFEGLLDNSIITKR...</td>\n",
       "      <td>ENST00000698099</td>\n",
       "    </tr>\n",
       "    <tr>\n",
       "      <th>1556</th>\n",
       "      <td>ENSG00000124813|ENSG00000124813.23|ENST0000064...</td>\n",
       "      <td>MASNSLFSTVTPCQQNFFWDPSTSRRFSPPSSSLQPGKMSDVSPVV...</td>\n",
       "      <td>ENST00000647337</td>\n",
       "    </tr>\n",
       "    <tr>\n",
       "      <th>1557</th>\n",
       "      <td>ENSG00000078900|ENSG00000078900.16|ENST0000071...</td>\n",
       "      <td>MAQSTATSPDGGTTFEHLWSSLEPDSTYFDLPQSSRGNNEVVGGTD...</td>\n",
       "      <td>ENST00000713572</td>\n",
       "    </tr>\n",
       "  </tbody>\n",
       "</table>\n",
       "<p>1558 rows × 3 columns</p>\n",
       "</div>"
      ],
      "text/plain": [
       "                                                     id  \\\n",
       "0     ENSG00000008197|ENSG00000008197.5|ENST00000008...   \n",
       "1     ENSG00000083812|ENSG00000083812.13|ENST0000019...   \n",
       "2     ENSG00000065970|ENSG00000065970.9|ENST00000162...   \n",
       "3     ENSG00000050344|ENSG00000050344.9|ENST00000056...   \n",
       "4     ENSG00000005073|ENSG00000005073.6|ENST00000006...   \n",
       "...                                                 ...   \n",
       "1553  ENSG00000102935|ENSG00000102935.12|ENST0000056...   \n",
       "1554  ENSG00000274529|ENSG00000274529.6|ENST00000536...   \n",
       "1555  ENSG00000135899|ENSG00000135899.20|ENST0000069...   \n",
       "1556  ENSG00000124813|ENSG00000124813.23|ENST0000064...   \n",
       "1557  ENSG00000078900|ENSG00000078900.16|ENST0000071...   \n",
       "\n",
       "                                                    seq             ENST  \n",
       "0     MSTTFPGLVHDAEIRHDGSNSYRLMQLGCLESVANSTVAYSSSSPL...  ENST00000008391  \n",
       "1     MAFEDVAVYFSQEEWGLLDTAQRALYRRVMLDNFALVASLGLSTSR...  ENST00000196482  \n",
       "2     MASDLESSLTSIDWLPQLTLRATIEKLGSASQAGPPGSSRKCSPGS...  ENST00000162391  \n",
       "3     MKHLKRWWSAGGGLLHLTLLLSLAGLRVDLDLYLLLPPPTLLQDEL...  ENST00000056233  \n",
       "4     MDFDERGPCSSNMYLPSCTYYVSGPDFSSLPSFLPQTPSSRPMTYS...  ENST00000006015  \n",
       "...                                                 ...              ...  \n",
       "1553  MHKKRVEEGEASDFSLAWDSSVTAAGGLEGEPECDQKTSRALEDRN...  ENST00000561648  \n",
       "1554  MPSPVDASSADGGSGLGSHRRKRTTFSKGQLLELERAFAAWPYPNI...  ENST00000536498  \n",
       "1555  MFTMTRAMEEALFQHFMHQKLGIAYAIHKPFPFFEGLLDNSIITKR...  ENST00000698099  \n",
       "1556  MASNSLFSTVTPCQQNFFWDPSTSRRFSPPSSSLQPGKMSDVSPVV...  ENST00000647337  \n",
       "1557  MAQSTATSPDGGTTFEHLWSSLEPDSTYFDLPQSSRGNNEVVGGTD...  ENST00000713572  \n",
       "\n",
       "[1558 rows x 3 columns]"
      ]
     },
     "execution_count": 142,
     "metadata": {},
     "output_type": "execute_result"
    }
   ],
   "source": [
    "new_prot"
   ]
  },
  {
   "cell_type": "code",
   "execution_count": 145,
   "id": "d0d560d9-6cd3-4309-a1cb-17634548ca79",
   "metadata": {
    "scrolled": true
   },
   "outputs": [],
   "source": [
    "for i in new_prot.index:\n",
    "    row = new_prot.iloc[i]\n",
    "    proteins[row[\"ENST\"]] = row[\"seq\"]"
   ]
  },
  {
   "cell_type": "code",
   "execution_count": 146,
   "id": "8db6c7f0-15a2-4011-9cac-a1bb80266312",
   "metadata": {},
   "outputs": [],
   "source": [
    "for i in new_dna.index:\n",
    "    row = new_dna.iloc[i]\n",
    "    dna_transcripts[row[\"ENST\"]] = row[\"seq\"]"
   ]
  },
  {
   "cell_type": "code",
   "execution_count": 147,
   "id": "d99833d6-170a-487f-975b-fe9d277d40a6",
   "metadata": {},
   "outputs": [
    {
     "data": {
      "text/plain": [
       "'MEEPQSDPSVEPPLSQETFSDLWKLLPENNVLSPLPSQAMDDLMLSPDDIEQWFTEDPGPDEAPRMPEAAPPVAPAPAAPTPAAPAPAPSWPLSSSVPSQKTYQGSYGFRLGFLHSGTAKSVTCTYSPALNKMFCQLAKTCPVQLWVDSTPPPGTRVRAMAIYKQSQHMTEVVRRCPHHERCSDSDGLAPPQHLIRVEGNLRVEYLDDRNTFRHSVVVPYEPPEVGSDCTTIHYNYMCNSSCMGGMNRRPILTIITLEDSSGNLLGRNSFEVRVCACPGRDRRTEEENLRKKGEPHHELPPGSTKRALPNNTSSSPQPKKKPLDGEYFTLQIRGRERFEMFRELNEALELKDAQAGKEPGGSRAHSSHLKSKKGQSTSRHKKLMFKTEGPDSD'"
      ]
     },
     "execution_count": 147,
     "metadata": {},
     "output_type": "execute_result"
    }
   ],
   "source": [
    "proteins[\"ENST00000508793\"]"
   ]
  },
  {
   "cell_type": "code",
   "execution_count": 148,
   "id": "d91d7580-dd14-4b23-8f9f-61b82bb2659f",
   "metadata": {},
   "outputs": [
    {
     "data": {
      "text/plain": [
       "'ATGGAGGAGCCGCAGTCAGATCCTAGCGTCGAGCCCCCTCTGAGTCAGGAAACATTTTCAGACCTATGGAAACTACTTCCTGAAAACAACGTTCTGTCCCCCTTGCCGTCCCAAGCAATGGATGATTTGATGCTGTCCCCGGACGATATTGAACAATGGTTCACTGAAGACCCAGGTCCAGATGAAGCTCCCAGAATGCCAGAGGCTGCTCCCCCCGTGGCCCCTGCACCAGCAGCTCCTACACCGGCGGCCCCTGCACCAGCCCCCTCCTGGCCCCTGTCATCTTCTGTCCCTTCCCAGAAAACCTACCAGGGCAGCTACGGTTTCCGTCTGGGCTTCTTGCATTCTGGGACAGCCAAGTCTGTGACTTGCACGTACTCCCCTGCCCTCAACAAGATGTTTTGCCAACTGGCCAAGACCTGCCCTGTGCAGCTGTGGGTTGATTCCACACCCCCGCCCGGCACCCGCGTCCGCGCCATGGCCATCTACAAGCAGTCACAGCACATGACGGAGGTTGTGAGGCGCTGCCCCCACCATGAGCGCTGCTCAGATAGCGATGGTCTGGCCCCTCCTCAGCATCTTATCCGAGTGGAAGGAAATTTGCGTGTGGAGTATTTGGATGACAGAAACACTTTTCGACATAGTGTGGTGGTGCCCTATGAGCCGCCTGAGGTTGGCTCTGACTGTACCACCATCCACTACAACTACATGTGTAACAGTTCCTGCATGGGCGGCATGAACCGGAGGCCCATCCTCACCATCATCACACTGGAAGACTCCAGTGGTAATCTACTGGGACGGAACAGCTTTGAGGTGCGTGTTTGTGCCTGTCCTGGGAGAGACCGGCGCACAGAGGAAGAGAATCTCCGCAAGAAAGGGGAGCCTCACCACGAGCTGCCCCCAGGGAGCACTAAGCGAGCACTGCCCAACAACACCAGCTCCTCTCCCCAGCCAAAGAAGAAACCACTGGATGGAGAATATTTCACCCTTCAGATCCGTGGGCGTGAGCGCTTCGAGATGTTCCGAGAGCTGAATGAGGCCTTGGAACTCAAGGATGCCCAGGCTGGGAAGGAGCCAGGGGGGAGCAGGGCTCACTCCAGCCACCTGAAGTCCAAAAAGGGTCAGTCTACCTCCCGCCATAAAAAACTCATGTTCAAGACAGAAGGGCCTGACTCAGACTGA'"
      ]
     },
     "execution_count": 148,
     "metadata": {},
     "output_type": "execute_result"
    }
   ],
   "source": [
    "dna_transcripts[\"ENST00000508793\"]"
   ]
  },
  {
   "cell_type": "code",
   "execution_count": 149,
   "id": "44fe8236-d2ff-44ba-b634-df5e9b17c542",
   "metadata": {},
   "outputs": [],
   "source": [
    "# Saving both as pickle files\n",
    "pickle.dump(proteins, open('../raw_files/proteins.dat', 'wb'))\n",
    "pickle.dump(dna_transcripts, open('../raw_files/dna_transcripts.dat', 'wb'))"
   ]
  },
  {
   "cell_type": "code",
   "execution_count": null,
   "id": "a2886534-4cf1-42f5-a2dd-c77834953da9",
   "metadata": {},
   "outputs": [],
   "source": []
  },
  {
   "cell_type": "code",
   "execution_count": null,
   "id": "1224959a-14db-4bf4-9244-23d76c70e791",
   "metadata": {},
   "outputs": [],
   "source": []
  },
  {
   "cell_type": "code",
   "execution_count": null,
   "id": "fd56e78b-9f27-4659-9a06-330534ce51ca",
   "metadata": {},
   "outputs": [],
   "source": []
  },
  {
   "cell_type": "code",
   "execution_count": null,
   "id": "96bd2e88-ee55-404c-b80e-97deb51004af",
   "metadata": {},
   "outputs": [],
   "source": []
  },
  {
   "cell_type": "code",
   "execution_count": null,
   "id": "b6473094-4886-4039-993b-d8e29df97ae2",
   "metadata": {},
   "outputs": [],
   "source": []
  }
 ],
 "metadata": {
  "kernelspec": {
   "display_name": "Python 3 (ipykernel)",
   "language": "python",
   "name": "python3"
  },
  "language_info": {
   "codemirror_mode": {
    "name": "ipython",
    "version": 3
   },
   "file_extension": ".py",
   "mimetype": "text/x-python",
   "name": "python",
   "nbconvert_exporter": "python",
   "pygments_lexer": "ipython3",
   "version": "3.10.9"
  }
 },
 "nbformat": 4,
 "nbformat_minor": 5
}
